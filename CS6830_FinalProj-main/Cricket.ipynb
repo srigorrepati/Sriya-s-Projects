{
  "nbformat": 4,
  "nbformat_minor": 0,
  "metadata": {
    "colab": {
      "provenance": [],
      "collapsed_sections": [
        "UQTDhXtGbc-y",
        "wO00NTWtadQI",
        "pqHzsdXSbWfm"
      ]
    },
    "kernelspec": {
      "name": "python3",
      "display_name": "Python 3"
    },
    "language_info": {
      "name": "python"
    }
  },
  "cells": [
    {
      "cell_type": "code",
      "execution_count": 51,
      "metadata": {
        "id": "UpCrqKb7tt0y"
      },
      "outputs": [],
      "source": [
        "import numpy as np, pandas as pd, math\n",
        "import requests, csv\n",
        "from bs4 import BeautifulSoup\n",
        "import seaborn as sns\n",
        "import matplotlib.pyplot as plt\n",
        "import warnings\n",
        "warnings.simplefilter(\"ignore\")"
      ]
    },
    {
      "cell_type": "markdown",
      "source": [
        "# **Data Collection**"
      ],
      "metadata": {
        "id": "UQTDhXtGbc-y"
      }
    },
    {
      "cell_type": "markdown",
      "source": [
        "#### Reading ball by ball data"
      ],
      "metadata": {
        "id": "1lZ7suKvdue4"
      }
    },
    {
      "cell_type": "code",
      "source": [
        "ipl_ball = pd.read_csv('ipl_match_ball_by_ball_data.csv')\n",
        "ipl_ball.head(3)"
      ],
      "metadata": {
        "colab": {
          "base_uri": "https://localhost:8080/",
          "height": 341
        },
        "id": "kr9fVYgSt2SC",
        "outputId": "d8f858ec-ab44-4d6a-a699-8e99067fbaa3"
      },
      "execution_count": 52,
      "outputs": [
        {
          "output_type": "execute_result",
          "data": {
            "text/plain": [
              "   match_id   season  start_date                  venue  innings  ball  \\\n",
              "0    335982  2007/08  2008-04-18  M Chinnaswamy Stadium        1   0.1   \n",
              "1    335982  2007/08  2008-04-18  M Chinnaswamy Stadium        1   0.2   \n",
              "2    335982  2007/08  2008-04-18  M Chinnaswamy Stadium        1   0.3   \n",
              "\n",
              "            batting_team                 bowling_team      striker  \\\n",
              "0  Kolkata Knight Riders  Royal Challengers Bangalore   SC Ganguly   \n",
              "1  Kolkata Knight Riders  Royal Challengers Bangalore  BB McCullum   \n",
              "2  Kolkata Knight Riders  Royal Challengers Bangalore  BB McCullum   \n",
              "\n",
              "   non_striker  ... extras  wides  noballs  byes  legbyes  penalty  \\\n",
              "0  BB McCullum  ...      1    NaN      NaN   NaN      1.0      NaN   \n",
              "1   SC Ganguly  ...      0    NaN      NaN   NaN      NaN      NaN   \n",
              "2   SC Ganguly  ...      1    1.0      NaN   NaN      NaN      NaN   \n",
              "\n",
              "   wicket_type  player_dismissed other_wicket_type other_player_dismissed  \n",
              "0          NaN               NaN               NaN                    NaN  \n",
              "1          NaN               NaN               NaN                    NaN  \n",
              "2          NaN               NaN               NaN                    NaN  \n",
              "\n",
              "[3 rows x 22 columns]"
            ],
            "text/html": [
              "\n",
              "  <div id=\"df-06054b95-3ec0-4f91-aa30-f40ba9c61cb9\">\n",
              "    <div class=\"colab-df-container\">\n",
              "      <div>\n",
              "<style scoped>\n",
              "    .dataframe tbody tr th:only-of-type {\n",
              "        vertical-align: middle;\n",
              "    }\n",
              "\n",
              "    .dataframe tbody tr th {\n",
              "        vertical-align: top;\n",
              "    }\n",
              "\n",
              "    .dataframe thead th {\n",
              "        text-align: right;\n",
              "    }\n",
              "</style>\n",
              "<table border=\"1\" class=\"dataframe\">\n",
              "  <thead>\n",
              "    <tr style=\"text-align: right;\">\n",
              "      <th></th>\n",
              "      <th>match_id</th>\n",
              "      <th>season</th>\n",
              "      <th>start_date</th>\n",
              "      <th>venue</th>\n",
              "      <th>innings</th>\n",
              "      <th>ball</th>\n",
              "      <th>batting_team</th>\n",
              "      <th>bowling_team</th>\n",
              "      <th>striker</th>\n",
              "      <th>non_striker</th>\n",
              "      <th>...</th>\n",
              "      <th>extras</th>\n",
              "      <th>wides</th>\n",
              "      <th>noballs</th>\n",
              "      <th>byes</th>\n",
              "      <th>legbyes</th>\n",
              "      <th>penalty</th>\n",
              "      <th>wicket_type</th>\n",
              "      <th>player_dismissed</th>\n",
              "      <th>other_wicket_type</th>\n",
              "      <th>other_player_dismissed</th>\n",
              "    </tr>\n",
              "  </thead>\n",
              "  <tbody>\n",
              "    <tr>\n",
              "      <th>0</th>\n",
              "      <td>335982</td>\n",
              "      <td>2007/08</td>\n",
              "      <td>2008-04-18</td>\n",
              "      <td>M Chinnaswamy Stadium</td>\n",
              "      <td>1</td>\n",
              "      <td>0.1</td>\n",
              "      <td>Kolkata Knight Riders</td>\n",
              "      <td>Royal Challengers Bangalore</td>\n",
              "      <td>SC Ganguly</td>\n",
              "      <td>BB McCullum</td>\n",
              "      <td>...</td>\n",
              "      <td>1</td>\n",
              "      <td>NaN</td>\n",
              "      <td>NaN</td>\n",
              "      <td>NaN</td>\n",
              "      <td>1.0</td>\n",
              "      <td>NaN</td>\n",
              "      <td>NaN</td>\n",
              "      <td>NaN</td>\n",
              "      <td>NaN</td>\n",
              "      <td>NaN</td>\n",
              "    </tr>\n",
              "    <tr>\n",
              "      <th>1</th>\n",
              "      <td>335982</td>\n",
              "      <td>2007/08</td>\n",
              "      <td>2008-04-18</td>\n",
              "      <td>M Chinnaswamy Stadium</td>\n",
              "      <td>1</td>\n",
              "      <td>0.2</td>\n",
              "      <td>Kolkata Knight Riders</td>\n",
              "      <td>Royal Challengers Bangalore</td>\n",
              "      <td>BB McCullum</td>\n",
              "      <td>SC Ganguly</td>\n",
              "      <td>...</td>\n",
              "      <td>0</td>\n",
              "      <td>NaN</td>\n",
              "      <td>NaN</td>\n",
              "      <td>NaN</td>\n",
              "      <td>NaN</td>\n",
              "      <td>NaN</td>\n",
              "      <td>NaN</td>\n",
              "      <td>NaN</td>\n",
              "      <td>NaN</td>\n",
              "      <td>NaN</td>\n",
              "    </tr>\n",
              "    <tr>\n",
              "      <th>2</th>\n",
              "      <td>335982</td>\n",
              "      <td>2007/08</td>\n",
              "      <td>2008-04-18</td>\n",
              "      <td>M Chinnaswamy Stadium</td>\n",
              "      <td>1</td>\n",
              "      <td>0.3</td>\n",
              "      <td>Kolkata Knight Riders</td>\n",
              "      <td>Royal Challengers Bangalore</td>\n",
              "      <td>BB McCullum</td>\n",
              "      <td>SC Ganguly</td>\n",
              "      <td>...</td>\n",
              "      <td>1</td>\n",
              "      <td>1.0</td>\n",
              "      <td>NaN</td>\n",
              "      <td>NaN</td>\n",
              "      <td>NaN</td>\n",
              "      <td>NaN</td>\n",
              "      <td>NaN</td>\n",
              "      <td>NaN</td>\n",
              "      <td>NaN</td>\n",
              "      <td>NaN</td>\n",
              "    </tr>\n",
              "  </tbody>\n",
              "</table>\n",
              "<p>3 rows × 22 columns</p>\n",
              "</div>\n",
              "      <button class=\"colab-df-convert\" onclick=\"convertToInteractive('df-06054b95-3ec0-4f91-aa30-f40ba9c61cb9')\"\n",
              "              title=\"Convert this dataframe to an interactive table.\"\n",
              "              style=\"display:none;\">\n",
              "        \n",
              "  <svg xmlns=\"http://www.w3.org/2000/svg\" height=\"24px\"viewBox=\"0 0 24 24\"\n",
              "       width=\"24px\">\n",
              "    <path d=\"M0 0h24v24H0V0z\" fill=\"none\"/>\n",
              "    <path d=\"M18.56 5.44l.94 2.06.94-2.06 2.06-.94-2.06-.94-.94-2.06-.94 2.06-2.06.94zm-11 1L8.5 8.5l.94-2.06 2.06-.94-2.06-.94L8.5 2.5l-.94 2.06-2.06.94zm10 10l.94 2.06.94-2.06 2.06-.94-2.06-.94-.94-2.06-.94 2.06-2.06.94z\"/><path d=\"M17.41 7.96l-1.37-1.37c-.4-.4-.92-.59-1.43-.59-.52 0-1.04.2-1.43.59L10.3 9.45l-7.72 7.72c-.78.78-.78 2.05 0 2.83L4 21.41c.39.39.9.59 1.41.59.51 0 1.02-.2 1.41-.59l7.78-7.78 2.81-2.81c.8-.78.8-2.07 0-2.86zM5.41 20L4 18.59l7.72-7.72 1.47 1.35L5.41 20z\"/>\n",
              "  </svg>\n",
              "      </button>\n",
              "      \n",
              "  <style>\n",
              "    .colab-df-container {\n",
              "      display:flex;\n",
              "      flex-wrap:wrap;\n",
              "      gap: 12px;\n",
              "    }\n",
              "\n",
              "    .colab-df-convert {\n",
              "      background-color: #E8F0FE;\n",
              "      border: none;\n",
              "      border-radius: 50%;\n",
              "      cursor: pointer;\n",
              "      display: none;\n",
              "      fill: #1967D2;\n",
              "      height: 32px;\n",
              "      padding: 0 0 0 0;\n",
              "      width: 32px;\n",
              "    }\n",
              "\n",
              "    .colab-df-convert:hover {\n",
              "      background-color: #E2EBFA;\n",
              "      box-shadow: 0px 1px 2px rgba(60, 64, 67, 0.3), 0px 1px 3px 1px rgba(60, 64, 67, 0.15);\n",
              "      fill: #174EA6;\n",
              "    }\n",
              "\n",
              "    [theme=dark] .colab-df-convert {\n",
              "      background-color: #3B4455;\n",
              "      fill: #D2E3FC;\n",
              "    }\n",
              "\n",
              "    [theme=dark] .colab-df-convert:hover {\n",
              "      background-color: #434B5C;\n",
              "      box-shadow: 0px 1px 3px 1px rgba(0, 0, 0, 0.15);\n",
              "      filter: drop-shadow(0px 1px 2px rgba(0, 0, 0, 0.3));\n",
              "      fill: #FFFFFF;\n",
              "    }\n",
              "  </style>\n",
              "\n",
              "      <script>\n",
              "        const buttonEl =\n",
              "          document.querySelector('#df-06054b95-3ec0-4f91-aa30-f40ba9c61cb9 button.colab-df-convert');\n",
              "        buttonEl.style.display =\n",
              "          google.colab.kernel.accessAllowed ? 'block' : 'none';\n",
              "\n",
              "        async function convertToInteractive(key) {\n",
              "          const element = document.querySelector('#df-06054b95-3ec0-4f91-aa30-f40ba9c61cb9');\n",
              "          const dataTable =\n",
              "            await google.colab.kernel.invokeFunction('convertToInteractive',\n",
              "                                                     [key], {});\n",
              "          if (!dataTable) return;\n",
              "\n",
              "          const docLinkHtml = 'Like what you see? Visit the ' +\n",
              "            '<a target=\"_blank\" href=https://colab.research.google.com/notebooks/data_table.ipynb>data table notebook</a>'\n",
              "            + ' to learn more about interactive tables.';\n",
              "          element.innerHTML = '';\n",
              "          dataTable['output_type'] = 'display_data';\n",
              "          await google.colab.output.renderOutput(dataTable, element);\n",
              "          const docLink = document.createElement('div');\n",
              "          docLink.innerHTML = docLinkHtml;\n",
              "          element.appendChild(docLink);\n",
              "        }\n",
              "      </script>\n",
              "    </div>\n",
              "  </div>\n",
              "  "
            ]
          },
          "metadata": {},
          "execution_count": 52
        }
      ]
    },
    {
      "cell_type": "markdown",
      "source": [
        "#### Reading Data related to matches (only) "
      ],
      "metadata": {
        "id": "vAj6IIiQd04q"
      }
    },
    {
      "cell_type": "code",
      "source": [
        "ipl_match = pd.read_csv('ipl_match_info_data.csv')\n",
        "ipl_match.head(3)"
      ],
      "metadata": {
        "colab": {
          "base_uri": "https://localhost:8080/",
          "height": 375
        },
        "id": "HsBm76yQdc_s",
        "outputId": "88843dfa-2ae7-40f1-d184-3e997d7b2053"
      },
      "execution_count": 53,
      "outputs": [
        {
          "output_type": "execute_result",
          "data": {
            "text/plain": [
              "   match_id   season        date        city  \\\n",
              "0    335982  2007/08  2008-04-18   Bangalore   \n",
              "1    335983  2007/08  2008-04-19  Chandigarh   \n",
              "2    335984  2007/08  2008-04-19       Delhi   \n",
              "\n",
              "                                        venue                        team1  \\\n",
              "0                       M Chinnaswamy Stadium  Royal Challengers Bangalore   \n",
              "1  Punjab Cricket Association Stadium, Mohali              Kings XI Punjab   \n",
              "2                            Feroz Shah Kotla             Delhi Daredevils   \n",
              "\n",
              "                   team2                  toss_winner toss_decision  \\\n",
              "0  Kolkata Knight Riders  Royal Challengers Bangalore         field   \n",
              "1    Chennai Super Kings          Chennai Super Kings           bat   \n",
              "2       Rajasthan Royals             Rajasthan Royals           bat   \n",
              "\n",
              "  player_of_match  ...                  event  match_number    umpire1  \\\n",
              "0     BB McCullum  ...  Indian Premier League           1.0  Asad Rauf   \n",
              "1      MEK Hussey  ...  Indian Premier League           2.0  MR Benson   \n",
              "2     MF Maharoof  ...  Indian Premier League           3.0  Aleem Dar   \n",
              "\n",
              "          umpire2 reserve_umpire  tv_umpire      match_referee eliminator  \\\n",
              "0     RE Koertzen    VN Kulkarni  AM Saheba          J Srinath        NaN   \n",
              "1      SL Shastri    MSS Ranawat  RB Tiffin  S Venkataraghavan        NaN   \n",
              "2  GA Pratapkumar            NaN  IL Howell       GR Viswanath        NaN   \n",
              "\n",
              "   method date_1  \n",
              "0     NaN    NaN  \n",
              "1     NaN    NaN  \n",
              "2     NaN    NaN  \n",
              "\n",
              "[3 rows x 27 columns]"
            ],
            "text/html": [
              "\n",
              "  <div id=\"df-4ff92a57-1e62-4b17-849c-f4b509be98ce\">\n",
              "    <div class=\"colab-df-container\">\n",
              "      <div>\n",
              "<style scoped>\n",
              "    .dataframe tbody tr th:only-of-type {\n",
              "        vertical-align: middle;\n",
              "    }\n",
              "\n",
              "    .dataframe tbody tr th {\n",
              "        vertical-align: top;\n",
              "    }\n",
              "\n",
              "    .dataframe thead th {\n",
              "        text-align: right;\n",
              "    }\n",
              "</style>\n",
              "<table border=\"1\" class=\"dataframe\">\n",
              "  <thead>\n",
              "    <tr style=\"text-align: right;\">\n",
              "      <th></th>\n",
              "      <th>match_id</th>\n",
              "      <th>season</th>\n",
              "      <th>date</th>\n",
              "      <th>city</th>\n",
              "      <th>venue</th>\n",
              "      <th>team1</th>\n",
              "      <th>team2</th>\n",
              "      <th>toss_winner</th>\n",
              "      <th>toss_decision</th>\n",
              "      <th>player_of_match</th>\n",
              "      <th>...</th>\n",
              "      <th>event</th>\n",
              "      <th>match_number</th>\n",
              "      <th>umpire1</th>\n",
              "      <th>umpire2</th>\n",
              "      <th>reserve_umpire</th>\n",
              "      <th>tv_umpire</th>\n",
              "      <th>match_referee</th>\n",
              "      <th>eliminator</th>\n",
              "      <th>method</th>\n",
              "      <th>date_1</th>\n",
              "    </tr>\n",
              "  </thead>\n",
              "  <tbody>\n",
              "    <tr>\n",
              "      <th>0</th>\n",
              "      <td>335982</td>\n",
              "      <td>2007/08</td>\n",
              "      <td>2008-04-18</td>\n",
              "      <td>Bangalore</td>\n",
              "      <td>M Chinnaswamy Stadium</td>\n",
              "      <td>Royal Challengers Bangalore</td>\n",
              "      <td>Kolkata Knight Riders</td>\n",
              "      <td>Royal Challengers Bangalore</td>\n",
              "      <td>field</td>\n",
              "      <td>BB McCullum</td>\n",
              "      <td>...</td>\n",
              "      <td>Indian Premier League</td>\n",
              "      <td>1.0</td>\n",
              "      <td>Asad Rauf</td>\n",
              "      <td>RE Koertzen</td>\n",
              "      <td>VN Kulkarni</td>\n",
              "      <td>AM Saheba</td>\n",
              "      <td>J Srinath</td>\n",
              "      <td>NaN</td>\n",
              "      <td>NaN</td>\n",
              "      <td>NaN</td>\n",
              "    </tr>\n",
              "    <tr>\n",
              "      <th>1</th>\n",
              "      <td>335983</td>\n",
              "      <td>2007/08</td>\n",
              "      <td>2008-04-19</td>\n",
              "      <td>Chandigarh</td>\n",
              "      <td>Punjab Cricket Association Stadium, Mohali</td>\n",
              "      <td>Kings XI Punjab</td>\n",
              "      <td>Chennai Super Kings</td>\n",
              "      <td>Chennai Super Kings</td>\n",
              "      <td>bat</td>\n",
              "      <td>MEK Hussey</td>\n",
              "      <td>...</td>\n",
              "      <td>Indian Premier League</td>\n",
              "      <td>2.0</td>\n",
              "      <td>MR Benson</td>\n",
              "      <td>SL Shastri</td>\n",
              "      <td>MSS Ranawat</td>\n",
              "      <td>RB Tiffin</td>\n",
              "      <td>S Venkataraghavan</td>\n",
              "      <td>NaN</td>\n",
              "      <td>NaN</td>\n",
              "      <td>NaN</td>\n",
              "    </tr>\n",
              "    <tr>\n",
              "      <th>2</th>\n",
              "      <td>335984</td>\n",
              "      <td>2007/08</td>\n",
              "      <td>2008-04-19</td>\n",
              "      <td>Delhi</td>\n",
              "      <td>Feroz Shah Kotla</td>\n",
              "      <td>Delhi Daredevils</td>\n",
              "      <td>Rajasthan Royals</td>\n",
              "      <td>Rajasthan Royals</td>\n",
              "      <td>bat</td>\n",
              "      <td>MF Maharoof</td>\n",
              "      <td>...</td>\n",
              "      <td>Indian Premier League</td>\n",
              "      <td>3.0</td>\n",
              "      <td>Aleem Dar</td>\n",
              "      <td>GA Pratapkumar</td>\n",
              "      <td>NaN</td>\n",
              "      <td>IL Howell</td>\n",
              "      <td>GR Viswanath</td>\n",
              "      <td>NaN</td>\n",
              "      <td>NaN</td>\n",
              "      <td>NaN</td>\n",
              "    </tr>\n",
              "  </tbody>\n",
              "</table>\n",
              "<p>3 rows × 27 columns</p>\n",
              "</div>\n",
              "      <button class=\"colab-df-convert\" onclick=\"convertToInteractive('df-4ff92a57-1e62-4b17-849c-f4b509be98ce')\"\n",
              "              title=\"Convert this dataframe to an interactive table.\"\n",
              "              style=\"display:none;\">\n",
              "        \n",
              "  <svg xmlns=\"http://www.w3.org/2000/svg\" height=\"24px\"viewBox=\"0 0 24 24\"\n",
              "       width=\"24px\">\n",
              "    <path d=\"M0 0h24v24H0V0z\" fill=\"none\"/>\n",
              "    <path d=\"M18.56 5.44l.94 2.06.94-2.06 2.06-.94-2.06-.94-.94-2.06-.94 2.06-2.06.94zm-11 1L8.5 8.5l.94-2.06 2.06-.94-2.06-.94L8.5 2.5l-.94 2.06-2.06.94zm10 10l.94 2.06.94-2.06 2.06-.94-2.06-.94-.94-2.06-.94 2.06-2.06.94z\"/><path d=\"M17.41 7.96l-1.37-1.37c-.4-.4-.92-.59-1.43-.59-.52 0-1.04.2-1.43.59L10.3 9.45l-7.72 7.72c-.78.78-.78 2.05 0 2.83L4 21.41c.39.39.9.59 1.41.59.51 0 1.02-.2 1.41-.59l7.78-7.78 2.81-2.81c.8-.78.8-2.07 0-2.86zM5.41 20L4 18.59l7.72-7.72 1.47 1.35L5.41 20z\"/>\n",
              "  </svg>\n",
              "      </button>\n",
              "      \n",
              "  <style>\n",
              "    .colab-df-container {\n",
              "      display:flex;\n",
              "      flex-wrap:wrap;\n",
              "      gap: 12px;\n",
              "    }\n",
              "\n",
              "    .colab-df-convert {\n",
              "      background-color: #E8F0FE;\n",
              "      border: none;\n",
              "      border-radius: 50%;\n",
              "      cursor: pointer;\n",
              "      display: none;\n",
              "      fill: #1967D2;\n",
              "      height: 32px;\n",
              "      padding: 0 0 0 0;\n",
              "      width: 32px;\n",
              "    }\n",
              "\n",
              "    .colab-df-convert:hover {\n",
              "      background-color: #E2EBFA;\n",
              "      box-shadow: 0px 1px 2px rgba(60, 64, 67, 0.3), 0px 1px 3px 1px rgba(60, 64, 67, 0.15);\n",
              "      fill: #174EA6;\n",
              "    }\n",
              "\n",
              "    [theme=dark] .colab-df-convert {\n",
              "      background-color: #3B4455;\n",
              "      fill: #D2E3FC;\n",
              "    }\n",
              "\n",
              "    [theme=dark] .colab-df-convert:hover {\n",
              "      background-color: #434B5C;\n",
              "      box-shadow: 0px 1px 3px 1px rgba(0, 0, 0, 0.15);\n",
              "      filter: drop-shadow(0px 1px 2px rgba(0, 0, 0, 0.3));\n",
              "      fill: #FFFFFF;\n",
              "    }\n",
              "  </style>\n",
              "\n",
              "      <script>\n",
              "        const buttonEl =\n",
              "          document.querySelector('#df-4ff92a57-1e62-4b17-849c-f4b509be98ce button.colab-df-convert');\n",
              "        buttonEl.style.display =\n",
              "          google.colab.kernel.accessAllowed ? 'block' : 'none';\n",
              "\n",
              "        async function convertToInteractive(key) {\n",
              "          const element = document.querySelector('#df-4ff92a57-1e62-4b17-849c-f4b509be98ce');\n",
              "          const dataTable =\n",
              "            await google.colab.kernel.invokeFunction('convertToInteractive',\n",
              "                                                     [key], {});\n",
              "          if (!dataTable) return;\n",
              "\n",
              "          const docLinkHtml = 'Like what you see? Visit the ' +\n",
              "            '<a target=\"_blank\" href=https://colab.research.google.com/notebooks/data_table.ipynb>data table notebook</a>'\n",
              "            + ' to learn more about interactive tables.';\n",
              "          element.innerHTML = '';\n",
              "          dataTable['output_type'] = 'display_data';\n",
              "          await google.colab.output.renderOutput(dataTable, element);\n",
              "          const docLink = document.createElement('div');\n",
              "          docLink.innerHTML = docLinkHtml;\n",
              "          element.appendChild(docLink);\n",
              "        }\n",
              "      </script>\n",
              "    </div>\n",
              "  </div>\n",
              "  "
            ]
          },
          "metadata": {},
          "execution_count": 53
        }
      ]
    },
    {
      "cell_type": "markdown",
      "source": [
        "#### Obtaining actual List of Total Indian Premier League (IPL) players from wikipedia"
      ],
      "metadata": {
        "id": "28jokZp8d_LC"
      }
    },
    {
      "cell_type": "code",
      "source": [
        "url = 'https://en.wikipedia.org/wiki/List_of_Indian_Premier_League_players'\n",
        "response = requests.get(url)\n",
        "soup = BeautifulSoup(response.content, 'html.parser')\n",
        "\n",
        "table = soup.find('table', {'class': 'wikitable sortable'})\n",
        "\n",
        "rows = table.find_all('tr')[1:]\n",
        "\n",
        "Total_IPL_players = []\n",
        "\n",
        "for row in rows:\n",
        "    cols = row.find_all('td')\n",
        "    name = cols[0].text.strip()\n",
        "    country = cols[4].text.strip()\n",
        "    Total_IPL_players.append({'Name': name, 'Country': country})\n",
        "\n",
        "print('\\n Total IPL players ---',len(Total_IPL_players))"
      ],
      "metadata": {
        "id": "FBA5PmJiacZK",
        "colab": {
          "base_uri": "https://localhost:8080/"
        },
        "outputId": "247b6ab7-1a2c-4c82-b7b2-68f001e84f28"
      },
      "execution_count": 54,
      "outputs": [
        {
          "output_type": "stream",
          "name": "stdout",
          "text": [
            "\n",
            " Total IPL players --- 923\n"
          ]
        }
      ]
    },
    {
      "cell_type": "markdown",
      "source": [
        "# **Data Preprocessing**\n",
        "\n",
        "\n",
        "---\n",
        "\n",
        "\n"
      ],
      "metadata": {
        "id": "wO00NTWtadQI"
      }
    },
    {
      "cell_type": "markdown",
      "source": [
        "#### In IPL 2020, Teams batting first have won 75% (21) of the 28 matches, while chasing sides have won only seven games. Five of the seven wins by hasing teams were completed in the final over. This is because of climatic conditions in UAE and difference in cricket pitch. So to make data more meaningful, we removed 2020 IPL data."
      ],
      "metadata": {
        "id": "p1tAjY-yn-cX"
      }
    },
    {
      "cell_type": "code",
      "source": [
        "# Formatting the Data\n",
        "\n",
        "print('Seasons in ipl_ball df', ipl_ball['season'].unique())\n",
        "# Updating seasons column to string \n",
        "counter_2020 =0 \n",
        "for i in range(len(ipl_ball)):\n",
        "  if ipl_ball['season'][i] == 2012 : ipl_ball['season'][i] = '2012'\n",
        "  if ipl_ball['season'][i] == 2013 : ipl_ball['season'][i] = '2013'\n",
        "  if ipl_ball['season'][i] == 2014 : ipl_ball['season'][i] = '2014'\n",
        "  if ipl_ball['season'][i] == 2015 : ipl_ball['season'][i] = '2015'\n",
        "  if ipl_ball['season'][i] == 2016 : ipl_ball['season'][i] = '2016'\n",
        "  if ipl_ball['season'][i] == 2017 : ipl_ball['season'][i] = '2017'\n",
        "  if ipl_ball['season'][i] == 2018 : ipl_ball['season'][i] = '2018'\n",
        "  if ipl_ball['season'][i] == 2019 : ipl_ball['season'][i] = '2019'\n",
        "  if ipl_ball['season'][i] == '2020/21': \n",
        "    counter_2020+=1\n",
        "  if ipl_ball['season'][i] == 2021 : ipl_ball['season'][i] = '2021'\n",
        "  if ipl_ball['season'][i] == 2022 : ipl_ball['season'][i] = '2022'\n",
        "\n",
        "print('\\n Seasons in ipl_ball df (before formatting)', ipl_ball['season'].unique())\n",
        "print('Seasons in ipl_match df', ipl_match['season'].unique())\n",
        "\n",
        "print('Total number of balls bowled in IPL 2020  = ',counter_2020)\n",
        "\n",
        "match_2020 = 0 \n",
        "for i in range(len(ipl_match)):\n",
        "  if ipl_match['season'][i] == '2020/21': match_2020+=1\n",
        "print(\"Total number of matches played in 2020 IPL \", match_2020)\n",
        "\n",
        "ipl_ball1 = ipl_ball[ipl_ball.season != \"2020/21\"]\n",
        "ipl_match1 = ipl_match[ipl_match.season != \"2020/21\"]\n"
      ],
      "metadata": {
        "colab": {
          "base_uri": "https://localhost:8080/"
        },
        "id": "cjqyM7CydYqS",
        "outputId": "fa0d9635-ce4a-46d9-b7f9-f5579ae27524"
      },
      "execution_count": 55,
      "outputs": [
        {
          "output_type": "stream",
          "name": "stdout",
          "text": [
            "Seasons in ipl_ball df ['2007/08' '2009' '2009/10' '2011' '2012' 2012 2013 2014 2015 2016 2017\n",
            " 2019 2018 '2018' '2019' '2020/21' '2021' 2021 2022]\n",
            "\n",
            " Seasons in ipl_ball df (before formatting) ['2007/08' '2009' '2009/10' '2011' '2012' '2013' '2014' '2015' '2016'\n",
            " '2017' '2019' '2018' '2020/21' '2021' '2022']\n",
            "Seasons in ipl_match df ['2007/08' '2009' '2009/10' '2011' '2012' '2013' '2014' '2015' '2016'\n",
            " '2017' '2018' '2019' '2020/21' '2021' '2022']\n",
            "Total number of balls bowled in IPL 2020  =  14559\n",
            "Total number of matches played in 2020 IPL  60\n"
          ]
        }
      ]
    },
    {
      "cell_type": "code",
      "source": [
        "print('\\n Total number of balls bowled in IPL  = ', len(ipl_ball))\n",
        "print(\"\\n Total number of matches played = \", len(ipl_match))\n",
        "print('\\n Total number of balls bowled in IPL (after formatting) = ', len(ipl_ball1))\n",
        "print(\"\\n Total number of matches played (after formatting) = \", len(ipl_match1))  \n",
        "print('\\n \\n Seasons in ipl_ball df (after formatting)', ipl_ball1['season'].unique())\n",
        "print('\\n Seasons in ipl_match df', ipl_match1['season'].unique())"
      ],
      "metadata": {
        "id": "OZzjAUt-KeDJ",
        "colab": {
          "base_uri": "https://localhost:8080/"
        },
        "outputId": "aede6ddf-e66a-48a3-cc82-5cd55ef0ec22"
      },
      "execution_count": 56,
      "outputs": [
        {
          "output_type": "stream",
          "name": "stdout",
          "text": [
            "\n",
            " Total number of balls bowled in IPL  =  225954\n",
            "\n",
            " Total number of matches played =  950\n",
            "\n",
            " Total number of balls bowled in IPL (after formatting) =  211395\n",
            "\n",
            " Total number of matches played (after formatting) =  890\n",
            "\n",
            " \n",
            " Seasons in ipl_ball df (after formatting) ['2007/08' '2009' '2009/10' '2011' '2012' '2013' '2014' '2015' '2016'\n",
            " '2017' '2019' '2018' '2021' '2022']\n",
            "\n",
            " Seasons in ipl_match df ['2007/08' '2009' '2009/10' '2011' '2012' '2013' '2014' '2015' '2016'\n",
            " '2017' '2018' '2019' '2021' '2022']\n"
          ]
        }
      ]
    },
    {
      "cell_type": "markdown",
      "source": [
        "#### Inconsistency in Teams' names\n",
        "##### Many new teams came up and Few teams dissolved because of various reasons. So, many data more consistency by make them as single teams. Defunct teams -->  Deccan Chargers, Gujarat Lions, Kochi Tuskers Kerala, Pune Warriors India, Rising Pune Supergiant\n",
        "1. Delhi Daredevils and Delhi Capitals  are same\n",
        "2. Kings XI Punjab and Punjab Kings are same\n",
        "3. Rising Pune Supergiant and Rising Pune Supergiants"
      ],
      "metadata": {
        "id": "DZ-fFWX2ec6o"
      }
    },
    {
      "cell_type": "code",
      "source": [
        "# IPL Teams \n",
        "winner_counts = ipl_match1['winner'].value_counts()\n",
        "print('Teams and their wins ')\n",
        "print('\\n')\n",
        "print(winner_counts)"
      ],
      "metadata": {
        "colab": {
          "base_uri": "https://localhost:8080/"
        },
        "id": "g9GbZX6IJ9L-",
        "outputId": "a3d6329f-01fb-4b4a-83b3-87305a1796f2"
      },
      "execution_count": 57,
      "outputs": [
        {
          "output_type": "stream",
          "name": "stdout",
          "text": [
            "Teams and their wins \n",
            "\n",
            "\n",
            "Mumbai Indians                 118\n",
            "Chennai Super Kings            115\n",
            "Kolkata Knight Riders          107\n",
            "Royal Challengers Bangalore    101\n",
            "Rajasthan Royals                88\n",
            "Kings XI Punjab                 80\n",
            "Delhi Daredevils                67\n",
            "Sunrisers Hyderabad             66\n",
            "Deccan Chargers                 29\n",
            "Delhi Capitals                  25\n",
            "Punjab Kings                    13\n",
            "Gujarat Lions                   13\n",
            "Pune Warriors                   12\n",
            "Gujarat Titans                  12\n",
            "Rising Pune Supergiant          10\n",
            "Lucknow Super Giants             9\n",
            "Kochi Tuskers Kerala             6\n",
            "Rising Pune Supergiants          5\n",
            "Name: winner, dtype: int64\n"
          ]
        }
      ]
    },
    {
      "cell_type": "code",
      "source": [
        "# -- 1. replace 'Delhi Daredevils' with 'Delhi Capitals' in 'team1', 'team2', and 'winner' columns\n",
        "ipl_match1 = ipl_match1.replace({'team1': 'Delhi Daredevils', 'team2': 'Delhi Daredevils', 'winner': 'Delhi Daredevils'}, 'Delhi Capitals')\n",
        "ipl_ball1 = ipl_ball1.replace({'batting_team': 'Delhi Daredevils', 'bowling_team': 'Delhi Daredevils'}, 'Delhi Capitals')\n",
        "# -- 2. replace 'Kings XI Punjab' with 'Punjab Kings' in 'team1', 'team2', and 'winner' columns\n",
        "ipl_match1 = ipl_match1.replace({'team1': 'Kings XI Punjab', 'team2': 'Kings XI Punjab', 'winner': 'Kings XI Punjab'}, 'Punjab Kings')\n",
        "ipl_ball1 = ipl_ball1.replace({'batting_team': 'Kings XI Punjab', 'bowling_team': 'Kings XI Punjab'}, 'Punjab Kings')\n",
        "# -- 3. replace 'Rising Pune Supergiant' with 'Delhi Capitals' in 'team1', 'team2', and 'winner' columns\n",
        "ipl_match1 = ipl_match1.replace({'team1': 'Rising Pune Supergiant', 'team2': 'Rising Pune Supergiant', 'winner': 'Rising Pune Supergiant'}, 'Rising Pune Supergiants')\n",
        "ipl_ball1 = ipl_ball1.replace({'batting_team': 'Rising Pune Supergiant', 'bowling_team': 'Rising Pune Supergiant'}, 'Rising Pune Supergiants')\n",
        "\n",
        "print('Teams after data formatting \\n')\n",
        "winner_counts = ipl_match1['winner'].value_counts() \n",
        "print(winner_counts)"
      ],
      "metadata": {
        "colab": {
          "base_uri": "https://localhost:8080/"
        },
        "id": "eJ9zSMrtMQH7",
        "outputId": "2246b82f-3b95-47b2-a22b-208c6746ad26"
      },
      "execution_count": 58,
      "outputs": [
        {
          "output_type": "stream",
          "name": "stdout",
          "text": [
            "Teams after data formatting \n",
            "\n",
            "Mumbai Indians                 118\n",
            "Chennai Super Kings            115\n",
            "Kolkata Knight Riders          107\n",
            "Royal Challengers Bangalore    101\n",
            "Punjab Kings                    93\n",
            "Delhi Capitals                  92\n",
            "Rajasthan Royals                88\n",
            "Sunrisers Hyderabad             66\n",
            "Deccan Chargers                 29\n",
            "Rising Pune Supergiants         15\n",
            "Gujarat Lions                   13\n",
            "Pune Warriors                   12\n",
            "Gujarat Titans                  12\n",
            "Lucknow Super Giants             9\n",
            "Kochi Tuskers Kerala             6\n",
            "Name: winner, dtype: int64\n"
          ]
        }
      ]
    },
    {
      "cell_type": "markdown",
      "source": [
        "#### Inconsistency in venues\n",
        "\n",
        "1. M Chinnaswamy Stadium = M.Chinnaswamy Stadium\n",
        "2.Brabourne Stadium, Mumbai = Brabourne Stadium, Mumbai\n",
        "4. Punjab Cricket Association IS Bindra Stadium, Mohali = Punjab Cricket Association Stadium, Mohali = Punjab Cricket Association IS Bindra Stadium\n",
        "5. MA Chidambaram Stadium, Chepauk, Chennai = MA Chidambaram Stadium, Chepauk = MA Chidambaram Stadium, Chepauk\n",
        "6. Wankhede Stadium, Mumbai = Wankhede Stadium \n",
        "7. Eden Gardens, Kolkata = Eden Gardens\n",
        "8. Rajiv Gandhi International Stadium, Uppal = Rajiv Gandhi International Stadium\n",
        "9. Dr DY Patil Sports Academy, Mumbai = Dr DY Patil Sports Academy\n",
        "10. Maharashtra Cricket Association Stadium, Pune = Maharashtra Cricket Association Stadium\n",
        "11. Arun Jaitley Stadium, Delhi = Arun Jaitley Stadium"
      ],
      "metadata": {
        "id": "X_AsmO9XeYmY"
      }
    },
    {
      "cell_type": "code",
      "source": [
        "print(len(ipl_match1['venue'].unique()))\n",
        "ipl_match1['venue'].unique()"
      ],
      "metadata": {
        "colab": {
          "base_uri": "https://localhost:8080/"
        },
        "id": "XXM82z1Md_Ew",
        "outputId": "873f127c-9201-40a4-bc99-71a06d8e0d5c"
      },
      "execution_count": 59,
      "outputs": [
        {
          "output_type": "stream",
          "name": "stdout",
          "text": [
            "49\n"
          ]
        },
        {
          "output_type": "execute_result",
          "data": {
            "text/plain": [
              "array(['M Chinnaswamy Stadium',\n",
              "       'Punjab Cricket Association Stadium, Mohali', 'Feroz Shah Kotla',\n",
              "       'Wankhede Stadium', 'Eden Gardens', 'Sawai Mansingh Stadium',\n",
              "       'Rajiv Gandhi International Stadium, Uppal',\n",
              "       'MA Chidambaram Stadium, Chepauk', 'Dr DY Patil Sports Academy',\n",
              "       'Newlands', \"St George's Park\", 'Kingsmead', 'SuperSport Park',\n",
              "       'Buffalo Park', 'New Wanderers Stadium', 'De Beers Diamond Oval',\n",
              "       'OUTsurance Oval', 'Brabourne Stadium',\n",
              "       'Sardar Patel Stadium, Motera', 'Barabati Stadium',\n",
              "       'Brabourne Stadium, Mumbai',\n",
              "       'Vidarbha Cricket Association Stadium, Jamtha',\n",
              "       'Himachal Pradesh Cricket Association Stadium', 'Nehru Stadium',\n",
              "       'Holkar Cricket Stadium',\n",
              "       'Dr. Y.S. Rajasekhara Reddy ACA-VDCA Cricket Stadium',\n",
              "       'Subrata Roy Sahara Stadium',\n",
              "       'Maharashtra Cricket Association Stadium',\n",
              "       'Shaheed Veer Narayan Singh International Stadium',\n",
              "       'JSCA International Stadium Complex', 'Sheikh Zayed Stadium',\n",
              "       'Sharjah Cricket Stadium', 'Dubai International Cricket Stadium',\n",
              "       'Punjab Cricket Association IS Bindra Stadium, Mohali',\n",
              "       'Saurashtra Cricket Association Stadium', 'Green Park',\n",
              "       'M.Chinnaswamy Stadium',\n",
              "       'Punjab Cricket Association IS Bindra Stadium',\n",
              "       'Rajiv Gandhi International Stadium', 'MA Chidambaram Stadium',\n",
              "       'Arun Jaitley Stadium', 'MA Chidambaram Stadium, Chepauk, Chennai',\n",
              "       'Wankhede Stadium, Mumbai', 'Narendra Modi Stadium, Ahmedabad',\n",
              "       'Arun Jaitley Stadium, Delhi', 'Zayed Cricket Stadium, Abu Dhabi',\n",
              "       'Dr DY Patil Sports Academy, Mumbai',\n",
              "       'Maharashtra Cricket Association Stadium, Pune',\n",
              "       'Eden Gardens, Kolkata'], dtype=object)"
            ]
          },
          "metadata": {},
          "execution_count": 59
        }
      ]
    },
    {
      "cell_type": "code",
      "source": [
        "print(len(ipl_ball1['venue'].unique()))\n",
        "ipl_ball1['venue'].unique()"
      ],
      "metadata": {
        "colab": {
          "base_uri": "https://localhost:8080/"
        },
        "id": "kEr1T5U6eH6u",
        "outputId": "332ca3ba-bd47-49e4-9458-1113d451b56f"
      },
      "execution_count": 60,
      "outputs": [
        {
          "output_type": "stream",
          "name": "stdout",
          "text": [
            "49\n"
          ]
        },
        {
          "output_type": "execute_result",
          "data": {
            "text/plain": [
              "array(['M Chinnaswamy Stadium',\n",
              "       'Punjab Cricket Association Stadium, Mohali', 'Feroz Shah Kotla',\n",
              "       'Eden Gardens', 'Wankhede Stadium', 'Sawai Mansingh Stadium',\n",
              "       'Rajiv Gandhi International Stadium, Uppal',\n",
              "       'MA Chidambaram Stadium, Chepauk', 'Dr DY Patil Sports Academy',\n",
              "       'Newlands', \"St George's Park\", 'Kingsmead', 'SuperSport Park',\n",
              "       'Buffalo Park', 'New Wanderers Stadium', 'De Beers Diamond Oval',\n",
              "       'OUTsurance Oval', 'Brabourne Stadium',\n",
              "       'Sardar Patel Stadium, Motera', 'Barabati Stadium',\n",
              "       'Brabourne Stadium, Mumbai',\n",
              "       'Vidarbha Cricket Association Stadium, Jamtha',\n",
              "       'Himachal Pradesh Cricket Association Stadium', 'Nehru Stadium',\n",
              "       'Holkar Cricket Stadium',\n",
              "       'Dr. Y.S. Rajasekhara Reddy ACA-VDCA Cricket Stadium',\n",
              "       'Subrata Roy Sahara Stadium',\n",
              "       'Maharashtra Cricket Association Stadium',\n",
              "       'Shaheed Veer Narayan Singh International Stadium',\n",
              "       'JSCA International Stadium Complex', 'Sheikh Zayed Stadium',\n",
              "       'Sharjah Cricket Stadium', 'Dubai International Cricket Stadium',\n",
              "       'Punjab Cricket Association IS Bindra Stadium, Mohali',\n",
              "       'Saurashtra Cricket Association Stadium', 'Green Park',\n",
              "       'M.Chinnaswamy Stadium', 'MA Chidambaram Stadium',\n",
              "       'Arun Jaitley Stadium', 'Rajiv Gandhi International Stadium',\n",
              "       'Punjab Cricket Association IS Bindra Stadium',\n",
              "       'MA Chidambaram Stadium, Chepauk, Chennai',\n",
              "       'Wankhede Stadium, Mumbai', 'Narendra Modi Stadium, Ahmedabad',\n",
              "       'Arun Jaitley Stadium, Delhi', 'Zayed Cricket Stadium, Abu Dhabi',\n",
              "       'Dr DY Patil Sports Academy, Mumbai',\n",
              "       'Maharashtra Cricket Association Stadium, Pune',\n",
              "       'Eden Gardens, Kolkata'], dtype=object)"
            ]
          },
          "metadata": {},
          "execution_count": 60
        }
      ]
    },
    {
      "cell_type": "code",
      "source": [
        "ipl_match1 = ipl_match1.replace({'venue': 'M.Chinnaswamy Stadium'}, 'M Chinnaswamy Stadium')\n",
        "ipl_ball1 = ipl_ball1.replace({'venue': 'M.Chinnaswamy Stadium'}, 'M Chinnaswamy Stadium')\n",
        "\n",
        "ipl_match1 = ipl_match1.replace({'venue': 'Brabourne Stadium'}, 'Brabourne Stadium, Mumbai')\n",
        "ipl_ball1 = ipl_ball1.replace({'venue': 'Brabourne Stadium'}, 'Brabourne Stadium, Mumbai')\n",
        "\n",
        "ipl_match1 = ipl_match1.replace({'venue': 'Punjab Cricket Association Stadium, Mohali'}, 'Punjab Cricket Association IS Bindra Stadium, Mohali')\n",
        "ipl_ball1 = ipl_ball1.replace({'venue': 'Punjab Cricket Association Stadium, Mohali'}, 'Punjab Cricket Association IS Bindra Stadium, Mohali')\n",
        "ipl_match1 = ipl_match1.replace({'venue': 'Punjab Cricket Association IS Bindra Stadium'}, 'Punjab Cricket Association IS Bindra Stadium, Mohali')\n",
        "ipl_ball1 = ipl_ball1.replace({'venue': 'Punjab Cricket Association IS Bindra Stadium'}, 'Punjab Cricket Association IS Bindra Stadium, Mohali')\n",
        "\n",
        "ipl_match1 = ipl_match1.replace({'venue': 'MA Chidambaram Stadium'}, 'MA Chidambaram Stadium, Chepauk')\n",
        "ipl_ball1 = ipl_ball1.replace({'venue': 'MA Chidambaram Stadium'}, 'MA Chidambaram Stadium, Chepauk')\n",
        "ipl_match1 = ipl_match1.replace({'venue': 'MA Chidambaram Stadium, Chepauk, Chennai'}, 'MA Chidambaram Stadium, Chepauk')\n",
        "ipl_ball1 = ipl_ball1.replace({'venue': 'MA Chidambaram Stadium, Chepauk, Chennai'}, 'MA Chidambaram Stadium, Chepauk')\n",
        "\n",
        "ipl_match1 = ipl_match1.replace({'venue': 'Wankhede Stadium'}, 'Wankhede Stadium, Mumbai')\n",
        "ipl_ball1 = ipl_ball1.replace({'venue': 'Wankhede Stadium'}, 'Wankhede Stadium, Mumbai')\n",
        "\n",
        "ipl_match1 = ipl_match1.replace({'venue': 'Eden Gardens'}, 'Eden Gardens, Kolkata')\n",
        "ipl_ball1 = ipl_ball1.replace({'venue': 'Eden Gardens'}, 'Eden Gardens, Kolkata')\n",
        "\n",
        "ipl_match1 = ipl_match1.replace({'venue': 'Arun Jaitley Stadium'}, 'Arun Jaitley Stadium, Delhi')\n",
        "ipl_ball1 = ipl_ball1.replace({'venue': 'Arun Jaitley Stadium'}, 'Arun Jaitley Stadium, Delhi')\n",
        "\n",
        "ipl_match1 = ipl_match1.replace({'venue': 'Rajiv Gandhi International Stadium'}, 'Rajiv Gandhi International Stadium, Uppal')\n",
        "ipl_ball1 = ipl_ball1.replace({'venue': 'Rajiv Gandhi International Stadium'}, 'Rajiv Gandhi International Stadium, Uppal')\n",
        "\n",
        "ipl_match1 = ipl_match1.replace({'venue': 'Dr DY Patil Sports Academy'}, 'Dr DY Patil Sports Academy, Mumbai')\n",
        "ipl_ball1 = ipl_ball1.replace({'venue': 'Dr DY Patil Sports Academy'}, 'Dr DY Patil Sports Academy, Mumbai')\n",
        "\n",
        "ipl_match1 = ipl_match1.replace({'venue': 'Maharashtra Cricket Association Stadium'}, 'Maharashtra Cricket Association Stadium, Pune')\n",
        "ipl_ball1 = ipl_ball1.replace({'venue': 'Maharashtra Cricket Association Stadium'}, 'Maharashtra Cricket Association Stadium, Pune')"
      ],
      "metadata": {
        "id": "mJRYnoZXeH-I"
      },
      "execution_count": 61,
      "outputs": []
    },
    {
      "cell_type": "code",
      "source": [
        "print(len(ipl_match1['venue'].unique()))\n",
        "ipl_match1['venue'].unique()"
      ],
      "metadata": {
        "colab": {
          "base_uri": "https://localhost:8080/"
        },
        "id": "qHt8qFuDeDcp",
        "outputId": "60afccf0-d378-48cb-b702-2612b2d3c445"
      },
      "execution_count": 62,
      "outputs": [
        {
          "output_type": "stream",
          "name": "stdout",
          "text": [
            "37\n"
          ]
        },
        {
          "output_type": "execute_result",
          "data": {
            "text/plain": [
              "array(['M Chinnaswamy Stadium',\n",
              "       'Punjab Cricket Association IS Bindra Stadium, Mohali',\n",
              "       'Feroz Shah Kotla', 'Wankhede Stadium, Mumbai',\n",
              "       'Eden Gardens, Kolkata', 'Sawai Mansingh Stadium',\n",
              "       'Rajiv Gandhi International Stadium, Uppal',\n",
              "       'MA Chidambaram Stadium, Chepauk',\n",
              "       'Dr DY Patil Sports Academy, Mumbai', 'Newlands',\n",
              "       \"St George's Park\", 'Kingsmead', 'SuperSport Park', 'Buffalo Park',\n",
              "       'New Wanderers Stadium', 'De Beers Diamond Oval',\n",
              "       'OUTsurance Oval', 'Brabourne Stadium, Mumbai',\n",
              "       'Sardar Patel Stadium, Motera', 'Barabati Stadium',\n",
              "       'Vidarbha Cricket Association Stadium, Jamtha',\n",
              "       'Himachal Pradesh Cricket Association Stadium', 'Nehru Stadium',\n",
              "       'Holkar Cricket Stadium',\n",
              "       'Dr. Y.S. Rajasekhara Reddy ACA-VDCA Cricket Stadium',\n",
              "       'Subrata Roy Sahara Stadium',\n",
              "       'Maharashtra Cricket Association Stadium, Pune',\n",
              "       'Shaheed Veer Narayan Singh International Stadium',\n",
              "       'JSCA International Stadium Complex', 'Sheikh Zayed Stadium',\n",
              "       'Sharjah Cricket Stadium', 'Dubai International Cricket Stadium',\n",
              "       'Saurashtra Cricket Association Stadium', 'Green Park',\n",
              "       'Arun Jaitley Stadium, Delhi', 'Narendra Modi Stadium, Ahmedabad',\n",
              "       'Zayed Cricket Stadium, Abu Dhabi'], dtype=object)"
            ]
          },
          "metadata": {},
          "execution_count": 62
        }
      ]
    },
    {
      "cell_type": "code",
      "source": [
        "print(len(ipl_ball1['venue'].unique()))\n",
        "ipl_ball1['venue'].unique()"
      ],
      "metadata": {
        "colab": {
          "base_uri": "https://localhost:8080/"
        },
        "id": "7XM_KoK1tXuk",
        "outputId": "0a0eef42-a618-4fe3-cb55-d8f724d1afb0"
      },
      "execution_count": 63,
      "outputs": [
        {
          "output_type": "stream",
          "name": "stdout",
          "text": [
            "37\n"
          ]
        },
        {
          "output_type": "execute_result",
          "data": {
            "text/plain": [
              "array(['M Chinnaswamy Stadium',\n",
              "       'Punjab Cricket Association IS Bindra Stadium, Mohali',\n",
              "       'Feroz Shah Kotla', 'Eden Gardens, Kolkata',\n",
              "       'Wankhede Stadium, Mumbai', 'Sawai Mansingh Stadium',\n",
              "       'Rajiv Gandhi International Stadium, Uppal',\n",
              "       'MA Chidambaram Stadium, Chepauk',\n",
              "       'Dr DY Patil Sports Academy, Mumbai', 'Newlands',\n",
              "       \"St George's Park\", 'Kingsmead', 'SuperSport Park', 'Buffalo Park',\n",
              "       'New Wanderers Stadium', 'De Beers Diamond Oval',\n",
              "       'OUTsurance Oval', 'Brabourne Stadium, Mumbai',\n",
              "       'Sardar Patel Stadium, Motera', 'Barabati Stadium',\n",
              "       'Vidarbha Cricket Association Stadium, Jamtha',\n",
              "       'Himachal Pradesh Cricket Association Stadium', 'Nehru Stadium',\n",
              "       'Holkar Cricket Stadium',\n",
              "       'Dr. Y.S. Rajasekhara Reddy ACA-VDCA Cricket Stadium',\n",
              "       'Subrata Roy Sahara Stadium',\n",
              "       'Maharashtra Cricket Association Stadium, Pune',\n",
              "       'Shaheed Veer Narayan Singh International Stadium',\n",
              "       'JSCA International Stadium Complex', 'Sheikh Zayed Stadium',\n",
              "       'Sharjah Cricket Stadium', 'Dubai International Cricket Stadium',\n",
              "       'Saurashtra Cricket Association Stadium', 'Green Park',\n",
              "       'Arun Jaitley Stadium, Delhi', 'Narendra Modi Stadium, Ahmedabad',\n",
              "       'Zayed Cricket Stadium, Abu Dhabi'], dtype=object)"
            ]
          },
          "metadata": {},
          "execution_count": 63
        }
      ]
    },
    {
      "cell_type": "markdown",
      "source": [
        "# **Defining functions**"
      ],
      "metadata": {
        "id": "pqHzsdXSbWfm"
      }
    },
    {
      "cell_type": "code",
      "source": [
        "# Batters stats\n",
        "def Batt(ipl_s,Batters_list):\n",
        "  df = ipl_s.loc[ipl_s['striker'].isin(Batters_list)]\n",
        "  df['Num_of_balls_faced'] = list(df['innings'])\n",
        "  agg_df = df.groupby(['striker','season']).agg({'runs_off_bat':'sum','Num_of_balls_faced': 'count','match_id':'nunique'})\n",
        "  agg_df = agg_df.reset_index()\n",
        "  agg_df['Strike_Rate'] = (agg_df['runs_off_bat']/agg_df['Num_of_balls_faced'])* 100\n",
        "  agg_df['Average'] = (agg_df['runs_off_bat']/agg_df['match_id'])\n",
        "  agg_df = agg_df.drop(['Num_of_balls_faced','match_id'], axis = 1)\n",
        "  return agg_df"
      ],
      "metadata": {
        "id": "tPnNxT9Wbmxe"
      },
      "execution_count": 64,
      "outputs": []
    },
    {
      "cell_type": "code",
      "source": [
        "# Bowlers Stats \n",
        "def Bowl(ipl_s, Bowlers_list):\n",
        "  df = ipl_s.loc[ipl_s['bowler'].isin(Bowlers_list)]\n",
        "  agg_df = df.groupby(['season','bowler']).agg({'runs_off_bat':'sum','ball': 'count','match_id':'nunique', 'player_dismissed':'count'})\n",
        "  agg_df = agg_df.reset_index()\n",
        "  agg_df['Economy_for_100_Balls'] = (agg_df['runs_off_bat']/agg_df['ball'])*100\n",
        "  agg_df['Averag e_Wickets'] = (agg_df['player_dismissed']/agg_df['match_id'])\n",
        "  agg_df = agg_df.drop(['match_id','player_dismissed'], axis = 1)\n",
        "  return agg_df"
      ],
      "metadata": {
        "id": "wz4EYtoGbm0X"
      },
      "execution_count": 65,
      "outputs": []
    },
    {
      "cell_type": "code",
      "source": [
        "# Plotting figures\n",
        "def plotting(ipl,Team1,Team2,ipl_match1, Venue):\n",
        "  X = ['Toss Winner','Match Winner', 'Toss & Match Winner' ]\n",
        "  T2_TW = ipl.loc[(ipl['toss_winner'] == Team2)]\n",
        "  T1_TW =  ipl.loc[(ipl['toss_winner'] == Team1)]\n",
        "  T2_W = ipl.loc[(ipl['winner'] == Team2)]\n",
        "  T1_W =  ipl.loc[(ipl['winner'] == Team1)] \n",
        "  T2_TMW =  ipl.loc[(ipl['winner'] == Team2) & (ipl['toss_winner'] == Team2)]\n",
        "  T1_TMW =  ipl.loc[(ipl['winner'] == Team1) & (ipl['toss_winner'] == Team1)]\n",
        "\n",
        "  Y = [len(T2_TW),len(T2_W), len(T2_TMW)]\n",
        "  Z = [len(T1_TW), len(T1_W), len(T1_TMW)]\n",
        "  X_axis = np.arange(len(X))\n",
        "  \n",
        "  plt.bar(X_axis - 0.2, Y, 0.4, label = (Team2))\n",
        "  plt.bar(X_axis + 0.2, Z, 0.4, label = (Team1))\n",
        "  plt.xticks(X_axis, X)\n",
        "  plt.ylabel(\"Count\")\n",
        "  plt.title('Toss Winners and Match Winners')\n",
        "  plt.legend()\n",
        "  plt.show()  \n",
        "\n",
        "  # Overall Toss Winner and Match winners\n",
        "  ipl_m1 = ipl_match1.loc[ipl_match1['venue']==Venue]\n",
        "  plt.figure(figsize=(20, 4))\n",
        "  sns.countplot(x = ipl_m1['toss_winner'])\n",
        "  plt.figure(figsize=(20, 4))\n",
        "  sns.countplot(x = ipl_m1['winner'])"
      ],
      "metadata": {
        "id": "UOE3wWMhbm34"
      },
      "execution_count": 66,
      "outputs": []
    },
    {
      "cell_type": "code",
      "source": [
        "# Performance calculations for players\n",
        "def Players_performance(ipl_s,stats,players_df):\n",
        "# Batters Stats\n",
        "  if (stats == 'Batters'): \n",
        "    Batters = ipl_s['striker']\n",
        "    Batters = Batters.append(ipl_s['non_striker']).unique()\n",
        "    All_Batters = players_df.loc[(players_df['Players']== 'Batter')]\n",
        "    Batters_list = set(list(All_Batters['Names'])) & set(Batters)\n",
        "    Batters_Stats = Batt(ipl_s,Batters_list)\n",
        "    print('\\n Players performance are stored in dataframe --- Batting_S ')\n",
        "\n",
        "    fig, axs = plt.subplots(1, 2, figsize=(10, 5))\n",
        "    sns.histplot(Batters_Stats['Average'], kde=True, ax=axs[0])\n",
        "    axs[0].set_title('Average Stats of Batters')\n",
        "    sns.histplot(Batters_Stats['Strike_Rate'], kde=True, ax=axs[1])\n",
        "    plt.xlim(0,300)\n",
        "    axs[1].set_title('Strike Rate Stats of Batters')\n",
        "    plt.subplots_adjust(wspace=0.3)\n",
        "    plt.show()\n",
        "    return Batters_Stats, 0 , 0 \n",
        "# Bowlers Stats\n",
        "  elif (stats == 'Bowlers'):\n",
        "    Bowlers = ipl_s['bowler'].unique()\n",
        "    All_Bowlers = players_df.loc[(players_df['Players']== 'Bowler')]\n",
        "    Bowlers_list = set(list(All_Bowlers['Names'])) & set(Bowlers)\n",
        "    Bowlers_Stats = Bowl(ipl_s,Bowlers_list)\n",
        "    print('\\n Players performance are stored in dataframe ---  Bowling_S ')\n",
        "    sns.histplot(Bowlers_Stats['Economy_for_100_Balls'], kde=True)\n",
        "    return 0, Bowlers_Stats, 0\n",
        "\n",
        "#All_Rounders Stats\n",
        "  elif (stats == 'All Rounders'):\n",
        "    Rounders = ipl_s['striker']\n",
        "    Rounders.append(ipl_s['non_striker'])\n",
        "    Rounders.append(ipl_s['bowler']).unique()\n",
        "    All_Rounders = players_df.loc[(players_df['Players']== 'All_Rounder')]\n",
        "    All_Rounders_list = set(list(All_Rounders['Names'])) & set(Rounders)\n",
        "    All_Rounders_Batters_Stats = Batt(ipl_s,All_Rounders_list)\n",
        "    print('\\n Players performance are stored in dataframe ---  Batting_S ')\n",
        "    All_Rounders_Bowlers_Stats = Bowl(ipl_s,All_Rounders_list)\n",
        "    print('\\n Players performance are stored in dataframe ---  Bowling_S ')\n",
        "    \n",
        "    fig, axs = plt.subplots(1, 3, figsize=(10, 5))\n",
        "    sns.histplot(All_Rounders_Bowlers_Stats['Economy_for_100_Balls'], kde=True, ax=axs[0])\n",
        "    axs[0].set_title('Bowlers Economy')\n",
        "    sns.histplot(All_Rounders_Batters_Stats['Strike_Rate'], kde=True, ax=axs[1])\n",
        "    axs[1].set_title('Batters Strike Rate')\n",
        "    sns.histplot(All_Rounders_Batters_Stats['Average'], kde=True, ax=axs[2])\n",
        "    axs[2].set_title('Average Runs of Batters')\n",
        "    plt.subplots_adjust(wspace=0.2)\n",
        "    plt.show()\n",
        "    return All_Rounders_Batters_Stats, All_Rounders_Bowlers_Stats, 0\n",
        "\n",
        "  else:\n",
        "    print('\\n Please provide proper input (Case sensitive)')\n",
        "    return Players_performance(ipl_s,stats,players_df)"
      ],
      "metadata": {
        "id": "YaUYvRldbm-d"
      },
      "execution_count": 67,
      "outputs": []
    },
    {
      "cell_type": "code",
      "source": [
        "# Performance calculations of Teams\n",
        "def Team_Performance(ipl_s, players_df, ipl_match1, Venue):\n",
        "  print('\\n Available teams are', ipl_s['batting_team'].unique())\n",
        "  Team1 = input('\\n Enter Team 1 Name ---- ')\n",
        "  Team2 = input('\\n Enter Team 2 Name ---- ')\n",
        "  ipl_mat = ipl_match1.loc[( ( ((ipl_match1['team1']==Team1) & (ipl_match1['team2']==Team2 )) |\n",
        "                          ((ipl_match1['team1']==Team2) & (ipl_match1['team2']==Team1))  ) & (ipl_match1['venue'] == Venue))]\n",
        "\n",
        "  if(len(ipl_mat)) == 0 : print('No records for these teams at this stadium/ venue')\n",
        "  else:\n",
        "    ipl = ipl_mat.loc[ipl_mat['venue'].notnull(), ['season','toss_winner','toss_decision','result_type','winner']]\n",
        "\n",
        "# Plots\n",
        "  plotting(ipl,Team1,Team2,ipl_match1, Venue)\n",
        "  print('\\n Team performance are stored in dataframe ---  Team_Stats')\n",
        "  return 0, 0, ipl "
      ],
      "metadata": {
        "id": "AocBKPCibnCe"
      },
      "execution_count": 68,
      "outputs": []
    },
    {
      "cell_type": "code",
      "source": [
        "# Season input\n",
        "def Season():\n",
        "  print('Available seasons are', ipl_ball1['season'].unique())\n",
        "  season = input('\\n Enter the season from available seasons list --- ')\n",
        "  if season not in ipl_ball1['season'].unique():\n",
        "    print('\\n Enter the season from available seasons list only ')\n",
        "    return Season()\n",
        "  else :\n",
        "    ipl_s = ipl_ball1.loc[(ipl_ball1['season'] <= season)]\n",
        "    ipl_s = ipl_s.drop(['start_date','wides','noballs','byes','legbyes','penalty','other_wicket_type','other_player_dismissed'], axis = 1)\n",
        "    return ipl_s"
      ],
      "metadata": {
        "id": "OTA89voubnGn"
      },
      "execution_count": 69,
      "outputs": []
    },
    {
      "cell_type": "code",
      "source": [
        "# Venue Input\n",
        "def Stadium(ipl_s):\n",
        "  print('\\n \\n Available venues are', ipl_s['venue'].unique())\n",
        "  Venue1 = input('\\n Enter the venue from available venues list --- ')\n",
        "  if Venue1 not in ipl_s['venue'].unique():\n",
        "    Venue1 = input('\\n Enter venues from available venues list only  --- ')\n",
        "    return Stadium(ipl_s)\n",
        "  else :\n",
        "    ipl_s = ipl_s.loc[(ipl_s['venue'] == Venue1)]\n",
        "    return ipl_s,Venue1"
      ],
      "metadata": {
        "id": "0EelvMlgbnKu"
      },
      "execution_count": 70,
      "outputs": []
    },
    {
      "cell_type": "code",
      "source": [
        "# Stats\n",
        "def Stats(ipl_s,players_df,ipl_match1, Venue):\n",
        "  Stats_For = input('\\n Which stats do you want to check \"Teams\" or \"Players\" (Case sensitive) --- ')\n",
        "  if Stats_For == \"Players\":\n",
        "    stats = input('\\n Required stats for - \"Bowlers\" or \"Batters\" or \"All Rounders\" (Case sensitive) --- ')\n",
        "    bt, bl, t = Players_performance(ipl_s,stats,players_df)\n",
        "    \n",
        "  elif Stats_For == \"Teams\": \n",
        "    bt, bl, t = Team_Performance(ipl_s, players_df, ipl_match1, Venue)\n",
        " \n",
        "  else :\n",
        "   print('\\n Enter proper input')\n",
        "   return Stats(ipl_s,players_df, ipl_match1, Venue) \n",
        "\n",
        "  return bt, bl, t"
      ],
      "metadata": {
        "id": "anJbMqG9bnMe"
      },
      "execution_count": 71,
      "outputs": []
    },
    {
      "cell_type": "code",
      "source": [
        "def Cricket():\n",
        "# input season\n",
        "  ipl_S = Season()\n",
        "# input Stadium/ Venue\n",
        "  ipl_s, Venue = Stadium (ipl_S)\n",
        "# performance\n",
        "  Batting_S,Bowling_S, Team_S = Stats(ipl_s,players_df, ipl_match1, Venue) \n",
        "  return Batting_S,Bowling_S, Team_S"
      ],
      "metadata": {
        "id": "EjZH8E5DBy2I"
      },
      "execution_count": 72,
      "outputs": []
    },
    {
      "cell_type": "markdown",
      "source": [
        "# **Data Analysis**"
      ],
      "metadata": {
        "id": "DB9Y9edtgQzY"
      }
    },
    {
      "cell_type": "markdown",
      "source": [
        "#### Obtaining players list (batting and bowling) from the dataset"
      ],
      "metadata": {
        "id": "KQlF2fRU_kzv"
      }
    },
    {
      "cell_type": "code",
      "source": [
        "players = ipl_ball1['striker']\n",
        "players.append(ipl_ball1['non_striker'])\n",
        "players.append(ipl_ball1['bowler'])\n",
        "players_list = players.unique()\n",
        "\n",
        "print('\\n Total players played in IPL ---',len(players_list))\n"
      ],
      "metadata": {
        "colab": {
          "base_uri": "https://localhost:8080/"
        },
        "id": "DK5J_ch5_gJ6",
        "outputId": "8dabaf4b-bbc4-4e23-cd5e-eacd4064ef0a"
      },
      "execution_count": 73,
      "outputs": [
        {
          "output_type": "stream",
          "name": "stdout",
          "text": [
            "\n",
            " Total players played in IPL --- 596\n"
          ]
        }
      ]
    },
    {
      "cell_type": "markdown",
      "source": [
        "#### Players categorised based on their roles"
      ],
      "metadata": {
        "id": "0NCfk0YUAFf1"
      }
    },
    {
      "cell_type": "code",
      "source": [
        "players_df = pd.read_csv('output.csv')\n",
        "players_df"
      ],
      "metadata": {
        "colab": {
          "base_uri": "https://localhost:8080/",
          "height": 423
        },
        "id": "DWznhfOmAGZU",
        "outputId": "9cb74756-be66-4277-c815-8b998a04327d"
      },
      "execution_count": 74,
      "outputs": [
        {
          "output_type": "execute_result",
          "data": {
            "text/plain": [
              "               Names Players  Year       Month  Day\n",
              "0         SC Ganguly  Batter   1972       july    8\n",
              "1        BB McCullum  Batter   1981  September   27\n",
              "2         RT Ponting  Batter   1974   Decenber   19\n",
              "3          DJ Hussey  Batter   1977       July   15\n",
              "4    Mohammad Hafeez  Batter   1980    October   17\n",
              "..               ...     ...    ...        ...  ...\n",
              "591     N Jagadeesan  Batter   1995   December   24\n",
              "592   R Sanjay Yadav  Batter   1995       May    10\n",
              "593          A Tomar  Batter   1995      March   14\n",
              "594        PN Mankad  Batter   1994      April   23\n",
              "595         OC McCoy  Bowler   1997    January    4\n",
              "\n",
              "[596 rows x 5 columns]"
            ],
            "text/html": [
              "\n",
              "  <div id=\"df-6d62b4b8-f1d6-4972-97a6-9cdf551b86fa\">\n",
              "    <div class=\"colab-df-container\">\n",
              "      <div>\n",
              "<style scoped>\n",
              "    .dataframe tbody tr th:only-of-type {\n",
              "        vertical-align: middle;\n",
              "    }\n",
              "\n",
              "    .dataframe tbody tr th {\n",
              "        vertical-align: top;\n",
              "    }\n",
              "\n",
              "    .dataframe thead th {\n",
              "        text-align: right;\n",
              "    }\n",
              "</style>\n",
              "<table border=\"1\" class=\"dataframe\">\n",
              "  <thead>\n",
              "    <tr style=\"text-align: right;\">\n",
              "      <th></th>\n",
              "      <th>Names</th>\n",
              "      <th>Players</th>\n",
              "      <th>Year</th>\n",
              "      <th>Month</th>\n",
              "      <th>Day</th>\n",
              "    </tr>\n",
              "  </thead>\n",
              "  <tbody>\n",
              "    <tr>\n",
              "      <th>0</th>\n",
              "      <td>SC Ganguly</td>\n",
              "      <td>Batter</td>\n",
              "      <td>1972</td>\n",
              "      <td>july</td>\n",
              "      <td>8</td>\n",
              "    </tr>\n",
              "    <tr>\n",
              "      <th>1</th>\n",
              "      <td>BB McCullum</td>\n",
              "      <td>Batter</td>\n",
              "      <td>1981</td>\n",
              "      <td>September</td>\n",
              "      <td>27</td>\n",
              "    </tr>\n",
              "    <tr>\n",
              "      <th>2</th>\n",
              "      <td>RT Ponting</td>\n",
              "      <td>Batter</td>\n",
              "      <td>1974</td>\n",
              "      <td>Decenber</td>\n",
              "      <td>19</td>\n",
              "    </tr>\n",
              "    <tr>\n",
              "      <th>3</th>\n",
              "      <td>DJ Hussey</td>\n",
              "      <td>Batter</td>\n",
              "      <td>1977</td>\n",
              "      <td>July</td>\n",
              "      <td>15</td>\n",
              "    </tr>\n",
              "    <tr>\n",
              "      <th>4</th>\n",
              "      <td>Mohammad Hafeez</td>\n",
              "      <td>Batter</td>\n",
              "      <td>1980</td>\n",
              "      <td>October</td>\n",
              "      <td>17</td>\n",
              "    </tr>\n",
              "    <tr>\n",
              "      <th>...</th>\n",
              "      <td>...</td>\n",
              "      <td>...</td>\n",
              "      <td>...</td>\n",
              "      <td>...</td>\n",
              "      <td>...</td>\n",
              "    </tr>\n",
              "    <tr>\n",
              "      <th>591</th>\n",
              "      <td>N Jagadeesan</td>\n",
              "      <td>Batter</td>\n",
              "      <td>1995</td>\n",
              "      <td>December</td>\n",
              "      <td>24</td>\n",
              "    </tr>\n",
              "    <tr>\n",
              "      <th>592</th>\n",
              "      <td>R Sanjay Yadav</td>\n",
              "      <td>Batter</td>\n",
              "      <td>1995</td>\n",
              "      <td>May</td>\n",
              "      <td>10</td>\n",
              "    </tr>\n",
              "    <tr>\n",
              "      <th>593</th>\n",
              "      <td>A Tomar</td>\n",
              "      <td>Batter</td>\n",
              "      <td>1995</td>\n",
              "      <td>March</td>\n",
              "      <td>14</td>\n",
              "    </tr>\n",
              "    <tr>\n",
              "      <th>594</th>\n",
              "      <td>PN Mankad</td>\n",
              "      <td>Batter</td>\n",
              "      <td>1994</td>\n",
              "      <td>April</td>\n",
              "      <td>23</td>\n",
              "    </tr>\n",
              "    <tr>\n",
              "      <th>595</th>\n",
              "      <td>OC McCoy</td>\n",
              "      <td>Bowler</td>\n",
              "      <td>1997</td>\n",
              "      <td>January</td>\n",
              "      <td>4</td>\n",
              "    </tr>\n",
              "  </tbody>\n",
              "</table>\n",
              "<p>596 rows × 5 columns</p>\n",
              "</div>\n",
              "      <button class=\"colab-df-convert\" onclick=\"convertToInteractive('df-6d62b4b8-f1d6-4972-97a6-9cdf551b86fa')\"\n",
              "              title=\"Convert this dataframe to an interactive table.\"\n",
              "              style=\"display:none;\">\n",
              "        \n",
              "  <svg xmlns=\"http://www.w3.org/2000/svg\" height=\"24px\"viewBox=\"0 0 24 24\"\n",
              "       width=\"24px\">\n",
              "    <path d=\"M0 0h24v24H0V0z\" fill=\"none\"/>\n",
              "    <path d=\"M18.56 5.44l.94 2.06.94-2.06 2.06-.94-2.06-.94-.94-2.06-.94 2.06-2.06.94zm-11 1L8.5 8.5l.94-2.06 2.06-.94-2.06-.94L8.5 2.5l-.94 2.06-2.06.94zm10 10l.94 2.06.94-2.06 2.06-.94-2.06-.94-.94-2.06-.94 2.06-2.06.94z\"/><path d=\"M17.41 7.96l-1.37-1.37c-.4-.4-.92-.59-1.43-.59-.52 0-1.04.2-1.43.59L10.3 9.45l-7.72 7.72c-.78.78-.78 2.05 0 2.83L4 21.41c.39.39.9.59 1.41.59.51 0 1.02-.2 1.41-.59l7.78-7.78 2.81-2.81c.8-.78.8-2.07 0-2.86zM5.41 20L4 18.59l7.72-7.72 1.47 1.35L5.41 20z\"/>\n",
              "  </svg>\n",
              "      </button>\n",
              "      \n",
              "  <style>\n",
              "    .colab-df-container {\n",
              "      display:flex;\n",
              "      flex-wrap:wrap;\n",
              "      gap: 12px;\n",
              "    }\n",
              "\n",
              "    .colab-df-convert {\n",
              "      background-color: #E8F0FE;\n",
              "      border: none;\n",
              "      border-radius: 50%;\n",
              "      cursor: pointer;\n",
              "      display: none;\n",
              "      fill: #1967D2;\n",
              "      height: 32px;\n",
              "      padding: 0 0 0 0;\n",
              "      width: 32px;\n",
              "    }\n",
              "\n",
              "    .colab-df-convert:hover {\n",
              "      background-color: #E2EBFA;\n",
              "      box-shadow: 0px 1px 2px rgba(60, 64, 67, 0.3), 0px 1px 3px 1px rgba(60, 64, 67, 0.15);\n",
              "      fill: #174EA6;\n",
              "    }\n",
              "\n",
              "    [theme=dark] .colab-df-convert {\n",
              "      background-color: #3B4455;\n",
              "      fill: #D2E3FC;\n",
              "    }\n",
              "\n",
              "    [theme=dark] .colab-df-convert:hover {\n",
              "      background-color: #434B5C;\n",
              "      box-shadow: 0px 1px 3px 1px rgba(0, 0, 0, 0.15);\n",
              "      filter: drop-shadow(0px 1px 2px rgba(0, 0, 0, 0.3));\n",
              "      fill: #FFFFFF;\n",
              "    }\n",
              "  </style>\n",
              "\n",
              "      <script>\n",
              "        const buttonEl =\n",
              "          document.querySelector('#df-6d62b4b8-f1d6-4972-97a6-9cdf551b86fa button.colab-df-convert');\n",
              "        buttonEl.style.display =\n",
              "          google.colab.kernel.accessAllowed ? 'block' : 'none';\n",
              "\n",
              "        async function convertToInteractive(key) {\n",
              "          const element = document.querySelector('#df-6d62b4b8-f1d6-4972-97a6-9cdf551b86fa');\n",
              "          const dataTable =\n",
              "            await google.colab.kernel.invokeFunction('convertToInteractive',\n",
              "                                                     [key], {});\n",
              "          if (!dataTable) return;\n",
              "\n",
              "          const docLinkHtml = 'Like what you see? Visit the ' +\n",
              "            '<a target=\"_blank\" href=https://colab.research.google.com/notebooks/data_table.ipynb>data table notebook</a>'\n",
              "            + ' to learn more about interactive tables.';\n",
              "          element.innerHTML = '';\n",
              "          dataTable['output_type'] = 'display_data';\n",
              "          await google.colab.output.renderOutput(dataTable, element);\n",
              "          const docLink = document.createElement('div');\n",
              "          docLink.innerHTML = docLinkHtml;\n",
              "          element.appendChild(docLink);\n",
              "        }\n",
              "      </script>\n",
              "    </div>\n",
              "  </div>\n",
              "  "
            ]
          },
          "metadata": {},
          "execution_count": 74
        }
      ]
    },
    {
      "cell_type": "markdown",
      "source": [
        "#### Winning percentages of teams"
      ],
      "metadata": {
        "id": "ijYYJIWEhjS3"
      }
    },
    {
      "cell_type": "code",
      "source": [
        "\n",
        "team_counts = ipl_match1['team1'].value_counts() + ipl_match1['team2'].value_counts()\n",
        "\n",
        "# Calculate the count of times each team appears in the winner column\n",
        "winner_counts = ipl_match1['winner'].value_counts()\n",
        "\n",
        "# Calculate the winning percentage of each team\n",
        "winning_percentages = winner_counts / team_counts * 100\n",
        "print(winning_percentages)\n",
        "# Create bar plot\n",
        "plt.figure(figsize=(12,6))\n",
        "sns.barplot(x=team_counts.index, y=winning_percentages.values, palette='Blues_d')\n",
        "plt.xticks(rotation=90)\n",
        "plt.xlabel('Team')\n",
        "plt.ylabel('Wins')\n",
        "plt.title('Team wise wins for all the ipl_match1 dataframe')\n",
        "plt.show()"
      ],
      "metadata": {
        "id": "QFTJQ84McsIz",
        "colab": {
          "base_uri": "https://localhost:8080/",
          "height": 1000
        },
        "outputId": "3491a05c-a61c-447d-aab3-31eaca748a7a"
      },
      "execution_count": 75,
      "outputs": [
        {
          "output_type": "stream",
          "name": "stdout",
          "text": [
            "Chennai Super Kings            59.278351\n",
            "Deccan Chargers                38.666667\n",
            "Delhi Capitals                 44.444444\n",
            "Gujarat Lions                  43.333333\n",
            "Gujarat Titans                 75.000000\n",
            "Kochi Tuskers Kerala           42.857143\n",
            "Kolkata Knight Riders          51.196172\n",
            "Lucknow Super Giants           60.000000\n",
            "Mumbai Indians                 54.883721\n",
            "Pune Warriors                  26.086957\n",
            "Punjab Kings                   45.588235\n",
            "Rajasthan Royals               49.438202\n",
            "Rising Pune Supergiants        50.000000\n",
            "Royal Challengers Bangalore    47.867299\n",
            "Sunrisers Hyderabad            48.529412\n",
            "dtype: float64\n"
          ]
        },
        {
          "output_type": "display_data",
          "data": {
            "text/plain": [
              "<Figure size 1200x600 with 1 Axes>"
            ],
            "image/png": "[encoded data removed]"
          },
          "metadata": {}
        }
      ]
    },
    {
      "cell_type": "markdown",
      "source": [
        "#### Distributon of players"
      ],
      "metadata": {
        "id": "yzdc0I78hEgJ"
      }
    },
    {
      "cell_type": "code",
      "source": [
        "X = ['Total IPL Players']\n",
        "  \n",
        "X_axis = np.arange(len(X))\n",
        "  \n",
        "plt.bar(X_axis - 0.2, len(Total_IPL_players), 0.4, label = 'Total IPL players')\n",
        "plt.bar(X_axis + 0.2, len(players_list), 0.4, label = 'Players played in IPL ')\n",
        "  \n",
        "plt.xticks(X_axis, X)\n",
        "plt.ylabel(\"Count\")\n",
        "plt.title('Total IPL Players vs Players played in IPL')\n",
        "plt.legend()\n",
        "plt.show()"
      ],
      "metadata": {
        "id": "XtFFFAM2MKGx",
        "colab": {
          "base_uri": "https://localhost:8080/",
          "height": 452
        },
        "outputId": "755484ba-3bcb-4663-ddd8-544cde41e2c4"
      },
      "execution_count": 76,
      "outputs": [
        {
          "output_type": "display_data",
          "data": {
            "text/plain": [
              "<Figure size 640x480 with 1 Axes>"
            ],
            "image/png": "[encoded data removed]"
          },
          "metadata": {}
        }
      ]
    },
    {
      "cell_type": "markdown",
      "source": [
        "##### IPL Played players based on their roles"
      ],
      "metadata": {
        "id": "-83h3ij-g8UK"
      }
    },
    {
      "cell_type": "code",
      "source": [
        "sns.countplot(x = players_df['Players'])\n",
        "plt.title ('Count of IPL Played players ')"
      ],
      "metadata": {
        "colab": {
          "base_uri": "https://localhost:8080/",
          "height": 490
        },
        "id": "m4AqUjKZAG5J",
        "outputId": "ea69dc0c-5cdd-4ef1-a5d3-771acf49dd17"
      },
      "execution_count": 77,
      "outputs": [
        {
          "output_type": "execute_result",
          "data": {
            "text/plain": [
              "Text(0.5, 1.0, 'Count of IPL Played players ')"
            ]
          },
          "metadata": {},
          "execution_count": 77
        },
        {
          "output_type": "display_data",
          "data": {
            "text/plain": [
              "<Figure size 640x480 with 1 Axes>"
            ],
            "image/png": "[encoded data removed]"
          },
          "metadata": {}
        }
      ]
    },
    {
      "cell_type": "markdown",
      "source": [
        "#### Performance of Batters"
      ],
      "metadata": {
        "id": "KFw-_AnFg19b"
      }
    },
    {
      "cell_type": "code",
      "source": [
        "Batters1 = ipl_ball1['striker']\n",
        "Batters1 = Batters1.append(ipl_ball1['non_striker']).unique()\n",
        "All_Batters1 = players_df.loc[(players_df['Players']== 'Batter')]\n",
        "Batters_list1 = set(list(All_Batters1['Names'])) & set(Batters1)\n",
        "Batt_df = Batt(ipl_ball1,Batters_list1)\n",
        "#sns.histplot(Batt_df['Strike_Rate'], kde=True) # Average\n",
        "\n",
        "fig, axs = plt.subplots(1, 2, figsize=(10, 5))\n",
        "sns.histplot(Batt_df['Average'], kde=True, ax=axs[0])\n",
        "axs[0].set_title('Average Runs of All Batters')\n",
        "sns.histplot(Batt_df['Strike_Rate'], kde=True, ax=axs[1])\n",
        "plt.xlim(0,300)\n",
        "axs[1].set_title('Strike Rate of All Batters')\n",
        "plt.subplots_adjust(wspace=0.3)\n",
        "plt.show()"
      ],
      "metadata": {
        "colab": {
          "base_uri": "https://localhost:8080/",
          "height": 487
        },
        "id": "znpm8gbJUfUM",
        "outputId": "caf864a0-c633-45a8-ca56-54ec5fa87f85"
      },
      "execution_count": 78,
      "outputs": [
        {
          "output_type": "display_data",
          "data": {
            "text/plain": [
              "<Figure size 1000x500 with 2 Axes>"
            ],
            "image/png": "[encoded data removed]"
          },
          "metadata": {}
        }
      ]
    },
    {
      "cell_type": "markdown",
      "source": [
        "#### Performance of Bowlers"
      ],
      "metadata": {
        "id": "6v8KUT6UgsBQ"
      }
    },
    {
      "cell_type": "code",
      "source": [
        "Bowlers1 = ipl_ball1['bowler'].unique()\n",
        "All_Bowlers1 = players_df.loc[(players_df['Players']== 'Bowler')]\n",
        "Bowlers_list1 = set(list(All_Bowlers1['Names'])) & set(Bowlers1)\n",
        "Bowlers_df1 = Bowl(ipl_ball1,Bowlers_list1)\n",
        "sns.histplot(Bowlers_df1['Economy_for_100_Balls'], kde=True)\n",
        "plt.title('Economy of All Bowlers')"
      ],
      "metadata": {
        "colab": {
          "base_uri": "https://localhost:8080/",
          "height": 490
        },
        "id": "quCyrH1pVep_",
        "outputId": "5b2b6828-0b29-41be-9add-820593c02c22"
      },
      "execution_count": 79,
      "outputs": [
        {
          "output_type": "execute_result",
          "data": {
            "text/plain": [
              "Text(0.5, 1.0, 'Economy of All Bowlers')"
            ]
          },
          "metadata": {},
          "execution_count": 79
        },
        {
          "output_type": "display_data",
          "data": {
            "text/plain": [
              "<Figure size 640x480 with 1 Axes>"
            ],
            "image/png": "[encoded data removed]"
          },
          "metadata": {}
        }
      ]
    },
    {
      "cell_type": "markdown",
      "source": [
        "#### Performance of All Rounders"
      ],
      "metadata": {
        "id": "DZd2UvBvgnXQ"
      }
    },
    {
      "cell_type": "code",
      "source": [
        "Rounders1 = ipl_ball1['striker']\n",
        "Rounders1.append(ipl_ball1['non_striker'])\n",
        "Rounders1.append(ipl_ball1['bowler']).unique()\n",
        "All_Rounders1 = players_df.loc[(players_df['Players']== 'All_Rounder')]\n",
        "All_Rounders_list1 = set(list(All_Rounders1['Names'])) & set(Rounders1)\n",
        "All_Rounders_Batters_Stats1 = Batt(ipl_ball1,All_Rounders_list1)\n",
        "All_Rounders_Bowlers_Stats1 = Bowl(ipl_ball1,All_Rounders_list1)\n",
        "\n",
        "    \n",
        "fig, axs = plt.subplots(1, 3, figsize=(10, 5))\n",
        "sns.histplot(All_Rounders_Bowlers_Stats1['Economy_for_100_Balls'], kde=True, ax=axs[0])\n",
        "axs[0].set_title('Bowlers Economy')\n",
        "sns.histplot(All_Rounders_Batters_Stats1['Strike_Rate'], kde=True, ax=axs[1])\n",
        "axs[1].set_title('Batters Strike Rate')\n",
        "sns.histplot(All_Rounders_Batters_Stats1['Average'], kde=True, ax=axs[2])\n",
        "axs[2].set_title('Average Runs of Batters')\n",
        "plt.subplots_adjust(wspace=0.2)\n",
        "plt.show()"
      ],
      "metadata": {
        "colab": {
          "base_uri": "https://localhost:8080/",
          "height": 487
        },
        "id": "yT6byKaiXSCi",
        "outputId": "2c247808-86ce-48a7-ebc8-7ba0362faf83"
      },
      "execution_count": 80,
      "outputs": [
        {
          "output_type": "display_data",
          "data": {
            "text/plain": [
              "<Figure size 1000x500 with 3 Axes>"
            ],
            "image/png": "[encoded data removed]"
          },
          "metadata": {}
        }
      ]
    },
    {
      "cell_type": "markdown",
      "source": [
        "#### Performance of players or Teams according to the years\n"
      ],
      "metadata": {
        "id": "S7JiCq9bggW1"
      }
    },
    {
      "cell_type": "code",
      "source": [
        "# Batters\n",
        "Batting_S, Bowling_S, Team_S = Cricket()"
      ],
      "metadata": {
        "colab": {
          "base_uri": "https://localhost:8080/",
          "height": 1000
        },
        "id": "xvhGQ5lbBobu",
        "outputId": "66c83a07-d68e-493e-c76c-e2835b4026c1"
      },
      "execution_count": 81,
      "outputs": [
        {
          "output_type": "stream",
          "name": "stdout",
          "text": [
            "Available seasons are ['2007/08' '2009' '2009/10' '2011' '2012' '2013' '2014' '2015' '2016'\n",
            " '2017' '2019' '2018' '2021' '2022']\n",
            "\n",
            " Enter the season from available seasons list --- 2022\n",
            "\n",
            " \n",
            " Available venues are ['M Chinnaswamy Stadium'\n",
            " 'Punjab Cricket Association IS Bindra Stadium, Mohali' 'Feroz Shah Kotla'\n",
            " 'Eden Gardens, Kolkata' 'Wankhede Stadium, Mumbai'\n",
            " 'Sawai Mansingh Stadium' 'Rajiv Gandhi International Stadium, Uppal'\n",
            " 'MA Chidambaram Stadium, Chepauk' 'Dr DY Patil Sports Academy, Mumbai'\n",
            " 'Newlands' \"St George's Park\" 'Kingsmead' 'SuperSport Park'\n",
            " 'Buffalo Park' 'New Wanderers Stadium' 'De Beers Diamond Oval'\n",
            " 'OUTsurance Oval' 'Brabourne Stadium, Mumbai'\n",
            " 'Sardar Patel Stadium, Motera' 'Barabati Stadium'\n",
            " 'Vidarbha Cricket Association Stadium, Jamtha'\n",
            " 'Himachal Pradesh Cricket Association Stadium' 'Nehru Stadium'\n",
            " 'Holkar Cricket Stadium'\n",
            " 'Dr. Y.S. Rajasekhara Reddy ACA-VDCA Cricket Stadium'\n",
            " 'Subrata Roy Sahara Stadium'\n",
            " 'Maharashtra Cricket Association Stadium, Pune'\n",
            " 'Shaheed Veer Narayan Singh International Stadium'\n",
            " 'JSCA International Stadium Complex' 'Sheikh Zayed Stadium'\n",
            " 'Sharjah Cricket Stadium' 'Dubai International Cricket Stadium'\n",
            " 'Saurashtra Cricket Association Stadium' 'Green Park'\n",
            " 'Arun Jaitley Stadium, Delhi' 'Narendra Modi Stadium, Ahmedabad'\n",
            " 'Zayed Cricket Stadium, Abu Dhabi']\n",
            "\n",
            " Enter the venue from available venues list --- M Chinnaswamy Stadium\n",
            "\n",
            " Which stats do you want to check \"Teams\" or \"Players\" (Case sensitive) --- Players\n",
            "\n",
            " Required stats for - \"Bowlers\" or \"Batters\" or \"All Rounders\" (Case sensitive) --- Batters\n",
            "\n",
            " Players performance are stored in dataframe --- Batting_S \n"
          ]
        },
        {
          "output_type": "display_data",
          "data": {
            "text/plain": [
              "<Figure size 1000x500 with 2 Axes>"
            ],
            "image/png": "[encoded data removed]"
          },
          "metadata": {}
        }
      ]
    },
    {
      "cell_type": "code",
      "source": [
        "Batting_S"
      ],
      "metadata": {
        "id": "PcgHEl8Zz6wv",
        "colab": {
          "base_uri": "https://localhost:8080/",
          "height": 423
        },
        "outputId": "0c621b26-aca3-48c8-880e-41b763a1ea76"
      },
      "execution_count": 82,
      "outputs": [
        {
          "output_type": "execute_result",
          "data": {
            "text/plain": [
              "            striker   season  runs_off_bat  Strike_Rate    Average\n",
              "0    AB de Villiers  2007/08            21    84.000000  21.000000\n",
              "1    AB de Villiers  2009/10            45   128.571429  45.000000\n",
              "2    AB de Villiers     2011           104   118.181818  20.800000\n",
              "3    AB de Villiers     2012           191   160.504202  27.285714\n",
              "4    AB de Villiers     2013           138   145.263158  19.714286\n",
              "..              ...      ...           ...          ...        ...\n",
              "393         WP Saha     2015            13   118.181818  13.000000\n",
              "394         WP Saha     2016            24   240.000000  24.000000\n",
              "395         WP Saha     2017            21    84.000000  21.000000\n",
              "396         WP Saha     2019            20   181.818182  20.000000\n",
              "397     YV Takawale     2014            19   111.764706  19.000000\n",
              "\n",
              "[398 rows x 5 columns]"
            ],
            "text/html": [
              "\n",
              "  <div id=\"df-ab0940ee-53cc-47d5-a21d-966318c50544\">\n",
              "    <div class=\"colab-df-container\">\n",
              "      <div>\n",
              "<style scoped>\n",
              "    .dataframe tbody tr th:only-of-type {\n",
              "        vertical-align: middle;\n",
              "    }\n",
              "\n",
              "    .dataframe tbody tr th {\n",
              "        vertical-align: top;\n",
              "    }\n",
              "\n",
              "    .dataframe thead th {\n",
              "        text-align: right;\n",
              "    }\n",
              "</style>\n",
              "<table border=\"1\" class=\"dataframe\">\n",
              "  <thead>\n",
              "    <tr style=\"text-align: right;\">\n",
              "      <th></th>\n",
              "      <th>striker</th>\n",
              "      <th>season</th>\n",
              "      <th>runs_off_bat</th>\n",
              "      <th>Strike_Rate</th>\n",
              "      <th>Average</th>\n",
              "    </tr>\n",
              "  </thead>\n",
              "  <tbody>\n",
              "    <tr>\n",
              "      <th>0</th>\n",
              "      <td>AB de Villiers</td>\n",
              "      <td>2007/08</td>\n",
              "      <td>21</td>\n",
              "      <td>84.000000</td>\n",
              "      <td>21.000000</td>\n",
              "    </tr>\n",
              "    <tr>\n",
              "      <th>1</th>\n",
              "      <td>AB de Villiers</td>\n",
              "      <td>2009/10</td>\n",
              "      <td>45</td>\n",
              "      <td>128.571429</td>\n",
              "      <td>45.000000</td>\n",
              "    </tr>\n",
              "    <tr>\n",
              "      <th>2</th>\n",
              "      <td>AB de Villiers</td>\n",
              "      <td>2011</td>\n",
              "      <td>104</td>\n",
              "      <td>118.181818</td>\n",
              "      <td>20.800000</td>\n",
              "    </tr>\n",
              "    <tr>\n",
              "      <th>3</th>\n",
              "      <td>AB de Villiers</td>\n",
              "      <td>2012</td>\n",
              "      <td>191</td>\n",
              "      <td>160.504202</td>\n",
              "      <td>27.285714</td>\n",
              "    </tr>\n",
              "    <tr>\n",
              "      <th>4</th>\n",
              "      <td>AB de Villiers</td>\n",
              "      <td>2013</td>\n",
              "      <td>138</td>\n",
              "      <td>145.263158</td>\n",
              "      <td>19.714286</td>\n",
              "    </tr>\n",
              "    <tr>\n",
              "      <th>...</th>\n",
              "      <td>...</td>\n",
              "      <td>...</td>\n",
              "      <td>...</td>\n",
              "      <td>...</td>\n",
              "      <td>...</td>\n",
              "    </tr>\n",
              "    <tr>\n",
              "      <th>393</th>\n",
              "      <td>WP Saha</td>\n",
              "      <td>2015</td>\n",
              "      <td>13</td>\n",
              "      <td>118.181818</td>\n",
              "      <td>13.000000</td>\n",
              "    </tr>\n",
              "    <tr>\n",
              "      <th>394</th>\n",
              "      <td>WP Saha</td>\n",
              "      <td>2016</td>\n",
              "      <td>24</td>\n",
              "      <td>240.000000</td>\n",
              "      <td>24.000000</td>\n",
              "    </tr>\n",
              "    <tr>\n",
              "      <th>395</th>\n",
              "      <td>WP Saha</td>\n",
              "      <td>2017</td>\n",
              "      <td>21</td>\n",
              "      <td>84.000000</td>\n",
              "      <td>21.000000</td>\n",
              "    </tr>\n",
              "    <tr>\n",
              "      <th>396</th>\n",
              "      <td>WP Saha</td>\n",
              "      <td>2019</td>\n",
              "      <td>20</td>\n",
              "      <td>181.818182</td>\n",
              "      <td>20.000000</td>\n",
              "    </tr>\n",
              "    <tr>\n",
              "      <th>397</th>\n",
              "      <td>YV Takawale</td>\n",
              "      <td>2014</td>\n",
              "      <td>19</td>\n",
              "      <td>111.764706</td>\n",
              "      <td>19.000000</td>\n",
              "    </tr>\n",
              "  </tbody>\n",
              "</table>\n",
              "<p>398 rows × 5 columns</p>\n",
              "</div>\n",
              "      <button class=\"colab-df-convert\" onclick=\"convertToInteractive('df-ab0940ee-53cc-47d5-a21d-966318c50544')\"\n",
              "              title=\"Convert this dataframe to an interactive table.\"\n",
              "              style=\"display:none;\">\n",
              "        \n",
              "  <svg xmlns=\"http://www.w3.org/2000/svg\" height=\"24px\"viewBox=\"0 0 24 24\"\n",
              "       width=\"24px\">\n",
              "    <path d=\"M0 0h24v24H0V0z\" fill=\"none\"/>\n",
              "    <path d=\"M18.56 5.44l.94 2.06.94-2.06 2.06-.94-2.06-.94-.94-2.06-.94 2.06-2.06.94zm-11 1L8.5 8.5l.94-2.06 2.06-.94-2.06-.94L8.5 2.5l-.94 2.06-2.06.94zm10 10l.94 2.06.94-2.06 2.06-.94-2.06-.94-.94-2.06-.94 2.06-2.06.94z\"/><path d=\"M17.41 7.96l-1.37-1.37c-.4-.4-.92-.59-1.43-.59-.52 0-1.04.2-1.43.59L10.3 9.45l-7.72 7.72c-.78.78-.78 2.05 0 2.83L4 21.41c.39.39.9.59 1.41.59.51 0 1.02-.2 1.41-.59l7.78-7.78 2.81-2.81c.8-.78.8-2.07 0-2.86zM5.41 20L4 18.59l7.72-7.72 1.47 1.35L5.41 20z\"/>\n",
              "  </svg>\n",
              "      </button>\n",
              "      \n",
              "  <style>\n",
              "    .colab-df-container {\n",
              "      display:flex;\n",
              "      flex-wrap:wrap;\n",
              "      gap: 12px;\n",
              "    }\n",
              "\n",
              "    .colab-df-convert {\n",
              "      background-color: #E8F0FE;\n",
              "      border: none;\n",
              "      border-radius: 50%;\n",
              "      cursor: pointer;\n",
              "      display: none;\n",
              "      fill: #1967D2;\n",
              "      height: 32px;\n",
              "      padding: 0 0 0 0;\n",
              "      width: 32px;\n",
              "    }\n",
              "\n",
              "    .colab-df-convert:hover {\n",
              "      background-color: #E2EBFA;\n",
              "      box-shadow: 0px 1px 2px rgba(60, 64, 67, 0.3), 0px 1px 3px 1px rgba(60, 64, 67, 0.15);\n",
              "      fill: #174EA6;\n",
              "    }\n",
              "\n",
              "    [theme=dark] .colab-df-convert {\n",
              "      background-color: #3B4455;\n",
              "      fill: #D2E3FC;\n",
              "    }\n",
              "\n",
              "    [theme=dark] .colab-df-convert:hover {\n",
              "      background-color: #434B5C;\n",
              "      box-shadow: 0px 1px 3px 1px rgba(0, 0, 0, 0.15);\n",
              "      filter: drop-shadow(0px 1px 2px rgba(0, 0, 0, 0.3));\n",
              "      fill: #FFFFFF;\n",
              "    }\n",
              "  </style>\n",
              "\n",
              "      <script>\n",
              "        const buttonEl =\n",
              "          document.querySelector('#df-ab0940ee-53cc-47d5-a21d-966318c50544 button.colab-df-convert');\n",
              "        buttonEl.style.display =\n",
              "          google.colab.kernel.accessAllowed ? 'block' : 'none';\n",
              "\n",
              "        async function convertToInteractive(key) {\n",
              "          const element = document.querySelector('#df-ab0940ee-53cc-47d5-a21d-966318c50544');\n",
              "          const dataTable =\n",
              "            await google.colab.kernel.invokeFunction('convertToInteractive',\n",
              "                                                     [key], {});\n",
              "          if (!dataTable) return;\n",
              "\n",
              "          const docLinkHtml = 'Like what you see? Visit the ' +\n",
              "            '<a target=\"_blank\" href=https://colab.research.google.com/notebooks/data_table.ipynb>data table notebook</a>'\n",
              "            + ' to learn more about interactive tables.';\n",
              "          element.innerHTML = '';\n",
              "          dataTable['output_type'] = 'display_data';\n",
              "          await google.colab.output.renderOutput(dataTable, element);\n",
              "          const docLink = document.createElement('div');\n",
              "          docLink.innerHTML = docLinkHtml;\n",
              "          element.appendChild(docLink);\n",
              "        }\n",
              "      </script>\n",
              "    </div>\n",
              "  </div>\n",
              "  "
            ]
          },
          "metadata": {},
          "execution_count": 82
        }
      ]
    },
    {
      "cell_type": "code",
      "source": [
        "Bowling_S"
      ],
      "metadata": {
        "colab": {
          "base_uri": "https://localhost:8080/"
        },
        "id": "KXlep3eFwUuX",
        "outputId": "115dae3b-51c9-44c5-fc2e-4db346ca3b3d"
      },
      "execution_count": 83,
      "outputs": [
        {
          "output_type": "execute_result",
          "data": {
            "text/plain": [
              "0"
            ]
          },
          "metadata": {},
          "execution_count": 83
        }
      ]
    },
    {
      "cell_type": "code",
      "source": [
        "Team_S"
      ],
      "metadata": {
        "colab": {
          "base_uri": "https://localhost:8080/"
        },
        "id": "CHhq0CRhwXac",
        "outputId": "5d04ebef-8832-437b-b306-6ba4a510fdf0"
      },
      "execution_count": 84,
      "outputs": [
        {
          "output_type": "execute_result",
          "data": {
            "text/plain": [
              "0"
            ]
          },
          "metadata": {},
          "execution_count": 84
        }
      ]
    },
    {
      "cell_type": "code",
      "source": [
        "# Bowlers\n",
        "Batting_S, Bowling_S, Team_S = Cricket()"
      ],
      "metadata": {
        "colab": {
          "base_uri": "https://localhost:8080/",
          "height": 1000
        },
        "id": "J2qX_3ZRCVJL",
        "outputId": "c5ee9733-f839-4902-a964-2c627f31efde"
      },
      "execution_count": 85,
      "outputs": [
        {
          "output_type": "stream",
          "name": "stdout",
          "text": [
            "Available seasons are ['2007/08' '2009' '2009/10' '2011' '2012' '2013' '2014' '2015' '2016'\n",
            " '2017' '2019' '2018' '2021' '2022']\n",
            "\n",
            " Enter the season from available seasons list --- 2022\n",
            "\n",
            " \n",
            " Available venues are ['M Chinnaswamy Stadium'\n",
            " 'Punjab Cricket Association IS Bindra Stadium, Mohali' 'Feroz Shah Kotla'\n",
            " 'Eden Gardens, Kolkata' 'Wankhede Stadium, Mumbai'\n",
            " 'Sawai Mansingh Stadium' 'Rajiv Gandhi International Stadium, Uppal'\n",
            " 'MA Chidambaram Stadium, Chepauk' 'Dr DY Patil Sports Academy, Mumbai'\n",
            " 'Newlands' \"St George's Park\" 'Kingsmead' 'SuperSport Park'\n",
            " 'Buffalo Park' 'New Wanderers Stadium' 'De Beers Diamond Oval'\n",
            " 'OUTsurance Oval' 'Brabourne Stadium, Mumbai'\n",
            " 'Sardar Patel Stadium, Motera' 'Barabati Stadium'\n",
            " 'Vidarbha Cricket Association Stadium, Jamtha'\n",
            " 'Himachal Pradesh Cricket Association Stadium' 'Nehru Stadium'\n",
            " 'Holkar Cricket Stadium'\n",
            " 'Dr. Y.S. Rajasekhara Reddy ACA-VDCA Cricket Stadium'\n",
            " 'Subrata Roy Sahara Stadium'\n",
            " 'Maharashtra Cricket Association Stadium, Pune'\n",
            " 'Shaheed Veer Narayan Singh International Stadium'\n",
            " 'JSCA International Stadium Complex' 'Sheikh Zayed Stadium'\n",
            " 'Sharjah Cricket Stadium' 'Dubai International Cricket Stadium'\n",
            " 'Saurashtra Cricket Association Stadium' 'Green Park'\n",
            " 'Arun Jaitley Stadium, Delhi' 'Narendra Modi Stadium, Ahmedabad'\n",
            " 'Zayed Cricket Stadium, Abu Dhabi']\n",
            "\n",
            " Enter the venue from available venues list --- M Chinnaswamy Stadium\n",
            "\n",
            " Which stats do you want to check \"Teams\" or \"Players\" (Case sensitive) --- Players\n",
            "\n",
            " Required stats for - \"Bowlers\" or \"Batters\" or \"All Rounders\" (Case sensitive) --- Bowlers\n",
            "\n",
            " Players performance are stored in dataframe ---  Bowling_S \n"
          ]
        },
        {
          "output_type": "display_data",
          "data": {
            "text/plain": [
              "<Figure size 640x480 with 1 Axes>"
            ],
            "image/png": "[encoded data removed]"
          },
          "metadata": {}
        }
      ]
    },
    {
      "cell_type": "code",
      "source": [
        "Batting_S"
      ],
      "metadata": {
        "colab": {
          "base_uri": "https://localhost:8080/"
        },
        "id": "rCjsQkZTCVLy",
        "outputId": "7a31ef50-8584-4017-e7de-1f477a06a673"
      },
      "execution_count": 86,
      "outputs": [
        {
          "output_type": "execute_result",
          "data": {
            "text/plain": [
              "0"
            ]
          },
          "metadata": {},
          "execution_count": 86
        }
      ]
    },
    {
      "cell_type": "code",
      "source": [
        "Bowling_S "
      ],
      "metadata": {
        "colab": {
          "base_uri": "https://localhost:8080/",
          "height": 423
        },
        "id": "-NJSxMS7CVOZ",
        "outputId": "d17c8bd0-8621-40d5-cc5d-6a6c9ec1fa73"
      },
      "execution_count": 87,
      "outputs": [
        {
          "output_type": "execute_result",
          "data": {
            "text/plain": [
              "      season      bowler  runs_off_bat  ball  Economy_for_100_Balls  \\\n",
              "0    2007/08    A Kumble           164   120             136.666667   \n",
              "1    2007/08     A Nehra            21    18             116.666667   \n",
              "2    2007/08   AA Noffke            35    25             140.000000   \n",
              "3    2007/08  AB Agarkar            21    28              75.000000   \n",
              "4    2007/08    AB Dinda             7    20              35.000000   \n",
              "..       ...         ...           ...   ...                    ...   \n",
              "318     2019   SN Thakur            39    25             156.000000   \n",
              "319     2019  TG Southee           110    58             189.655172   \n",
              "320     2019    UT Yadav           159   108             147.222222   \n",
              "321     2019    VR Aaron            23     6             383.333333   \n",
              "322     2019   YS Chahal           169   138             122.463768   \n",
              "\n",
              "     Averag e_Wickets  \n",
              "0            0.400000  \n",
              "1            1.000000  \n",
              "2            1.000000  \n",
              "3            3.000000  \n",
              "4            2.000000  \n",
              "..                ...  \n",
              "318          0.000000  \n",
              "319          0.333333  \n",
              "320          1.600000  \n",
              "321          0.000000  \n",
              "322          1.142857  \n",
              "\n",
              "[323 rows x 6 columns]"
            ],
            "text/html": [
              "\n",
              "  <div id=\"df-1ca85fbc-63e4-4750-82c8-87ee97712b99\">\n",
              "    <div class=\"colab-df-container\">\n",
              "      <div>\n",
              "<style scoped>\n",
              "    .dataframe tbody tr th:only-of-type {\n",
              "        vertical-align: middle;\n",
              "    }\n",
              "\n",
              "    .dataframe tbody tr th {\n",
              "        vertical-align: top;\n",
              "    }\n",
              "\n",
              "    .dataframe thead th {\n",
              "        text-align: right;\n",
              "    }\n",
              "</style>\n",
              "<table border=\"1\" class=\"dataframe\">\n",
              "  <thead>\n",
              "    <tr style=\"text-align: right;\">\n",
              "      <th></th>\n",
              "      <th>season</th>\n",
              "      <th>bowler</th>\n",
              "      <th>runs_off_bat</th>\n",
              "      <th>ball</th>\n",
              "      <th>Economy_for_100_Balls</th>\n",
              "      <th>Averag e_Wickets</th>\n",
              "    </tr>\n",
              "  </thead>\n",
              "  <tbody>\n",
              "    <tr>\n",
              "      <th>0</th>\n",
              "      <td>2007/08</td>\n",
              "      <td>A Kumble</td>\n",
              "      <td>164</td>\n",
              "      <td>120</td>\n",
              "      <td>136.666667</td>\n",
              "      <td>0.400000</td>\n",
              "    </tr>\n",
              "    <tr>\n",
              "      <th>1</th>\n",
              "      <td>2007/08</td>\n",
              "      <td>A Nehra</td>\n",
              "      <td>21</td>\n",
              "      <td>18</td>\n",
              "      <td>116.666667</td>\n",
              "      <td>1.000000</td>\n",
              "    </tr>\n",
              "    <tr>\n",
              "      <th>2</th>\n",
              "      <td>2007/08</td>\n",
              "      <td>AA Noffke</td>\n",
              "      <td>35</td>\n",
              "      <td>25</td>\n",
              "      <td>140.000000</td>\n",
              "      <td>1.000000</td>\n",
              "    </tr>\n",
              "    <tr>\n",
              "      <th>3</th>\n",
              "      <td>2007/08</td>\n",
              "      <td>AB Agarkar</td>\n",
              "      <td>21</td>\n",
              "      <td>28</td>\n",
              "      <td>75.000000</td>\n",
              "      <td>3.000000</td>\n",
              "    </tr>\n",
              "    <tr>\n",
              "      <th>4</th>\n",
              "      <td>2007/08</td>\n",
              "      <td>AB Dinda</td>\n",
              "      <td>7</td>\n",
              "      <td>20</td>\n",
              "      <td>35.000000</td>\n",
              "      <td>2.000000</td>\n",
              "    </tr>\n",
              "    <tr>\n",
              "      <th>...</th>\n",
              "      <td>...</td>\n",
              "      <td>...</td>\n",
              "      <td>...</td>\n",
              "      <td>...</td>\n",
              "      <td>...</td>\n",
              "      <td>...</td>\n",
              "    </tr>\n",
              "    <tr>\n",
              "      <th>318</th>\n",
              "      <td>2019</td>\n",
              "      <td>SN Thakur</td>\n",
              "      <td>39</td>\n",
              "      <td>25</td>\n",
              "      <td>156.000000</td>\n",
              "      <td>0.000000</td>\n",
              "    </tr>\n",
              "    <tr>\n",
              "      <th>319</th>\n",
              "      <td>2019</td>\n",
              "      <td>TG Southee</td>\n",
              "      <td>110</td>\n",
              "      <td>58</td>\n",
              "      <td>189.655172</td>\n",
              "      <td>0.333333</td>\n",
              "    </tr>\n",
              "    <tr>\n",
              "      <th>320</th>\n",
              "      <td>2019</td>\n",
              "      <td>UT Yadav</td>\n",
              "      <td>159</td>\n",
              "      <td>108</td>\n",
              "      <td>147.222222</td>\n",
              "      <td>1.600000</td>\n",
              "    </tr>\n",
              "    <tr>\n",
              "      <th>321</th>\n",
              "      <td>2019</td>\n",
              "      <td>VR Aaron</td>\n",
              "      <td>23</td>\n",
              "      <td>6</td>\n",
              "      <td>383.333333</td>\n",
              "      <td>0.000000</td>\n",
              "    </tr>\n",
              "    <tr>\n",
              "      <th>322</th>\n",
              "      <td>2019</td>\n",
              "      <td>YS Chahal</td>\n",
              "      <td>169</td>\n",
              "      <td>138</td>\n",
              "      <td>122.463768</td>\n",
              "      <td>1.142857</td>\n",
              "    </tr>\n",
              "  </tbody>\n",
              "</table>\n",
              "<p>323 rows × 6 columns</p>\n",
              "</div>\n",
              "      <button class=\"colab-df-convert\" onclick=\"convertToInteractive('df-1ca85fbc-63e4-4750-82c8-87ee97712b99')\"\n",
              "              title=\"Convert this dataframe to an interactive table.\"\n",
              "              style=\"display:none;\">\n",
              "        \n",
              "  <svg xmlns=\"http://www.w3.org/2000/svg\" height=\"24px\"viewBox=\"0 0 24 24\"\n",
              "       width=\"24px\">\n",
              "    <path d=\"M0 0h24v24H0V0z\" fill=\"none\"/>\n",
              "    <path d=\"M18.56 5.44l.94 2.06.94-2.06 2.06-.94-2.06-.94-.94-2.06-.94 2.06-2.06.94zm-11 1L8.5 8.5l.94-2.06 2.06-.94-2.06-.94L8.5 2.5l-.94 2.06-2.06.94zm10 10l.94 2.06.94-2.06 2.06-.94-2.06-.94-.94-2.06-.94 2.06-2.06.94z\"/><path d=\"M17.41 7.96l-1.37-1.37c-.4-.4-.92-.59-1.43-.59-.52 0-1.04.2-1.43.59L10.3 9.45l-7.72 7.72c-.78.78-.78 2.05 0 2.83L4 21.41c.39.39.9.59 1.41.59.51 0 1.02-.2 1.41-.59l7.78-7.78 2.81-2.81c.8-.78.8-2.07 0-2.86zM5.41 20L4 18.59l7.72-7.72 1.47 1.35L5.41 20z\"/>\n",
              "  </svg>\n",
              "      </button>\n",
              "      \n",
              "  <style>\n",
              "    .colab-df-container {\n",
              "      display:flex;\n",
              "      flex-wrap:wrap;\n",
              "      gap: 12px;\n",
              "    }\n",
              "\n",
              "    .colab-df-convert {\n",
              "      background-color: #E8F0FE;\n",
              "      border: none;\n",
              "      border-radius: 50%;\n",
              "      cursor: pointer;\n",
              "      display: none;\n",
              "      fill: #1967D2;\n",
              "      height: 32px;\n",
              "      padding: 0 0 0 0;\n",
              "      width: 32px;\n",
              "    }\n",
              "\n",
              "    .colab-df-convert:hover {\n",
              "      background-color: #E2EBFA;\n",
              "      box-shadow: 0px 1px 2px rgba(60, 64, 67, 0.3), 0px 1px 3px 1px rgba(60, 64, 67, 0.15);\n",
              "      fill: #174EA6;\n",
              "    }\n",
              "\n",
              "    [theme=dark] .colab-df-convert {\n",
              "      background-color: #3B4455;\n",
              "      fill: #D2E3FC;\n",
              "    }\n",
              "\n",
              "    [theme=dark] .colab-df-convert:hover {\n",
              "      background-color: #434B5C;\n",
              "      box-shadow: 0px 1px 3px 1px rgba(0, 0, 0, 0.15);\n",
              "      filter: drop-shadow(0px 1px 2px rgba(0, 0, 0, 0.3));\n",
              "      fill: #FFFFFF;\n",
              "    }\n",
              "  </style>\n",
              "\n",
              "      <script>\n",
              "        const buttonEl =\n",
              "          document.querySelector('#df-1ca85fbc-63e4-4750-82c8-87ee97712b99 button.colab-df-convert');\n",
              "        buttonEl.style.display =\n",
              "          google.colab.kernel.accessAllowed ? 'block' : 'none';\n",
              "\n",
              "        async function convertToInteractive(key) {\n",
              "          const element = document.querySelector('#df-1ca85fbc-63e4-4750-82c8-87ee97712b99');\n",
              "          const dataTable =\n",
              "            await google.colab.kernel.invokeFunction('convertToInteractive',\n",
              "                                                     [key], {});\n",
              "          if (!dataTable) return;\n",
              "\n",
              "          const docLinkHtml = 'Like what you see? Visit the ' +\n",
              "            '<a target=\"_blank\" href=https://colab.research.google.com/notebooks/data_table.ipynb>data table notebook</a>'\n",
              "            + ' to learn more about interactive tables.';\n",
              "          element.innerHTML = '';\n",
              "          dataTable['output_type'] = 'display_data';\n",
              "          await google.colab.output.renderOutput(dataTable, element);\n",
              "          const docLink = document.createElement('div');\n",
              "          docLink.innerHTML = docLinkHtml;\n",
              "          element.appendChild(docLink);\n",
              "        }\n",
              "      </script>\n",
              "    </div>\n",
              "  </div>\n",
              "  "
            ]
          },
          "metadata": {},
          "execution_count": 87
        }
      ]
    },
    {
      "cell_type": "code",
      "source": [
        "Team_S"
      ],
      "metadata": {
        "colab": {
          "base_uri": "https://localhost:8080/"
        },
        "id": "x6rrnTU2CVRe",
        "outputId": "ec767588-ce5e-4340-c2cf-b41066edc250"
      },
      "execution_count": 88,
      "outputs": [
        {
          "output_type": "execute_result",
          "data": {
            "text/plain": [
              "0"
            ]
          },
          "metadata": {},
          "execution_count": 88
        }
      ]
    },
    {
      "cell_type": "code",
      "source": [
        "# All Rounders\n",
        "Batting_S, Bowling_S, Team_S = Cricket()"
      ],
      "metadata": {
        "colab": {
          "base_uri": "https://localhost:8080/",
          "height": 1000
        },
        "id": "dAV2FEqyCVVH",
        "outputId": "8774651e-8bd0-4a60-eaa3-f6965e127183"
      },
      "execution_count": 89,
      "outputs": [
        {
          "output_type": "stream",
          "name": "stdout",
          "text": [
            "Available seasons are ['2007/08' '2009' '2009/10' '2011' '2012' '2013' '2014' '2015' '2016'\n",
            " '2017' '2019' '2018' '2021' '2022']\n",
            "\n",
            " Enter the season from available seasons list --- 2022\n",
            "\n",
            " \n",
            " Available venues are ['M Chinnaswamy Stadium'\n",
            " 'Punjab Cricket Association IS Bindra Stadium, Mohali' 'Feroz Shah Kotla'\n",
            " 'Eden Gardens, Kolkata' 'Wankhede Stadium, Mumbai'\n",
            " 'Sawai Mansingh Stadium' 'Rajiv Gandhi International Stadium, Uppal'\n",
            " 'MA Chidambaram Stadium, Chepauk' 'Dr DY Patil Sports Academy, Mumbai'\n",
            " 'Newlands' \"St George's Park\" 'Kingsmead' 'SuperSport Park'\n",
            " 'Buffalo Park' 'New Wanderers Stadium' 'De Beers Diamond Oval'\n",
            " 'OUTsurance Oval' 'Brabourne Stadium, Mumbai'\n",
            " 'Sardar Patel Stadium, Motera' 'Barabati Stadium'\n",
            " 'Vidarbha Cricket Association Stadium, Jamtha'\n",
            " 'Himachal Pradesh Cricket Association Stadium' 'Nehru Stadium'\n",
            " 'Holkar Cricket Stadium'\n",
            " 'Dr. Y.S. Rajasekhara Reddy ACA-VDCA Cricket Stadium'\n",
            " 'Subrata Roy Sahara Stadium'\n",
            " 'Maharashtra Cricket Association Stadium, Pune'\n",
            " 'Shaheed Veer Narayan Singh International Stadium'\n",
            " 'JSCA International Stadium Complex' 'Sheikh Zayed Stadium'\n",
            " 'Sharjah Cricket Stadium' 'Dubai International Cricket Stadium'\n",
            " 'Saurashtra Cricket Association Stadium' 'Green Park'\n",
            " 'Arun Jaitley Stadium, Delhi' 'Narendra Modi Stadium, Ahmedabad'\n",
            " 'Zayed Cricket Stadium, Abu Dhabi']\n",
            "\n",
            " Enter the venue from available venues list --- M Chinnaswamy Stadium\n",
            "\n",
            " Which stats do you want to check \"Teams\" or \"Players\" (Case sensitive) --- Players\n",
            "\n",
            " Required stats for - \"Bowlers\" or \"Batters\" or \"All Rounders\" (Case sensitive) --- All Rounders\n",
            "\n",
            " Players performance are stored in dataframe ---  Batting_S \n",
            "\n",
            " Players performance are stored in dataframe ---  Bowling_S \n"
          ]
        },
        {
          "output_type": "display_data",
          "data": {
            "text/plain": [
              "<Figure size 1000x500 with 3 Axes>"
            ],
            "image/png": "[encoded data removed]"
          },
          "metadata": {}
        }
      ]
    },
    {
      "cell_type": "code",
      "source": [
        "Batting_S"
      ],
      "metadata": {
        "colab": {
          "base_uri": "https://localhost:8080/",
          "height": 423
        },
        "id": "1e3iHyfKCVjd",
        "outputId": "45b5d2d6-fc24-421e-bff5-c2cb3ae5f3a8"
      },
      "execution_count": 90,
      "outputs": [
        {
          "output_type": "execute_result",
          "data": {
            "text/plain": [
              "             striker   season  runs_off_bat  Strike_Rate  Average\n",
              "0     A Ashish Reddy     2013             3    75.000000      3.0\n",
              "1     A Ashish Reddy     2016            32   177.777778     32.0\n",
              "2         A Chandila     2013             4    66.666667      4.0\n",
              "3          A Symonds  2009/10            53   212.000000     53.0\n",
              "4    AA Jhunjhunwala  2009/10             5    71.428571      5.0\n",
              "..               ...      ...           ...          ...      ...\n",
              "233     Yuvraj Singh     2015            11   157.142857     11.0\n",
              "234     Yuvraj Singh     2016            38   158.333333     38.0\n",
              "235     Yuvraj Singh     2017             9   100.000000      9.0\n",
              "236     Yuvraj Singh     2018             4   100.000000      4.0\n",
              "237     Yuvraj Singh     2019            23   176.923077     23.0\n",
              "\n",
              "[238 rows x 5 columns]"
            ],
            "text/html": [
              "\n",
              "  <div id=\"df-dba9daa8-e1e3-4ff8-bb0b-5f1ecaa38dae\">\n",
              "    <div class=\"colab-df-container\">\n",
              "      <div>\n",
              "<style scoped>\n",
              "    .dataframe tbody tr th:only-of-type {\n",
              "        vertical-align: middle;\n",
              "    }\n",
              "\n",
              "    .dataframe tbody tr th {\n",
              "        vertical-align: top;\n",
              "    }\n",
              "\n",
              "    .dataframe thead th {\n",
              "        text-align: right;\n",
              "    }\n",
              "</style>\n",
              "<table border=\"1\" class=\"dataframe\">\n",
              "  <thead>\n",
              "    <tr style=\"text-align: right;\">\n",
              "      <th></th>\n",
              "      <th>striker</th>\n",
              "      <th>season</th>\n",
              "      <th>runs_off_bat</th>\n",
              "      <th>Strike_Rate</th>\n",
              "      <th>Average</th>\n",
              "    </tr>\n",
              "  </thead>\n",
              "  <tbody>\n",
              "    <tr>\n",
              "      <th>0</th>\n",
              "      <td>A Ashish Reddy</td>\n",
              "      <td>2013</td>\n",
              "      <td>3</td>\n",
              "      <td>75.000000</td>\n",
              "      <td>3.0</td>\n",
              "    </tr>\n",
              "    <tr>\n",
              "      <th>1</th>\n",
              "      <td>A Ashish Reddy</td>\n",
              "      <td>2016</td>\n",
              "      <td>32</td>\n",
              "      <td>177.777778</td>\n",
              "      <td>32.0</td>\n",
              "    </tr>\n",
              "    <tr>\n",
              "      <th>2</th>\n",
              "      <td>A Chandila</td>\n",
              "      <td>2013</td>\n",
              "      <td>4</td>\n",
              "      <td>66.666667</td>\n",
              "      <td>4.0</td>\n",
              "    </tr>\n",
              "    <tr>\n",
              "      <th>3</th>\n",
              "      <td>A Symonds</td>\n",
              "      <td>2009/10</td>\n",
              "      <td>53</td>\n",
              "      <td>212.000000</td>\n",
              "      <td>53.0</td>\n",
              "    </tr>\n",
              "    <tr>\n",
              "      <th>4</th>\n",
              "      <td>AA Jhunjhunwala</td>\n",
              "      <td>2009/10</td>\n",
              "      <td>5</td>\n",
              "      <td>71.428571</td>\n",
              "      <td>5.0</td>\n",
              "    </tr>\n",
              "    <tr>\n",
              "      <th>...</th>\n",
              "      <td>...</td>\n",
              "      <td>...</td>\n",
              "      <td>...</td>\n",
              "      <td>...</td>\n",
              "      <td>...</td>\n",
              "    </tr>\n",
              "    <tr>\n",
              "      <th>233</th>\n",
              "      <td>Yuvraj Singh</td>\n",
              "      <td>2015</td>\n",
              "      <td>11</td>\n",
              "      <td>157.142857</td>\n",
              "      <td>11.0</td>\n",
              "    </tr>\n",
              "    <tr>\n",
              "      <th>234</th>\n",
              "      <td>Yuvraj Singh</td>\n",
              "      <td>2016</td>\n",
              "      <td>38</td>\n",
              "      <td>158.333333</td>\n",
              "      <td>38.0</td>\n",
              "    </tr>\n",
              "    <tr>\n",
              "      <th>235</th>\n",
              "      <td>Yuvraj Singh</td>\n",
              "      <td>2017</td>\n",
              "      <td>9</td>\n",
              "      <td>100.000000</td>\n",
              "      <td>9.0</td>\n",
              "    </tr>\n",
              "    <tr>\n",
              "      <th>236</th>\n",
              "      <td>Yuvraj Singh</td>\n",
              "      <td>2018</td>\n",
              "      <td>4</td>\n",
              "      <td>100.000000</td>\n",
              "      <td>4.0</td>\n",
              "    </tr>\n",
              "    <tr>\n",
              "      <th>237</th>\n",
              "      <td>Yuvraj Singh</td>\n",
              "      <td>2019</td>\n",
              "      <td>23</td>\n",
              "      <td>176.923077</td>\n",
              "      <td>23.0</td>\n",
              "    </tr>\n",
              "  </tbody>\n",
              "</table>\n",
              "<p>238 rows × 5 columns</p>\n",
              "</div>\n",
              "      <button class=\"colab-df-convert\" onclick=\"convertToInteractive('df-dba9daa8-e1e3-4ff8-bb0b-5f1ecaa38dae')\"\n",
              "              title=\"Convert this dataframe to an interactive table.\"\n",
              "              style=\"display:none;\">\n",
              "        \n",
              "  <svg xmlns=\"http://www.w3.org/2000/svg\" height=\"24px\"viewBox=\"0 0 24 24\"\n",
              "       width=\"24px\">\n",
              "    <path d=\"M0 0h24v24H0V0z\" fill=\"none\"/>\n",
              "    <path d=\"M18.56 5.44l.94 2.06.94-2.06 2.06-.94-2.06-.94-.94-2.06-.94 2.06-2.06.94zm-11 1L8.5 8.5l.94-2.06 2.06-.94-2.06-.94L8.5 2.5l-.94 2.06-2.06.94zm10 10l.94 2.06.94-2.06 2.06-.94-2.06-.94-.94-2.06-.94 2.06-2.06.94z\"/><path d=\"M17.41 7.96l-1.37-1.37c-.4-.4-.92-.59-1.43-.59-.52 0-1.04.2-1.43.59L10.3 9.45l-7.72 7.72c-.78.78-.78 2.05 0 2.83L4 21.41c.39.39.9.59 1.41.59.51 0 1.02-.2 1.41-.59l7.78-7.78 2.81-2.81c.8-.78.8-2.07 0-2.86zM5.41 20L4 18.59l7.72-7.72 1.47 1.35L5.41 20z\"/>\n",
              "  </svg>\n",
              "      </button>\n",
              "      \n",
              "  <style>\n",
              "    .colab-df-container {\n",
              "      display:flex;\n",
              "      flex-wrap:wrap;\n",
              "      gap: 12px;\n",
              "    }\n",
              "\n",
              "    .colab-df-convert {\n",
              "      background-color: #E8F0FE;\n",
              "      border: none;\n",
              "      border-radius: 50%;\n",
              "      cursor: pointer;\n",
              "      display: none;\n",
              "      fill: #1967D2;\n",
              "      height: 32px;\n",
              "      padding: 0 0 0 0;\n",
              "      width: 32px;\n",
              "    }\n",
              "\n",
              "    .colab-df-convert:hover {\n",
              "      background-color: #E2EBFA;\n",
              "      box-shadow: 0px 1px 2px rgba(60, 64, 67, 0.3), 0px 1px 3px 1px rgba(60, 64, 67, 0.15);\n",
              "      fill: #174EA6;\n",
              "    }\n",
              "\n",
              "    [theme=dark] .colab-df-convert {\n",
              "      background-color: #3B4455;\n",
              "      fill: #D2E3FC;\n",
              "    }\n",
              "\n",
              "    [theme=dark] .colab-df-convert:hover {\n",
              "      background-color: #434B5C;\n",
              "      box-shadow: 0px 1px 3px 1px rgba(0, 0, 0, 0.15);\n",
              "      filter: drop-shadow(0px 1px 2px rgba(0, 0, 0, 0.3));\n",
              "      fill: #FFFFFF;\n",
              "    }\n",
              "  </style>\n",
              "\n",
              "      <script>\n",
              "        const buttonEl =\n",
              "          document.querySelector('#df-dba9daa8-e1e3-4ff8-bb0b-5f1ecaa38dae button.colab-df-convert');\n",
              "        buttonEl.style.display =\n",
              "          google.colab.kernel.accessAllowed ? 'block' : 'none';\n",
              "\n",
              "        async function convertToInteractive(key) {\n",
              "          const element = document.querySelector('#df-dba9daa8-e1e3-4ff8-bb0b-5f1ecaa38dae');\n",
              "          const dataTable =\n",
              "            await google.colab.kernel.invokeFunction('convertToInteractive',\n",
              "                                                     [key], {});\n",
              "          if (!dataTable) return;\n",
              "\n",
              "          const docLinkHtml = 'Like what you see? Visit the ' +\n",
              "            '<a target=\"_blank\" href=https://colab.research.google.com/notebooks/data_table.ipynb>data table notebook</a>'\n",
              "            + ' to learn more about interactive tables.';\n",
              "          element.innerHTML = '';\n",
              "          dataTable['output_type'] = 'display_data';\n",
              "          await google.colab.output.renderOutput(dataTable, element);\n",
              "          const docLink = document.createElement('div');\n",
              "          docLink.innerHTML = docLinkHtml;\n",
              "          element.appendChild(docLink);\n",
              "        }\n",
              "      </script>\n",
              "    </div>\n",
              "  </div>\n",
              "  "
            ]
          },
          "metadata": {},
          "execution_count": 90
        }
      ]
    },
    {
      "cell_type": "code",
      "source": [
        "Bowling_S"
      ],
      "metadata": {
        "colab": {
          "base_uri": "https://localhost:8080/",
          "height": 423
        },
        "id": "MqC2td-qCVlx",
        "outputId": "d1e290d3-0a44-46e8-dc62-a0ff96bc4247"
      },
      "execution_count": 91,
      "outputs": [
        {
          "output_type": "execute_result",
          "data": {
            "text/plain": [
              "      season             bowler  runs_off_bat  ball  Economy_for_100_Balls  \\\n",
              "0    2007/08            B Akhil            72    63             114.285714   \n",
              "1    2007/08           DR Smith            21    25              84.000000   \n",
              "2    2007/08          IK Pathan            12    21              57.142857   \n",
              "3    2007/08          JA Morkel            35    27             129.629630   \n",
              "4    2007/08          JH Kallis           155   109             142.201835   \n",
              "..       ...                ...           ...   ...                    ...   \n",
              "192     2019           R Ashwin            15    24              62.500000   \n",
              "193     2019          RA Jadeja            29    24             120.833333   \n",
              "194     2019          SP Narine            29    25             116.000000   \n",
              "195     2019          V Shankar            15     7             214.285714   \n",
              "196     2019  Washington Sundar            45    30             150.000000   \n",
              "\n",
              "     Averag e_Wickets  \n",
              "0            0.333333  \n",
              "1            3.000000  \n",
              "2            3.000000  \n",
              "3            1.000000  \n",
              "4            0.333333  \n",
              "..                ...  \n",
              "192          1.000000  \n",
              "193          2.000000  \n",
              "194          1.000000  \n",
              "195          0.000000  \n",
              "196          1.500000  \n",
              "\n",
              "[197 rows x 6 columns]"
            ],
            "text/html": [
              "\n",
              "  <div id=\"df-a4431da8-bb8f-4ff7-a28e-fd7ecc2f485b\">\n",
              "    <div class=\"colab-df-container\">\n",
              "      <div>\n",
              "<style scoped>\n",
              "    .dataframe tbody tr th:only-of-type {\n",
              "        vertical-align: middle;\n",
              "    }\n",
              "\n",
              "    .dataframe tbody tr th {\n",
              "        vertical-align: top;\n",
              "    }\n",
              "\n",
              "    .dataframe thead th {\n",
              "        text-align: right;\n",
              "    }\n",
              "</style>\n",
              "<table border=\"1\" class=\"dataframe\">\n",
              "  <thead>\n",
              "    <tr style=\"text-align: right;\">\n",
              "      <th></th>\n",
              "      <th>season</th>\n",
              "      <th>bowler</th>\n",
              "      <th>runs_off_bat</th>\n",
              "      <th>ball</th>\n",
              "      <th>Economy_for_100_Balls</th>\n",
              "      <th>Averag e_Wickets</th>\n",
              "    </tr>\n",
              "  </thead>\n",
              "  <tbody>\n",
              "    <tr>\n",
              "      <th>0</th>\n",
              "      <td>2007/08</td>\n",
              "      <td>B Akhil</td>\n",
              "      <td>72</td>\n",
              "      <td>63</td>\n",
              "      <td>114.285714</td>\n",
              "      <td>0.333333</td>\n",
              "    </tr>\n",
              "    <tr>\n",
              "      <th>1</th>\n",
              "      <td>2007/08</td>\n",
              "      <td>DR Smith</td>\n",
              "      <td>21</td>\n",
              "      <td>25</td>\n",
              "      <td>84.000000</td>\n",
              "      <td>3.000000</td>\n",
              "    </tr>\n",
              "    <tr>\n",
              "      <th>2</th>\n",
              "      <td>2007/08</td>\n",
              "      <td>IK Pathan</td>\n",
              "      <td>12</td>\n",
              "      <td>21</td>\n",
              "      <td>57.142857</td>\n",
              "      <td>3.000000</td>\n",
              "    </tr>\n",
              "    <tr>\n",
              "      <th>3</th>\n",
              "      <td>2007/08</td>\n",
              "      <td>JA Morkel</td>\n",
              "      <td>35</td>\n",
              "      <td>27</td>\n",
              "      <td>129.629630</td>\n",
              "      <td>1.000000</td>\n",
              "    </tr>\n",
              "    <tr>\n",
              "      <th>4</th>\n",
              "      <td>2007/08</td>\n",
              "      <td>JH Kallis</td>\n",
              "      <td>155</td>\n",
              "      <td>109</td>\n",
              "      <td>142.201835</td>\n",
              "      <td>0.333333</td>\n",
              "    </tr>\n",
              "    <tr>\n",
              "      <th>...</th>\n",
              "      <td>...</td>\n",
              "      <td>...</td>\n",
              "      <td>...</td>\n",
              "      <td>...</td>\n",
              "      <td>...</td>\n",
              "      <td>...</td>\n",
              "    </tr>\n",
              "    <tr>\n",
              "      <th>192</th>\n",
              "      <td>2019</td>\n",
              "      <td>R Ashwin</td>\n",
              "      <td>15</td>\n",
              "      <td>24</td>\n",
              "      <td>62.500000</td>\n",
              "      <td>1.000000</td>\n",
              "    </tr>\n",
              "    <tr>\n",
              "      <th>193</th>\n",
              "      <td>2019</td>\n",
              "      <td>RA Jadeja</td>\n",
              "      <td>29</td>\n",
              "      <td>24</td>\n",
              "      <td>120.833333</td>\n",
              "      <td>2.000000</td>\n",
              "    </tr>\n",
              "    <tr>\n",
              "      <th>194</th>\n",
              "      <td>2019</td>\n",
              "      <td>SP Narine</td>\n",
              "      <td>29</td>\n",
              "      <td>25</td>\n",
              "      <td>116.000000</td>\n",
              "      <td>1.000000</td>\n",
              "    </tr>\n",
              "    <tr>\n",
              "      <th>195</th>\n",
              "      <td>2019</td>\n",
              "      <td>V Shankar</td>\n",
              "      <td>15</td>\n",
              "      <td>7</td>\n",
              "      <td>214.285714</td>\n",
              "      <td>0.000000</td>\n",
              "    </tr>\n",
              "    <tr>\n",
              "      <th>196</th>\n",
              "      <td>2019</td>\n",
              "      <td>Washington Sundar</td>\n",
              "      <td>45</td>\n",
              "      <td>30</td>\n",
              "      <td>150.000000</td>\n",
              "      <td>1.500000</td>\n",
              "    </tr>\n",
              "  </tbody>\n",
              "</table>\n",
              "<p>197 rows × 6 columns</p>\n",
              "</div>\n",
              "      <button class=\"colab-df-convert\" onclick=\"convertToInteractive('df-a4431da8-bb8f-4ff7-a28e-fd7ecc2f485b')\"\n",
              "              title=\"Convert this dataframe to an interactive table.\"\n",
              "              style=\"display:none;\">\n",
              "        \n",
              "  <svg xmlns=\"http://www.w3.org/2000/svg\" height=\"24px\"viewBox=\"0 0 24 24\"\n",
              "       width=\"24px\">\n",
              "    <path d=\"M0 0h24v24H0V0z\" fill=\"none\"/>\n",
              "    <path d=\"M18.56 5.44l.94 2.06.94-2.06 2.06-.94-2.06-.94-.94-2.06-.94 2.06-2.06.94zm-11 1L8.5 8.5l.94-2.06 2.06-.94-2.06-.94L8.5 2.5l-.94 2.06-2.06.94zm10 10l.94 2.06.94-2.06 2.06-.94-2.06-.94-.94-2.06-.94 2.06-2.06.94z\"/><path d=\"M17.41 7.96l-1.37-1.37c-.4-.4-.92-.59-1.43-.59-.52 0-1.04.2-1.43.59L10.3 9.45l-7.72 7.72c-.78.78-.78 2.05 0 2.83L4 21.41c.39.39.9.59 1.41.59.51 0 1.02-.2 1.41-.59l7.78-7.78 2.81-2.81c.8-.78.8-2.07 0-2.86zM5.41 20L4 18.59l7.72-7.72 1.47 1.35L5.41 20z\"/>\n",
              "  </svg>\n",
              "      </button>\n",
              "      \n",
              "  <style>\n",
              "    .colab-df-container {\n",
              "      display:flex;\n",
              "      flex-wrap:wrap;\n",
              "      gap: 12px;\n",
              "    }\n",
              "\n",
              "    .colab-df-convert {\n",
              "      background-color: #E8F0FE;\n",
              "      border: none;\n",
              "      border-radius: 50%;\n",
              "      cursor: pointer;\n",
              "      display: none;\n",
              "      fill: #1967D2;\n",
              "      height: 32px;\n",
              "      padding: 0 0 0 0;\n",
              "      width: 32px;\n",
              "    }\n",
              "\n",
              "    .colab-df-convert:hover {\n",
              "      background-color: #E2EBFA;\n",
              "      box-shadow: 0px 1px 2px rgba(60, 64, 67, 0.3), 0px 1px 3px 1px rgba(60, 64, 67, 0.15);\n",
              "      fill: #174EA6;\n",
              "    }\n",
              "\n",
              "    [theme=dark] .colab-df-convert {\n",
              "      background-color: #3B4455;\n",
              "      fill: #D2E3FC;\n",
              "    }\n",
              "\n",
              "    [theme=dark] .colab-df-convert:hover {\n",
              "      background-color: #434B5C;\n",
              "      box-shadow: 0px 1px 3px 1px rgba(0, 0, 0, 0.15);\n",
              "      filter: drop-shadow(0px 1px 2px rgba(0, 0, 0, 0.3));\n",
              "      fill: #FFFFFF;\n",
              "    }\n",
              "  </style>\n",
              "\n",
              "      <script>\n",
              "        const buttonEl =\n",
              "          document.querySelector('#df-a4431da8-bb8f-4ff7-a28e-fd7ecc2f485b button.colab-df-convert');\n",
              "        buttonEl.style.display =\n",
              "          google.colab.kernel.accessAllowed ? 'block' : 'none';\n",
              "\n",
              "        async function convertToInteractive(key) {\n",
              "          const element = document.querySelector('#df-a4431da8-bb8f-4ff7-a28e-fd7ecc2f485b');\n",
              "          const dataTable =\n",
              "            await google.colab.kernel.invokeFunction('convertToInteractive',\n",
              "                                                     [key], {});\n",
              "          if (!dataTable) return;\n",
              "\n",
              "          const docLinkHtml = 'Like what you see? Visit the ' +\n",
              "            '<a target=\"_blank\" href=https://colab.research.google.com/notebooks/data_table.ipynb>data table notebook</a>'\n",
              "            + ' to learn more about interactive tables.';\n",
              "          element.innerHTML = '';\n",
              "          dataTable['output_type'] = 'display_data';\n",
              "          await google.colab.output.renderOutput(dataTable, element);\n",
              "          const docLink = document.createElement('div');\n",
              "          docLink.innerHTML = docLinkHtml;\n",
              "          element.appendChild(docLink);\n",
              "        }\n",
              "      </script>\n",
              "    </div>\n",
              "  </div>\n",
              "  "
            ]
          },
          "metadata": {},
          "execution_count": 91
        }
      ]
    },
    {
      "cell_type": "code",
      "source": [
        "Team_S"
      ],
      "metadata": {
        "colab": {
          "base_uri": "https://localhost:8080/"
        },
        "id": "dZVQrNPrCVpd",
        "outputId": "01a23591-adee-43ac-c39d-c38fc1c36f61"
      },
      "execution_count": 92,
      "outputs": [
        {
          "output_type": "execute_result",
          "data": {
            "text/plain": [
              "0"
            ]
          },
          "metadata": {},
          "execution_count": 92
        }
      ]
    },
    {
      "cell_type": "code",
      "source": [
        "# Teams - Chennai Super Kings vs Royal Challengers Bangalore @ M Chinnaswamy Stadium --- Bangalore Venue \n",
        "Batting_S, Bowling_S, Team_S = Cricket()"
      ],
      "metadata": {
        "colab": {
          "base_uri": "https://localhost:8080/",
          "height": 1000
        },
        "id": "rZtZV880CqjP",
        "outputId": "db393b8a-92f1-491f-aa56-d56b628dc93f"
      },
      "execution_count": 93,
      "outputs": [
        {
          "name": "stdout",
          "output_type": "stream",
          "text": [
            "Available seasons are ['2007/08' '2009' '2009/10' '2011' '2012' '2013' '2014' '2015' '2016'\n",
            " '2017' '2019' '2018' '2021' '2022']\n",
            "\n",
            " Enter the season from available seasons list --- 2022\n",
            "\n",
            " \n",
            " Available venues are ['M Chinnaswamy Stadium'\n",
            " 'Punjab Cricket Association IS Bindra Stadium, Mohali' 'Feroz Shah Kotla'\n",
            " 'Eden Gardens, Kolkata' 'Wankhede Stadium, Mumbai'\n",
            " 'Sawai Mansingh Stadium' 'Rajiv Gandhi International Stadium, Uppal'\n",
            " 'MA Chidambaram Stadium, Chepauk' 'Dr DY Patil Sports Academy, Mumbai'\n",
            " 'Newlands' \"St George's Park\" 'Kingsmead' 'SuperSport Park'\n",
            " 'Buffalo Park' 'New Wanderers Stadium' 'De Beers Diamond Oval'\n",
            " 'OUTsurance Oval' 'Brabourne Stadium, Mumbai'\n",
            " 'Sardar Patel Stadium, Motera' 'Barabati Stadium'\n",
            " 'Vidarbha Cricket Association Stadium, Jamtha'\n",
            " 'Himachal Pradesh Cricket Association Stadium' 'Nehru Stadium'\n",
            " 'Holkar Cricket Stadium'\n",
            " 'Dr. Y.S. Rajasekhara Reddy ACA-VDCA Cricket Stadium'\n",
            " 'Subrata Roy Sahara Stadium'\n",
            " 'Maharashtra Cricket Association Stadium, Pune'\n",
            " 'Shaheed Veer Narayan Singh International Stadium'\n",
            " 'JSCA International Stadium Complex' 'Sheikh Zayed Stadium'\n",
            " 'Sharjah Cricket Stadium' 'Dubai International Cricket Stadium'\n",
            " 'Saurashtra Cricket Association Stadium' 'Green Park'\n",
            " 'Arun Jaitley Stadium, Delhi' 'Narendra Modi Stadium, Ahmedabad'\n",
            " 'Zayed Cricket Stadium, Abu Dhabi']\n",
            "\n",
            " Enter the venue from available venues list --- M Chinnaswamy Stadium\n",
            "\n",
            " Which stats do you want to check \"Teams\" or \"Players\" (Case sensitive) --- Teams\n",
            "\n",
            " Available teams are ['Kolkata Knight Riders' 'Royal Challengers Bangalore' 'Rajasthan Royals'\n",
            " 'Chennai Super Kings' 'Deccan Chargers' 'Punjab Kings' 'Delhi Capitals'\n",
            " 'Mumbai Indians' 'Pune Warriors' 'Kochi Tuskers Kerala'\n",
            " 'Sunrisers Hyderabad' 'Rising Pune Supergiants' 'Gujarat Lions']\n",
            "\n",
            " Enter Team 1 Name ---- Royal Challengers Bangalore\n",
            "\n",
            " Enter Team 2 Name ---- Chennai Super Kings\n"
          ]
        },
        {
          "output_type": "display_data",
          "data": {
            "text/plain": [
              "<Figure size 640x480 with 1 Axes>"
            ],
            "image/png": "[encoded data removed]"
          },
          "metadata": {}
        },
        {
          "output_type": "stream",
          "name": "stdout",
          "text": [
            "\n",
            " Team performance are stored in dataframe ---  Team_Stats\n"
          ]
        },
        {
          "output_type": "display_data",
          "data": {
            "text/plain": [
              "<Figure size 2000x400 with 1 Axes>"
            ],
            "image/png": "[encoded data removed]"
          },
          "metadata": {}
        },
        {
          "output_type": "display_data",
          "data": {
            "text/plain": [
              "<Figure size 2000x400 with 1 Axes>"
            ],
            "image/png": "[encoded data removed]"
          },
          "metadata": {}
        }
      ]
    },
    {
      "cell_type": "code",
      "source": [
        "Batting_S"
      ],
      "metadata": {
        "colab": {
          "base_uri": "https://localhost:8080/"
        },
        "id": "ci26RCnQCvUo",
        "outputId": "fc6c2008-0e91-4650-d214-e2423e53c514"
      },
      "execution_count": 94,
      "outputs": [
        {
          "output_type": "execute_result",
          "data": {
            "text/plain": [
              "0"
            ]
          },
          "metadata": {},
          "execution_count": 94
        }
      ]
    },
    {
      "cell_type": "code",
      "source": [
        "Bowling_S"
      ],
      "metadata": {
        "colab": {
          "base_uri": "https://localhost:8080/"
        },
        "id": "NZcDNywMCvXb",
        "outputId": "c38c13dd-1f3f-4798-ee97-0518a854280c"
      },
      "execution_count": 95,
      "outputs": [
        {
          "output_type": "execute_result",
          "data": {
            "text/plain": [
              "0"
            ]
          },
          "metadata": {},
          "execution_count": 95
        }
      ]
    },
    {
      "cell_type": "code",
      "source": [
        "Team_S"
      ],
      "metadata": {
        "colab": {
          "base_uri": "https://localhost:8080/",
          "height": 300
        },
        "id": "AoxRz9j0Cvak",
        "outputId": "0dc71854-c9dd-4cdc-9265-64d9f53ba8c1"
      },
      "execution_count": 96,
      "outputs": [
        {
          "output_type": "execute_result",
          "data": {
            "text/plain": [
              "      season                  toss_winner toss_decision result_type  \\\n",
              "14   2007/08          Chennai Super Kings           bat    defended   \n",
              "132  2009/10          Chennai Super Kings         field    defended   \n",
              "242     2011  Royal Challengers Bangalore         field      chased   \n",
              "392     2013          Chennai Super Kings         field    defended   \n",
              "450     2014          Chennai Super Kings         field      chased   \n",
              "478     2015  Royal Challengers Bangalore         field    defended   \n",
              "659     2018          Chennai Super Kings         field      chased   \n",
              "734     2019          Chennai Super Kings         field    defended   \n",
              "\n",
              "                          winner  \n",
              "14           Chennai Super Kings  \n",
              "132  Royal Challengers Bangalore  \n",
              "242  Royal Challengers Bangalore  \n",
              "392  Royal Challengers Bangalore  \n",
              "450          Chennai Super Kings  \n",
              "478          Chennai Super Kings  \n",
              "659          Chennai Super Kings  \n",
              "734  Royal Challengers Bangalore  "
            ],
            "text/html": [
              "\n",
              "  <div id=\"df-418fc33c-f0dc-422c-9f43-cc7841bd0d3d\">\n",
              "    <div class=\"colab-df-container\">\n",
              "      <div>\n",
              "<style scoped>\n",
              "    .dataframe tbody tr th:only-of-type {\n",
              "        vertical-align: middle;\n",
              "    }\n",
              "\n",
              "    .dataframe tbody tr th {\n",
              "        vertical-align: top;\n",
              "    }\n",
              "\n",
              "    .dataframe thead th {\n",
              "        text-align: right;\n",
              "    }\n",
              "</style>\n",
              "<table border=\"1\" class=\"dataframe\">\n",
              "  <thead>\n",
              "    <tr style=\"text-align: right;\">\n",
              "      <th></th>\n",
              "      <th>season</th>\n",
              "      <th>toss_winner</th>\n",
              "      <th>toss_decision</th>\n",
              "      <th>result_type</th>\n",
              "      <th>winner</th>\n",
              "    </tr>\n",
              "  </thead>\n",
              "  <tbody>\n",
              "    <tr>\n",
              "      <th>14</th>\n",
              "      <td>2007/08</td>\n",
              "      <td>Chennai Super Kings</td>\n",
              "      <td>bat</td>\n",
              "      <td>defended</td>\n",
              "      <td>Chennai Super Kings</td>\n",
              "    </tr>\n",
              "    <tr>\n",
              "      <th>132</th>\n",
              "      <td>2009/10</td>\n",
              "      <td>Chennai Super Kings</td>\n",
              "      <td>field</td>\n",
              "      <td>defended</td>\n",
              "      <td>Royal Challengers Bangalore</td>\n",
              "    </tr>\n",
              "    <tr>\n",
              "      <th>242</th>\n",
              "      <td>2011</td>\n",
              "      <td>Royal Challengers Bangalore</td>\n",
              "      <td>field</td>\n",
              "      <td>chased</td>\n",
              "      <td>Royal Challengers Bangalore</td>\n",
              "    </tr>\n",
              "    <tr>\n",
              "      <th>392</th>\n",
              "      <td>2013</td>\n",
              "      <td>Chennai Super Kings</td>\n",
              "      <td>field</td>\n",
              "      <td>defended</td>\n",
              "      <td>Royal Challengers Bangalore</td>\n",
              "    </tr>\n",
              "    <tr>\n",
              "      <th>450</th>\n",
              "      <td>2014</td>\n",
              "      <td>Chennai Super Kings</td>\n",
              "      <td>field</td>\n",
              "      <td>chased</td>\n",
              "      <td>Chennai Super Kings</td>\n",
              "    </tr>\n",
              "    <tr>\n",
              "      <th>478</th>\n",
              "      <td>2015</td>\n",
              "      <td>Royal Challengers Bangalore</td>\n",
              "      <td>field</td>\n",
              "      <td>defended</td>\n",
              "      <td>Chennai Super Kings</td>\n",
              "    </tr>\n",
              "    <tr>\n",
              "      <th>659</th>\n",
              "      <td>2018</td>\n",
              "      <td>Chennai Super Kings</td>\n",
              "      <td>field</td>\n",
              "      <td>chased</td>\n",
              "      <td>Chennai Super Kings</td>\n",
              "    </tr>\n",
              "    <tr>\n",
              "      <th>734</th>\n",
              "      <td>2019</td>\n",
              "      <td>Chennai Super Kings</td>\n",
              "      <td>field</td>\n",
              "      <td>defended</td>\n",
              "      <td>Royal Challengers Bangalore</td>\n",
              "    </tr>\n",
              "  </tbody>\n",
              "</table>\n",
              "</div>\n",
              "      <button class=\"colab-df-convert\" onclick=\"convertToInteractive('df-418fc33c-f0dc-422c-9f43-cc7841bd0d3d')\"\n",
              "              title=\"Convert this dataframe to an interactive table.\"\n",
              "              style=\"display:none;\">\n",
              "        \n",
              "  <svg xmlns=\"http://www.w3.org/2000/svg\" height=\"24px\"viewBox=\"0 0 24 24\"\n",
              "       width=\"24px\">\n",
              "    <path d=\"M0 0h24v24H0V0z\" fill=\"none\"/>\n",
              "    <path d=\"M18.56 5.44l.94 2.06.94-2.06 2.06-.94-2.06-.94-.94-2.06-.94 2.06-2.06.94zm-11 1L8.5 8.5l.94-2.06 2.06-.94-2.06-.94L8.5 2.5l-.94 2.06-2.06.94zm10 10l.94 2.06.94-2.06 2.06-.94-2.06-.94-.94-2.06-.94 2.06-2.06.94z\"/><path d=\"M17.41 7.96l-1.37-1.37c-.4-.4-.92-.59-1.43-.59-.52 0-1.04.2-1.43.59L10.3 9.45l-7.72 7.72c-.78.78-.78 2.05 0 2.83L4 21.41c.39.39.9.59 1.41.59.51 0 1.02-.2 1.41-.59l7.78-7.78 2.81-2.81c.8-.78.8-2.07 0-2.86zM5.41 20L4 18.59l7.72-7.72 1.47 1.35L5.41 20z\"/>\n",
              "  </svg>\n",
              "      </button>\n",
              "      \n",
              "  <style>\n",
              "    .colab-df-container {\n",
              "      display:flex;\n",
              "      flex-wrap:wrap;\n",
              "      gap: 12px;\n",
              "    }\n",
              "\n",
              "    .colab-df-convert {\n",
              "      background-color: #E8F0FE;\n",
              "      border: none;\n",
              "      border-radius: 50%;\n",
              "      cursor: pointer;\n",
              "      display: none;\n",
              "      fill: #1967D2;\n",
              "      height: 32px;\n",
              "      padding: 0 0 0 0;\n",
              "      width: 32px;\n",
              "    }\n",
              "\n",
              "    .colab-df-convert:hover {\n",
              "      background-color: #E2EBFA;\n",
              "      box-shadow: 0px 1px 2px rgba(60, 64, 67, 0.3), 0px 1px 3px 1px rgba(60, 64, 67, 0.15);\n",
              "      fill: #174EA6;\n",
              "    }\n",
              "\n",
              "    [theme=dark] .colab-df-convert {\n",
              "      background-color: #3B4455;\n",
              "      fill: #D2E3FC;\n",
              "    }\n",
              "\n",
              "    [theme=dark] .colab-df-convert:hover {\n",
              "      background-color: #434B5C;\n",
              "      box-shadow: 0px 1px 3px 1px rgba(0, 0, 0, 0.15);\n",
              "      filter: drop-shadow(0px 1px 2px rgba(0, 0, 0, 0.3));\n",
              "      fill: #FFFFFF;\n",
              "    }\n",
              "  </style>\n",
              "\n",
              "      <script>\n",
              "        const buttonEl =\n",
              "          document.querySelector('#df-418fc33c-f0dc-422c-9f43-cc7841bd0d3d button.colab-df-convert');\n",
              "        buttonEl.style.display =\n",
              "          google.colab.kernel.accessAllowed ? 'block' : 'none';\n",
              "\n",
              "        async function convertToInteractive(key) {\n",
              "          const element = document.querySelector('#df-418fc33c-f0dc-422c-9f43-cc7841bd0d3d');\n",
              "          const dataTable =\n",
              "            await google.colab.kernel.invokeFunction('convertToInteractive',\n",
              "                                                     [key], {});\n",
              "          if (!dataTable) return;\n",
              "\n",
              "          const docLinkHtml = 'Like what you see? Visit the ' +\n",
              "            '<a target=\"_blank\" href=https://colab.research.google.com/notebooks/data_table.ipynb>data table notebook</a>'\n",
              "            + ' to learn more about interactive tables.';\n",
              "          element.innerHTML = '';\n",
              "          dataTable['output_type'] = 'display_data';\n",
              "          await google.colab.output.renderOutput(dataTable, element);\n",
              "          const docLink = document.createElement('div');\n",
              "          docLink.innerHTML = docLinkHtml;\n",
              "          element.appendChild(docLink);\n",
              "        }\n",
              "      </script>\n",
              "    </div>\n",
              "  </div>\n",
              "  "
            ]
          },
          "metadata": {},
          "execution_count": 96
        }
      ]
    },
    {
      "cell_type": "code",
      "source": [
        "# Teams - Chennai Super Kings vs Royal Challengers Bangalore @ MA Chidambaram Stadium, Chepauk -- Chennai Venue \n",
        "Batting_S, Bowling_S, Team_S = Cricket()"
      ],
      "metadata": {
        "colab": {
          "base_uri": "https://localhost:8080/",
          "height": 1000
        },
        "id": "Hrz7fC9GCvdF",
        "outputId": "b431d538-0d6d-4102-e9fc-f39ab00bc5d3"
      },
      "execution_count": 97,
      "outputs": [
        {
          "name": "stdout",
          "output_type": "stream",
          "text": [
            "Available seasons are ['2007/08' '2009' '2009/10' '2011' '2012' '2013' '2014' '2015' '2016'\n",
            " '2017' '2019' '2018' '2021' '2022']\n",
            "\n",
            " Enter the season from available seasons list --- 2022\n",
            "\n",
            " \n",
            " Available venues are ['M Chinnaswamy Stadium'\n",
            " 'Punjab Cricket Association IS Bindra Stadium, Mohali' 'Feroz Shah Kotla'\n",
            " 'Eden Gardens, Kolkata' 'Wankhede Stadium, Mumbai'\n",
            " 'Sawai Mansingh Stadium' 'Rajiv Gandhi International Stadium, Uppal'\n",
            " 'MA Chidambaram Stadium, Chepauk' 'Dr DY Patil Sports Academy, Mumbai'\n",
            " 'Newlands' \"St George's Park\" 'Kingsmead' 'SuperSport Park'\n",
            " 'Buffalo Park' 'New Wanderers Stadium' 'De Beers Diamond Oval'\n",
            " 'OUTsurance Oval' 'Brabourne Stadium, Mumbai'\n",
            " 'Sardar Patel Stadium, Motera' 'Barabati Stadium'\n",
            " 'Vidarbha Cricket Association Stadium, Jamtha'\n",
            " 'Himachal Pradesh Cricket Association Stadium' 'Nehru Stadium'\n",
            " 'Holkar Cricket Stadium'\n",
            " 'Dr. Y.S. Rajasekhara Reddy ACA-VDCA Cricket Stadium'\n",
            " 'Subrata Roy Sahara Stadium'\n",
            " 'Maharashtra Cricket Association Stadium, Pune'\n",
            " 'Shaheed Veer Narayan Singh International Stadium'\n",
            " 'JSCA International Stadium Complex' 'Sheikh Zayed Stadium'\n",
            " 'Sharjah Cricket Stadium' 'Dubai International Cricket Stadium'\n",
            " 'Saurashtra Cricket Association Stadium' 'Green Park'\n",
            " 'Arun Jaitley Stadium, Delhi' 'Narendra Modi Stadium, Ahmedabad'\n",
            " 'Zayed Cricket Stadium, Abu Dhabi']\n",
            "\n",
            " Enter the venue from available venues list --- MA Chidambaram Stadium, Chepauk\n",
            "\n",
            " Which stats do you want to check \"Teams\" or \"Players\" (Case sensitive) --- Teams\n",
            "\n",
            " Available teams are ['Chennai Super Kings' 'Mumbai Indians' 'Kolkata Knight Riders'\n",
            " 'Delhi Capitals' 'Deccan Chargers' 'Punjab Kings'\n",
            " 'Royal Challengers Bangalore' 'Rajasthan Royals' 'Pune Warriors'\n",
            " 'Kochi Tuskers Kerala' 'Sunrisers Hyderabad']\n",
            "\n",
            " Enter Team 1 Name ---- Royal Challengers Bangalore\n",
            "\n",
            " Enter Team 2 Name ---- Chennai Super Kings\n"
          ]
        },
        {
          "output_type": "display_data",
          "data": {
            "text/plain": [
              "<Figure size 640x480 with 1 Axes>"
            ],
            "image/png": "[encoded data removed]"
          },
          "metadata": {}
        },
        {
          "output_type": "stream",
          "name": "stdout",
          "text": [
            "\n",
            " Team performance are stored in dataframe ---  Team_Stats\n"
          ]
        },
        {
          "output_type": "display_data",
          "data": {
            "text/plain": [
              "<Figure size 2000x400 with 1 Axes>"
            ],
            "image/png": "[encoded data removed]"
          },
          "metadata": {}
        },
        {
          "output_type": "display_data",
          "data": {
            "text/plain": [
              "<Figure size 2000x400 with 1 Axes>"
            ],
            "image/png": "[encoded data removed]"
          },
          "metadata": {}
        }
      ]
    },
    {
      "cell_type": "code",
      "source": [
        "Batting_S"
      ],
      "metadata": {
        "colab": {
          "base_uri": "https://localhost:8080/"
        },
        "id": "B17v-2lkCvfy",
        "outputId": "160f8b8a-73c9-4416-d81e-9f3dd832fa81"
      },
      "execution_count": 98,
      "outputs": [
        {
          "output_type": "execute_result",
          "data": {
            "text/plain": [
              "0"
            ]
          },
          "metadata": {},
          "execution_count": 98
        }
      ]
    },
    {
      "cell_type": "code",
      "source": [
        "Bowling_S"
      ],
      "metadata": {
        "colab": {
          "base_uri": "https://localhost:8080/"
        },
        "id": "XxDQBBJkCvja",
        "outputId": "82d2e0f2-bcea-420c-8bee-deb00deba0fb"
      },
      "execution_count": 99,
      "outputs": [
        {
          "output_type": "execute_result",
          "data": {
            "text/plain": [
              "0"
            ]
          },
          "metadata": {},
          "execution_count": 99
        }
      ]
    },
    {
      "cell_type": "code",
      "source": [
        "Team_S"
      ],
      "metadata": {
        "colab": {
          "base_uri": "https://localhost:8080/",
          "height": 300
        },
        "id": "3U2x8zPyCql1",
        "outputId": "8df2986e-3323-4823-a02f-8f362f2f7aa2"
      },
      "execution_count": 100,
      "outputs": [
        {
          "output_type": "execute_result",
          "data": {
            "text/plain": [
              "      season                  toss_winner toss_decision result_type  \\\n",
              "47   2007/08  Royal Challengers Bangalore           bat    defended   \n",
              "142  2009/10  Royal Challengers Bangalore           bat      chased   \n",
              "188     2011          Chennai Super Kings           bat    defended   \n",
              "247     2011          Chennai Super Kings           bat    defended   \n",
              "260     2012  Royal Challengers Bangalore           bat      chased   \n",
              "336     2013          Chennai Super Kings         field      chased   \n",
              "494     2015          Chennai Super Kings           bat    defended   \n",
              "696     2019          Chennai Super Kings         field      chased   \n",
              "\n",
              "                          winner  \n",
              "47   Royal Challengers Bangalore  \n",
              "142          Chennai Super Kings  \n",
              "188          Chennai Super Kings  \n",
              "247          Chennai Super Kings  \n",
              "260          Chennai Super Kings  \n",
              "336          Chennai Super Kings  \n",
              "494          Chennai Super Kings  \n",
              "696          Chennai Super Kings  "
            ],
            "text/html": [
              "\n",
              "  <div id=\"df-c629d392-ee1e-48c0-8761-5502c08f0e4e\">\n",
              "    <div class=\"colab-df-container\">\n",
              "      <div>\n",
              "<style scoped>\n",
              "    .dataframe tbody tr th:only-of-type {\n",
              "        vertical-align: middle;\n",
              "    }\n",
              "\n",
              "    .dataframe tbody tr th {\n",
              "        vertical-align: top;\n",
              "    }\n",
              "\n",
              "    .dataframe thead th {\n",
              "        text-align: right;\n",
              "    }\n",
              "</style>\n",
              "<table border=\"1\" class=\"dataframe\">\n",
              "  <thead>\n",
              "    <tr style=\"text-align: right;\">\n",
              "      <th></th>\n",
              "      <th>season</th>\n",
              "      <th>toss_winner</th>\n",
              "      <th>toss_decision</th>\n",
              "      <th>result_type</th>\n",
              "      <th>winner</th>\n",
              "    </tr>\n",
              "  </thead>\n",
              "  <tbody>\n",
              "    <tr>\n",
              "      <th>47</th>\n",
              "      <td>2007/08</td>\n",
              "      <td>Royal Challengers Bangalore</td>\n",
              "      <td>bat</td>\n",
              "      <td>defended</td>\n",
              "      <td>Royal Challengers Bangalore</td>\n",
              "    </tr>\n",
              "    <tr>\n",
              "      <th>142</th>\n",
              "      <td>2009/10</td>\n",
              "      <td>Royal Challengers Bangalore</td>\n",
              "      <td>bat</td>\n",
              "      <td>chased</td>\n",
              "      <td>Chennai Super Kings</td>\n",
              "    </tr>\n",
              "    <tr>\n",
              "      <th>188</th>\n",
              "      <td>2011</td>\n",
              "      <td>Chennai Super Kings</td>\n",
              "      <td>bat</td>\n",
              "      <td>defended</td>\n",
              "      <td>Chennai Super Kings</td>\n",
              "    </tr>\n",
              "    <tr>\n",
              "      <th>247</th>\n",
              "      <td>2011</td>\n",
              "      <td>Chennai Super Kings</td>\n",
              "      <td>bat</td>\n",
              "      <td>defended</td>\n",
              "      <td>Chennai Super Kings</td>\n",
              "    </tr>\n",
              "    <tr>\n",
              "      <th>260</th>\n",
              "      <td>2012</td>\n",
              "      <td>Royal Challengers Bangalore</td>\n",
              "      <td>bat</td>\n",
              "      <td>chased</td>\n",
              "      <td>Chennai Super Kings</td>\n",
              "    </tr>\n",
              "    <tr>\n",
              "      <th>336</th>\n",
              "      <td>2013</td>\n",
              "      <td>Chennai Super Kings</td>\n",
              "      <td>field</td>\n",
              "      <td>chased</td>\n",
              "      <td>Chennai Super Kings</td>\n",
              "    </tr>\n",
              "    <tr>\n",
              "      <th>494</th>\n",
              "      <td>2015</td>\n",
              "      <td>Chennai Super Kings</td>\n",
              "      <td>bat</td>\n",
              "      <td>defended</td>\n",
              "      <td>Chennai Super Kings</td>\n",
              "    </tr>\n",
              "    <tr>\n",
              "      <th>696</th>\n",
              "      <td>2019</td>\n",
              "      <td>Chennai Super Kings</td>\n",
              "      <td>field</td>\n",
              "      <td>chased</td>\n",
              "      <td>Chennai Super Kings</td>\n",
              "    </tr>\n",
              "  </tbody>\n",
              "</table>\n",
              "</div>\n",
              "      <button class=\"colab-df-convert\" onclick=\"convertToInteractive('df-c629d392-ee1e-48c0-8761-5502c08f0e4e')\"\n",
              "              title=\"Convert this dataframe to an interactive table.\"\n",
              "              style=\"display:none;\">\n",
              "        \n",
              "  <svg xmlns=\"http://www.w3.org/2000/svg\" height=\"24px\"viewBox=\"0 0 24 24\"\n",
              "       width=\"24px\">\n",
              "    <path d=\"M0 0h24v24H0V0z\" fill=\"none\"/>\n",
              "    <path d=\"M18.56 5.44l.94 2.06.94-2.06 2.06-.94-2.06-.94-.94-2.06-.94 2.06-2.06.94zm-11 1L8.5 8.5l.94-2.06 2.06-.94-2.06-.94L8.5 2.5l-.94 2.06-2.06.94zm10 10l.94 2.06.94-2.06 2.06-.94-2.06-.94-.94-2.06-.94 2.06-2.06.94z\"/><path d=\"M17.41 7.96l-1.37-1.37c-.4-.4-.92-.59-1.43-.59-.52 0-1.04.2-1.43.59L10.3 9.45l-7.72 7.72c-.78.78-.78 2.05 0 2.83L4 21.41c.39.39.9.59 1.41.59.51 0 1.02-.2 1.41-.59l7.78-7.78 2.81-2.81c.8-.78.8-2.07 0-2.86zM5.41 20L4 18.59l7.72-7.72 1.47 1.35L5.41 20z\"/>\n",
              "  </svg>\n",
              "      </button>\n",
              "      \n",
              "  <style>\n",
              "    .colab-df-container {\n",
              "      display:flex;\n",
              "      flex-wrap:wrap;\n",
              "      gap: 12px;\n",
              "    }\n",
              "\n",
              "    .colab-df-convert {\n",
              "      background-color: #E8F0FE;\n",
              "      border: none;\n",
              "      border-radius: 50%;\n",
              "      cursor: pointer;\n",
              "      display: none;\n",
              "      fill: #1967D2;\n",
              "      height: 32px;\n",
              "      padding: 0 0 0 0;\n",
              "      width: 32px;\n",
              "    }\n",
              "\n",
              "    .colab-df-convert:hover {\n",
              "      background-color: #E2EBFA;\n",
              "      box-shadow: 0px 1px 2px rgba(60, 64, 67, 0.3), 0px 1px 3px 1px rgba(60, 64, 67, 0.15);\n",
              "      fill: #174EA6;\n",
              "    }\n",
              "\n",
              "    [theme=dark] .colab-df-convert {\n",
              "      background-color: #3B4455;\n",
              "      fill: #D2E3FC;\n",
              "    }\n",
              "\n",
              "    [theme=dark] .colab-df-convert:hover {\n",
              "      background-color: #434B5C;\n",
              "      box-shadow: 0px 1px 3px 1px rgba(0, 0, 0, 0.15);\n",
              "      filter: drop-shadow(0px 1px 2px rgba(0, 0, 0, 0.3));\n",
              "      fill: #FFFFFF;\n",
              "    }\n",
              "  </style>\n",
              "\n",
              "      <script>\n",
              "        const buttonEl =\n",
              "          document.querySelector('#df-c629d392-ee1e-48c0-8761-5502c08f0e4e button.colab-df-convert');\n",
              "        buttonEl.style.display =\n",
              "          google.colab.kernel.accessAllowed ? 'block' : 'none';\n",
              "\n",
              "        async function convertToInteractive(key) {\n",
              "          const element = document.querySelector('#df-c629d392-ee1e-48c0-8761-5502c08f0e4e');\n",
              "          const dataTable =\n",
              "            await google.colab.kernel.invokeFunction('convertToInteractive',\n",
              "                                                     [key], {});\n",
              "          if (!dataTable) return;\n",
              "\n",
              "          const docLinkHtml = 'Like what you see? Visit the ' +\n",
              "            '<a target=\"_blank\" href=https://colab.research.google.com/notebooks/data_table.ipynb>data table notebook</a>'\n",
              "            + ' to learn more about interactive tables.';\n",
              "          element.innerHTML = '';\n",
              "          dataTable['output_type'] = 'display_data';\n",
              "          await google.colab.output.renderOutput(dataTable, element);\n",
              "          const docLink = document.createElement('div');\n",
              "          docLink.innerHTML = docLinkHtml;\n",
              "          element.appendChild(docLink);\n",
              "        }\n",
              "      </script>\n",
              "    </div>\n",
              "  </div>\n",
              "  "
            ]
          },
          "metadata": {},
          "execution_count": 100
        }
      ]
    },
    {
      "cell_type": "code",
      "source": [
        "# Model to calculate Winning chances of teams based on the ground "
      ],
      "metadata": {
        "id": "_5g5raM4YOAg"
      },
      "execution_count": 101,
      "outputs": []
    },
    {
      "cell_type": "code",
      "source": [],
      "metadata": {
        "id": "_2jBHGm7wWiH"
      },
      "execution_count": 101,
      "outputs": []
    }
  ]
}