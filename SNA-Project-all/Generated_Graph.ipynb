{
 "cells": [
  {
   "cell_type": "code",
   "execution_count": 1,
   "id": "d021b053",
   "metadata": {},
   "outputs": [
    {
     "name": "stderr",
     "output_type": "stream",
     "text": [
      "<frozen importlib._bootstrap>:228: RuntimeWarning: scipy._lib.messagestream.MessageStream size changed, may indicate binary incompatibility. Expected 56 from C header, got 64 from PyObject\n"
     ]
    }
   ],
   "source": [
    "import networkx as nx, matplotlib.pyplot as plt\n",
    "import numpy as np, pandas as pd\n",
    "import math, seaborn as sns\n",
    "from scipy import stats\n",
    "from sklearn import cluster as clstr\n",
    "from networkx import edge_betweenness_centrality\n",
    "from networkx.algorithms import community\n",
    "import itertools"
   ]
  },
  {
   "cell_type": "code",
   "execution_count": 2,
   "id": "e4895748",
   "metadata": {},
   "outputs": [],
   "source": [
    "df1 = pd.read_csv('C:/Users/saich/OneDrive/Desktop/SNA/project/marvel_characters.csv')\n",
    "df2 = pd.read_csv('C:/Users/saich/OneDrive/Desktop/SNA/project/marvel_titles.csv')"
   ]
  },
  {
   "cell_type": "code",
   "execution_count": 3,
   "id": "2a23bd42",
   "metadata": {},
   "outputs": [],
   "source": [
    "GT = nx.Graph()\n",
    "new_G = nx.Graph()\n",
    "#GT.add_nodes_from(df['character'].tolist(),bipartite=1,node_color='w',alpha=0.4,node_shape='d')\n",
    "\n",
    "for index, row in df2.iterrows():\n",
    "  GT.add_node(row['title'] + '*', bipartite=0, media_type=row['type'], release_year=row['release_year'], release_month=row['release_month'], release_day=row['release_day'], rating=row['rating'], length=row['length'], starts=row['stars'], genres=row['genres'])"
   ]
  },
  {
   "cell_type": "code",
   "execution_count": 4,
   "id": "71f00067",
   "metadata": {},
   "outputs": [],
   "source": [
    "for index, row in df1.iterrows():\n",
    "  if row['title'] == 'What If...?':\n",
    "    char_name = row['character'] + '-AR'\n",
    "  else:\n",
    "    char_name = row['character']\n",
    "  GT.add_node(char_name, bipartite=1, alias=row['character_alias'], actor=row['actor'])\n",
    "\n",
    "for index, row in df1.iterrows():\n",
    "  if row['title'] == 'What If...?':\n",
    "    char_name = row['character'] + '-AR'\n",
    "  else:\n",
    "    char_name = row['character']\n",
    "  GT.add_edge(row['title'] + '*', char_name)"
   ]
  },
  {
   "cell_type": "code",
   "execution_count": 5,
   "id": "9a76fdf9",
   "metadata": {},
   "outputs": [],
   "source": [
    "character_nodes = {n for n, d in GT.nodes(data=True) if d['bipartite'] == 1}\n",
    "title_nodes = set(GT) - character_nodes "
   ]
  },
  {
   "cell_type": "code",
   "execution_count": 6,
   "id": "61b6c05b",
   "metadata": {},
   "outputs": [
    {
     "data": {
      "image/png": "[encoded data removed]",
      "text/plain": [
       "<Figure size 432x288 with 1 Axes>"
      ]
     },
     "metadata": {},
     "output_type": "display_data"
    }
   ],
   "source": [
    "nx.draw(GT)"
   ]
  },
  {
   "cell_type": "code",
   "execution_count": 7,
   "id": "580f85f6",
   "metadata": {},
   "outputs": [],
   "source": [
    "def deg_dst(G7): # degree distribution of titles and characters\n",
    "    degrees = [G7.degree(n) for n in title_nodes]\n",
    "    deg,freq = np.unique(degrees,return_counts=True)\n",
    "    plt.plot(deg,freq,label = 'title degree distribution')\n",
    "    plt.legend()\n",
    "    plt.show()\n",
    "    degrees1 = [G7.degree(n) for n in character_nodes]\n",
    "    deg1,freq1 = np.unique(degrees1,return_counts=True)\n",
    "    plt.plot(deg1,freq1,label = 'characters degree distribution')\n",
    "    plt.legend()\n",
    "    plt.show()\n",
    "def avg_deg_cc(G): # average degree and clustering co-efficient\n",
    "    avg_cc_G = nx.transitivity(G)\n",
    "    avg_deg_G = G.degree()\n",
    "    deg_sum_G =0\n",
    "    for j in list(avg_deg_G):\n",
    "        deg_sum_G += j[1]\n",
    "    avg_deg_G =  deg_sum_G/len(G.nodes())\n",
    "    return (avg_deg_G, avg_cc_G)"
   ]
  },
  {
   "cell_type": "code",
   "execution_count": 8,
   "id": "d23dbb1d",
   "metadata": {},
   "outputs": [],
   "source": [
    "def deg_dst_Graph(G7):\n",
    "    degrees = [G7.degree(n) for n in G7.nodes()]\n",
    "    deg,freq = np.unique(degrees,return_counts=True)\n",
    "    plt.plot(deg,freq,label = 'Total nodes degree distribution')\n",
    "    plt.legend()\n",
    "    plt.show()"
   ]
  },
  {
   "cell_type": "markdown",
   "id": "40c84d8f",
   "metadata": {},
   "source": [
    "###  Adding the edges between the characters by considering their common titles"
   ]
  },
  {
   "cell_type": "code",
   "execution_count": 9,
   "id": "60728a85",
   "metadata": {},
   "outputs": [
    {
     "name": "stdout",
     "output_type": "stream",
     "text": [
      "854 1142\n"
     ]
    }
   ],
   "source": [
    "#copying the graph\n",
    "G_new = GT.copy()\n",
    "print(len(G_new.nodes()), len(G_new.edges()))"
   ]
  },
  {
   "cell_type": "code",
   "execution_count": 10,
   "id": "40246083",
   "metadata": {},
   "outputs": [
    {
     "name": "stdout",
     "output_type": "stream",
     "text": [
      "Trish Walker Claire Temple 3\n",
      "Trish Walker Foggy Nelson 3\n",
      "Peter Parker Natasha Romanoff 3\n",
      "Peter Parker T'Challa 3\n",
      "Peter Parker Flash Thompson 3\n",
      "Peter Parker James Rhodes 3\n",
      "Peter Parker Wong 3\n",
      "Peter Parker Friday 3\n",
      "Peter Parker Steve Rogers 3\n",
      "Peter Parker Sam Wilson 3\n",
      "Peter Parker Dr. Stephen Strange 3\n",
      "Peter Parker Wanda Maximoff 3\n",
      "Peter Parker May Parker 4\n",
      "Peter Parker Happy Hogan 4\n",
      "Peter Parker Ned 5\n",
      "Peter Parker Tony Stark 4\n",
      "Peter Parker Bucky Barnes 3\n",
      "Peter Parker MJ 3\n",
      "Peter Parker Secretary Ross 3\n",
      "Peter Parker Pepper Potts 3\n",
      "Laura Barton Clint Barton 3\n",
      "Turk Barrett Claire Temple 3\n",
      "Turk Barrett Karen Page 3\n",
      "Turk Barrett Foggy Nelson 3\n",
      "Natasha Romanoff Maria Hill 4\n",
      "Natasha Romanoff T'Challa 3\n",
      "Natasha Romanoff James Rhodes 5\n",
      "Natasha Romanoff Friday 4\n",
      "Natasha Romanoff Steve Rogers 6\n",
      "Natasha Romanoff Bruce Banner 4\n",
      "Natasha Romanoff Sam Wilson 5\n",
      "Natasha Romanoff Brock Rumlow 3\n",
      "Natasha Romanoff Nick Fury 5\n",
      "Natasha Romanoff Clint Barton 4\n",
      "Natasha Romanoff Wanda Maximoff 4\n",
      "Natasha Romanoff Tony Stark 6\n",
      "Natasha Romanoff Loki 3\n",
      "Natasha Romanoff Bucky Barnes 4\n",
      "Natasha Romanoff Secretary Ross 4\n",
      "Natasha Romanoff Howard Stark 3\n",
      "Natasha Romanoff Pepper Potts 4\n",
      "Natasha Romanoff Thor 3\n",
      "Misty Knight Claire Temple 3\n",
      "Misty Knight Colleen Wing 3\n",
      "Misty Knight Danny Rand 3\n",
      "Maria Hill James Rhodes 3\n",
      "Maria Hill Steve Rogers 4\n",
      "Maria Hill Bruce Banner 3\n",
      "Maria Hill Peggy Carter 3\n",
      "Maria Hill Sam Wilson 3\n",
      "Maria Hill Nick Fury 7\n",
      "Maria Hill Clint Barton 3\n",
      "Maria Hill Agent Sitwell 3\n",
      "Maria Hill Tony Stark 3\n",
      "Groot Mantis 3\n",
      "Groot Nebula 4\n",
      "Groot Drax 4\n",
      "Groot Gamora 3\n",
      "Groot Peter Quill 4\n",
      "Groot Rocket 4\n",
      "Groot Thor 3\n",
      "Janet Van Dyne Scott Lang 3\n",
      "Janet Van Dyne Hope Van Dyne 3\n",
      "Erik Selvig Jane Foster 3\n",
      "Erik Selvig Loki 3\n",
      "Erik Selvig Heimdall 4\n",
      "Erik Selvig Darcy Lewis 3\n",
      "Erik Selvig Sif 3\n",
      "Erik Selvig Thor 3\n",
      "T'Challa James Rhodes 3\n",
      "T'Challa Friday 3\n",
      "T'Challa Steve Rogers 3\n",
      "T'Challa Sam Wilson 3\n",
      "T'Challa Wanda Maximoff 3\n",
      "T'Challa Okoye 3\n",
      "T'Challa Tony Stark 3\n",
      "T'Challa M'Baku 3\n",
      "T'Challa Bucky Barnes 3\n",
      "T'Challa Shuri 3\n",
      "T'Challa Secretary Ross 3\n",
      "Mantis Nebula 4\n",
      "Mantis Drax 4\n",
      "Mantis Gamora 3\n",
      "Mantis Peter Quill 4\n",
      "Mantis Rocket 4\n",
      "Mantis Thor 3\n",
      "Claire Temple Madame Gao 3\n",
      "Claire Temple Jeri Hogarth 4\n",
      "Claire Temple Colleen Wing 3\n",
      "Claire Temple Danny Rand 3\n",
      "Claire Temple Foggy Nelson 4\n",
      "James Rhodes Friday 4\n",
      "James Rhodes Steve Rogers 4\n",
      "James Rhodes Bruce Banner 3\n",
      "James Rhodes Sam Wilson 5\n",
      "James Rhodes Nick Fury 4\n",
      "James Rhodes JARVIS 3\n",
      "James Rhodes Clint Barton 3\n",
      "James Rhodes Wanda Maximoff 4\n",
      "James Rhodes Happy Hogan 4\n",
      "James Rhodes Tony Stark 7\n",
      "James Rhodes Bucky Barnes 4\n",
      "James Rhodes Secretary Ross 3\n",
      "James Rhodes Howard Stark 3\n",
      "James Rhodes Pepper Potts 5\n",
      "James Rhodes Thor 3\n",
      "Wong Bruce Banner 3\n",
      "Wong Dr. Stephen Strange 5\n",
      "Wong Wanda Maximoff 3\n",
      "Wong Ned 3\n",
      "Friday Steve Rogers 4\n",
      "Friday Bruce Banner 3\n",
      "Friday Sam Wilson 4\n",
      "Friday Clint Barton 3\n",
      "Friday Wanda Maximoff 4\n",
      "Friday Tony Stark 4\n",
      "Friday Bucky Barnes 3\n",
      "Friday Secretary Ross 3\n",
      "Friday Thor 3\n",
      "Steve Rogers Bruce Banner 4\n",
      "Steve Rogers Peggy Carter 3\n",
      "Steve Rogers Sam Wilson 5\n",
      "Steve Rogers Brock Rumlow 3\n",
      "Steve Rogers Nick Fury 5\n",
      "Steve Rogers Johann Schmidt 3\n",
      "Steve Rogers Clint Barton 4\n",
      "Steve Rogers Wanda Maximoff 4\n",
      "Steve Rogers Tony Stark 5\n",
      "Steve Rogers Loki 3\n",
      "Steve Rogers Bucky Barnes 5\n",
      "Steve Rogers Secretary Ross 3\n",
      "Steve Rogers Howard Stark 3\n",
      "Steve Rogers Pepper Potts 3\n",
      "Steve Rogers Thor 3\n",
      "Bruce Banner Sam Wilson 3\n",
      "Bruce Banner Nick Fury 3\n",
      "Bruce Banner Dr. Stephen Strange 3\n",
      "Bruce Banner Clint Barton 3\n",
      "Bruce Banner Wanda Maximoff 3\n",
      "Bruce Banner Tony Stark 4\n",
      "Bruce Banner Loki 4\n",
      "Bruce Banner Heimdall 3\n",
      "Bruce Banner Secretary Ross 3\n",
      "Bruce Banner Pepper Potts 3\n",
      "Bruce Banner Thor 4\n",
      "Agent Coulson Nick Fury 4\n",
      "Agent Coulson JARVIS 3\n",
      "Agent Coulson Agent Sitwell 3\n",
      "Agent Coulson Tony Stark 3\n",
      "Agent Coulson Pepper Potts 3\n",
      "Nebula Drax 5\n",
      "Nebula Gamora 4\n",
      "Nebula Peter Quill 5\n",
      "Nebula Rocket 5\n",
      "Nebula Thor 3\n",
      "Madame Gao Jeri Hogarth 3\n",
      "Jane Foster Loki 3\n",
      "Jane Foster Heimdall 3\n",
      "Jane Foster Darcy Lewis 3\n",
      "Jane Foster Frigga 3\n",
      "Jane Foster Sif 3\n",
      "Jane Foster Thor 3\n",
      "Hogun Odin 3\n",
      "Hogun Fandral 3\n",
      "Hogun Volstagg 3\n",
      "Hogun Loki 3\n",
      "Hogun Heimdall 3\n",
      "Korg Thor 3\n",
      "Drax Gamora 4\n",
      "Drax Peter Quill 5\n",
      "Drax Rocket 5\n",
      "Drax Thor 3\n",
      "Peggy Carter Nick Fury 4\n",
      "Peggy Carter Timothy 'Dum Dum' Dugan 4\n",
      "Peggy Carter Agent Sitwell 3\n",
      "Peggy Carter Dr. Arnim Zola 3\n",
      "Peggy Carter Bucky Barnes 3\n",
      "Peggy Carter Howard Stark 4\n",
      "Odin Fandral 3\n",
      "Odin Volstagg 3\n",
      "Odin Loki 3\n",
      "Odin Heimdall 3\n",
      "Sam Wilson Brock Rumlow 3\n",
      "Sam Wilson Nick Fury 3\n",
      "Sam Wilson Clint Barton 3\n",
      "Sam Wilson Scott Lang 3\n",
      "Sam Wilson Wanda Maximoff 4\n",
      "Sam Wilson Tony Stark 4\n",
      "Sam Wilson Bucky Barnes 5\n",
      "Sam Wilson Secretary Ross 3\n",
      "Sam Wilson Thor 3\n",
      "Brock Rumlow Bucky Barnes 3\n",
      "Nick Fury Clint Barton 3\n",
      "Nick Fury Happy Hogan 3\n",
      "Nick Fury Agent Sitwell 3\n",
      "Nick Fury Tony Stark 4\n",
      "Nick Fury Bucky Barnes 3\n",
      "Nick Fury Howard Stark 3\n",
      "Nick Fury Pepper Potts 3\n",
      "Gamora Peter Quill 4\n",
      "Gamora Rocket 4\n",
      "Fandral Volstagg 3\n",
      "Fandral Loki 3\n",
      "Fandral Heimdall 3\n",
      "JARVIS Happy Hogan 3\n",
      "JARVIS Tony Stark 4\n",
      "JARVIS Pepper Potts 4\n",
      "Dr. Stephen Strange Wanda Maximoff 3\n",
      "Dr. Stephen Strange Ned 3\n",
      "Dr. Stephen Strange Loki 3\n",
      "Dr. Stephen Strange Thor 3\n",
      "Johann Schmidt Bucky Barnes 3\n",
      "Clint Barton Wanda Maximoff 3\n",
      "Clint Barton Tony Stark 4\n",
      "Timothy 'Dum Dum' Dugan Howard Stark 3\n",
      "Scott Lang Hope Van Dyne 3\n",
      "Jeri Hogarth Foggy Nelson 3\n",
      "Vision Wanda Maximoff 3\n",
      "Peter Quill Rocket 5\n",
      "Peter Quill Thor 3\n",
      "Rocket Thor 3\n",
      "Wanda Maximoff Tony Stark 4\n",
      "Wanda Maximoff Bucky Barnes 3\n",
      "Wanda Maximoff Secretary Ross 3\n",
      "Wanda Maximoff Thor 3\n",
      "Colleen Wing Danny Rand 3\n",
      "May Parker Happy Hogan 3\n",
      "May Parker MJ 3\n",
      "Happy Hogan Ned 3\n",
      "Happy Hogan Tony Stark 5\n",
      "Happy Hogan MJ 3\n",
      "Happy Hogan Pepper Potts 5\n",
      "Ned Tony Stark 3\n",
      "Ned Pepper Potts 3\n",
      "Okoye M'Baku 3\n",
      "Okoye Shuri 3\n",
      "Volstagg Loki 3\n",
      "Volstagg Heimdall 3\n",
      "Tony Stark Loki 3\n",
      "Tony Stark Bucky Barnes 3\n",
      "Tony Stark Secretary Ross 3\n",
      "Tony Stark Howard Stark 3\n",
      "Tony Stark Pepper Potts 7\n",
      "Tony Stark Thor 3\n",
      "Loki Heimdall 4\n",
      "Loki Frigga 3\n",
      "Loki Pepper Potts 3\n",
      "Loki Thor 4\n",
      "Heimdall Darcy Lewis 3\n",
      "Heimdall Sif 3\n",
      "Heimdall Thor 5\n",
      "Darcy Lewis Sif 3\n",
      "M'Baku Shuri 3\n",
      "Bucky Barnes Secretary Ross 3\n",
      "Bucky Barnes Howard Stark 3\n"
     ]
    }
   ],
   "source": [
    "l=[0,1]\n",
    "for i in character_nodes:\n",
    "    for j in character_nodes: \n",
    "        l[0]=i\n",
    "        l[1]=j\n",
    "        num = len(list(set([n for n in GT.neighbors(l[0])]) & set([m for m in GT.neighbors(l[1])])))\n",
    "        if num>=3 and G_new.has_edge(i,j)==False and i!=j:\n",
    "            print(i,j, num)\n",
    "            G_new.add_edge(i,j)"
   ]
  },
  {
   "cell_type": "code",
   "execution_count": 11,
   "id": "935707ee",
   "metadata": {},
   "outputs": [
    {
     "name": "stdout",
     "output_type": "stream",
     "text": [
      "854 1397\n"
     ]
    }
   ],
   "source": [
    "print(len(G_new.nodes()), len(G_new.edges()))"
   ]
  },
  {
   "cell_type": "code",
   "execution_count": 12,
   "id": "988f58da",
   "metadata": {},
   "outputs": [
    {
     "data": {
      "image/png": "[encoded data removed]",
      "text/plain": [
       "<Figure size 432x288 with 1 Axes>"
      ]
     },
     "metadata": {},
     "output_type": "display_data"
    }
   ],
   "source": [
    "nx.draw(G_new)"
   ]
  },
  {
   "cell_type": "code",
   "execution_count": 13,
   "id": "b3449e51",
   "metadata": {},
   "outputs": [],
   "source": [
    "avg_deg_new, avg_clstrng_new = avg_deg_cc(G_new) \n",
    "num = 0 \n",
    "for c in nx.connected_components(G_new):\n",
    "    num += nx.average_shortest_path_length(G_new.subgraph(c))*len(G_new.subgraph(c))\n",
    "GT_avg_path_new = num/len(G_new.nodes())"
   ]
  },
  {
   "cell_type": "code",
   "execution_count": 14,
   "id": "8076ba07",
   "metadata": {},
   "outputs": [
    {
     "name": "stdout",
     "output_type": "stream",
     "text": [
      "New Simulated MU Network \n",
      " \n",
      "Average degree 3.271662763466042\n",
      "Average path 5.502214557458918\n",
      "Average clusteirng 0.1840353796304405\n",
      "Newly generated graph diameter is 10\n"
     ]
    }
   ],
   "source": [
    "print(\"New Simulated MU Network \\n \")\n",
    "print(\"Average degree\" ,avg_deg_new)\n",
    "print(\"Average path\", GT_avg_path_new)\n",
    "print(\"Average clusteirng\", avg_clstrng_new)\n",
    "print(\"Newly generated graph diameter is\", max([max(j.values()) for (i,j) in nx.shortest_path_length(G_new)]))#.subgraph(component)))"
   ]
  },
  {
   "cell_type": "code",
   "execution_count": 15,
   "id": "adf28bf6",
   "metadata": {},
   "outputs": [
    {
     "data": {
      "image/png": "[encoded data removed]",
      "text/plain": [
       "<Figure size 432x288 with 1 Axes>"
      ]
     },
     "metadata": {
      "needs_background": "light"
     },
     "output_type": "display_data"
    },
    {
     "data": {
      "image/png": "[encoded data removed]",
      "text/plain": [
       "<Figure size 432x288 with 1 Axes>"
      ]
     },
     "metadata": {
      "needs_background": "light"
     },
     "output_type": "display_data"
    }
   ],
   "source": [
    "deg_dst(G_new)"
   ]
  },
  {
   "cell_type": "code",
   "execution_count": 16,
   "id": "a223c908",
   "metadata": {},
   "outputs": [
    {
     "data": {
      "image/png": "[encoded data removed]",
      "text/plain": [
       "<Figure size 432x288 with 1 Axes>"
      ]
     },
     "metadata": {
      "needs_background": "light"
     },
     "output_type": "display_data"
    }
   ],
   "source": [
    "deg_dst_Graph(G_new)"
   ]
  },
  {
   "cell_type": "markdown",
   "id": "12e6d86f",
   "metadata": {},
   "source": [
    "### Random simulated graph for newly generated graph"
   ]
  },
  {
   "cell_type": "code",
   "execution_count": 17,
   "id": "3fa2c9a5",
   "metadata": {},
   "outputs": [
    {
     "name": "stdout",
     "output_type": "stream",
     "text": [
      "Random model probability value 0.0038354780345440116 and length of nodes 854\n"
     ]
    }
   ],
   "source": [
    "GT_p = avg_deg_new /(len(G_new.nodes())-1) # caliculating probability\n",
    "GT_nodes=len(G_new.nodes())\n",
    "print('Random model probability value',GT_p, 'and length of nodes', GT_nodes)"
   ]
  },
  {
   "cell_type": "code",
   "execution_count": 18,
   "id": "b68b5429",
   "metadata": {},
   "outputs": [],
   "source": [
    "GT_sim_rndm = nx.gnp_random_graph(GT_nodes, GT_p)\n",
    "# Simulated Random \n",
    "avg_deg_sim, avg_clstrng_sim =  avg_deg_cc(GT_sim_rndm)"
   ]
  },
  {
   "cell_type": "markdown",
   "id": "71eda554",
   "metadata": {},
   "source": [
    "### Isolated Graph"
   ]
  },
  {
   "cell_type": "code",
   "execution_count": 19,
   "id": "db17d151",
   "metadata": {},
   "outputs": [
    {
     "data": {
      "text/plain": [
       "37"
      ]
     },
     "execution_count": 19,
     "metadata": {},
     "output_type": "execute_result"
    }
   ],
   "source": [
    "i= nx.number_connected_components(GT_sim_rndm)\n",
    "i"
   ]
  },
  {
   "cell_type": "code",
   "execution_count": 20,
   "id": "636bd6e6",
   "metadata": {},
   "outputs": [],
   "source": [
    "num = 0 \n",
    "for c in nx.connected_components(GT_sim_rndm):\n",
    "    num += nx.average_shortest_path_length(GT_sim_rndm.subgraph(c))*len(GT_sim_rndm.subgraph(c))\n",
    "GT_sim_avg_path = num/len(GT_sim_rndm.nodes())"
   ]
  },
  {
   "cell_type": "code",
   "execution_count": 21,
   "id": "51c6c5e3",
   "metadata": {},
   "outputs": [
    {
     "name": "stdout",
     "output_type": "stream",
     "text": [
      "Updatd Random Simulated MU Network \n",
      " \n",
      "Average degree 3.2740046838407495\n",
      "Average path 5.441586880653902\n",
      "Average clusteirng 0.003953437294091808\n"
     ]
    }
   ],
   "source": [
    "print(\"Updatd Random Simulated MU Network \\n \")\n",
    "print(\"Average degree\" ,avg_deg_sim)\n",
    "print(\"Average path\", GT_sim_avg_path)\n",
    "print(\"Average clusteirng\", avg_clstrng_sim)"
   ]
  },
  {
   "cell_type": "code",
   "execution_count": 22,
   "id": "2796bb41",
   "metadata": {},
   "outputs": [
    {
     "name": "stdout",
     "output_type": "stream",
     "text": [
      " Average path of Random Model Graph is  0.9889812227109851 times the average path of Marvel Universe\n",
      "Clustering co-efficient of Random graph is 0.021481941689856936 times the Clustering co-efficient of Marvel Uuniverse\n",
      "Newly generated graph diameter is 13\n"
     ]
    }
   ],
   "source": [
    "val1= GT_sim_avg_path/GT_avg_path_new\n",
    "print(' Average path of Random Model Graph is ',val1,'times the average path of Marvel Universe')\n",
    "val2 =  avg_clstrng_sim/avg_clstrng_new\n",
    "print('Clustering co-efficient of Random graph is',val2,'times the Clustering co-efficient of Marvel Uuniverse')\n",
    "print(\"Newly generated graph diameter is\", max([max(j.values()) for (i,j) in nx.shortest_path_length(GT_sim_rndm)]))"
   ]
  },
  {
   "cell_type": "code",
   "execution_count": 23,
   "id": "2c4dbe91",
   "metadata": {},
   "outputs": [
    {
     "data": {
      "image/png": "[encoded data removed]",
      "text/plain": [
       "<Figure size 432x288 with 1 Axes>"
      ]
     },
     "metadata": {
      "needs_background": "light"
     },
     "output_type": "display_data"
    }
   ],
   "source": [
    "deg_dst_Graph(GT_sim_rndm)"
   ]
  },
  {
   "cell_type": "markdown",
   "id": "7d179480",
   "metadata": {},
   "source": [
    "### Prefrential Algorithm Method"
   ]
  },
  {
   "cell_type": "code",
   "execution_count": 24,
   "id": "51d9289b",
   "metadata": {},
   "outputs": [
    {
     "name": "stdout",
     "output_type": "stream",
     "text": [
      "['Jack Russell', 'Elsa Bloodstone', 'Verussa', 'Jovan', 'Azarel', 'Liorn', 'Barasso', 'Billy Swan', 'Ted (The Man-Thing)', 'The Flaming Tuba', 'Ulysses Bloodstone', 'Marc Spector', 'Arthur Harrow', 'Layla El-Faouly', 'Khonshu', 'Bobbi', 'Billy', 'Taweret', 'Selim', 'Crawley', 'Donna', 'Yatzil', 'J.B.', 'Bek', 'Anton Mogart', 'Wendy Spector', 'Sersi', 'Ikaris', 'Thena', 'Ajak', 'Dane Whitman', 'Kingo', 'Sprite', 'Phastos', 'Makkari', 'Druig', 'Gilgamesh', 'Karun', 'Kro', 'Ben', 'Jack', 'Eros', 'Arishem', 'Daimon Helstrom', 'Ana Helstrom', 'Victoria Helstrom', 'Gabriella Rosetti', 'Dr. Louise Hastings', 'Chris Yen', 'Keith Spivey', 'Father Joshua Crow', 'Finn', 'Esther', 'Bryce', 'Officer Derrick Jackson', 'Ellis', 'Jolene Spivey', 'Alex Tilden', 'Archbishop Terrazi', 'Cameron Tate', 'Lee', 'Kthara', 'Papa', 'Aubree Richards', 'Alex Wilder', 'Nico Minoru', 'Karolina Dean', 'Gert Yorkes', 'Chase Stein', 'Molly Hernandez', 'Catherine Wilder', 'Geoffrey Wilder', 'Janet Stein', 'Victor Stein', 'Stacey Yorkes', 'Dale Yorkes', 'Robert Minoru', 'Leslie Dean', 'Tina Minoru', 'Frank Dean', 'Jonah', 'Xavin', 'Tamar', 'Vaughn', 'Darius', 'Frances', 'Aura', 'Morgan le Fay', \"Anthony 'AWOL' Wall\", 'Eiffel', 'Livvie', 'Detective Flores', 'Bronwyn', 'Destiny Gonzalez', 'Amy Minoru', 'Millennial Megan', 'Susan Ellerh', 'Topher', 'Graciela Aguirre', 'Mike on a Bike', 'Dagger', 'Cloak', 'Dagger', 'Cloak', 'Adina Johnson', \"Detective Brigid O'Reilly\", 'Melissa Bowen', 'Detective Connors', 'Evita Fusilier', 'Otis Johnson', 'Auntie Chantelle', 'Nathan Bowen', 'Lia', 'Mina Hess', 'Andre Deschaine', 'Officer Fuchs', 'Liam Walsh', 'Solomon', 'Peter Scarborough', 'Mikayla Bell', 'Duane Porter', 'Ivan Hess', 'Choo Choo Broussard']\n",
      "123\n"
     ]
    }
   ],
   "source": [
    "new_nodes=list()\n",
    "new_nodes1 = list(GT.neighbors('Werewolf by Night*'))\n",
    "for i in new_nodes1: new_nodes.append(i)\n",
    "new_nodes2= list(GT.neighbors('Moon Knight*'))\n",
    "for i in new_nodes2: new_nodes.append(i)\n",
    "new_nodes3= list(GT.neighbors('Eternals*'))\n",
    "for i in new_nodes3: new_nodes.append(i)\n",
    "new_nodes4= list(GT.neighbors('Helstrom*'))\n",
    "for i in new_nodes4: new_nodes.append(i)\n",
    "new_nodes5 = list(GT.neighbors('Runaways*'))\n",
    "for i in new_nodes5: new_nodes.append(i)\n",
    "new_nodes6 = list(GT.neighbors('Cloak & Dagger*'))\n",
    "for i in new_nodes6: new_nodes.append(i)\n",
    "print(new_nodes) # Nodes (actors) adding to the base cluster\n",
    "print(len(new_nodes))"
   ]
  },
  {
   "cell_type": "code",
   "execution_count": 25,
   "id": "b594a7d8",
   "metadata": {},
   "outputs": [
    {
     "name": "stdout",
     "output_type": "stream",
     "text": [
      "Node count in actual MU network 854\n",
      "Removing the nodes including the small clusters titles 123\n",
      "Node count after removing nodes from the MU network 727\n"
     ]
    }
   ],
   "source": [
    "# Removing 'Moon Knight','Eternals', 'Helstrom', 'Cloak & Dagger' & Runaways' and 'Werewolf by Night' clusters from the main graph\n",
    "GT_p = GT.copy()\n",
    "for i in new_nodes: \n",
    "    if i in GT_p.nodes(): GT_p.remove_node(i)\n",
    "GT_p.remove_node('Moon Knight*')\n",
    "GT_p.remove_node('Eternals*')\n",
    "GT_p.remove_node('Helstrom*')\n",
    "GT_p.remove_node('Cloak & Dagger*') \n",
    "GT_p.remove_node('Runaways*')\n",
    "GT_p.remove_node('Werewolf by Night*')\n",
    "print(\"Node count in actual MU network\",len(GT.nodes()))\n",
    "print(\"Removing the nodes including the small clusters titles\",len(new_nodes))\n",
    "print(\"Node count after removing nodes from the MU network\",len(GT_p.nodes()))"
   ]
  },
  {
   "cell_type": "code",
   "execution_count": 26,
   "id": "b9e089e1",
   "metadata": {},
   "outputs": [],
   "source": [
    "def PAM(G,avg_deg,new_nodes):\n",
    "    node_count=len(G.nodes())\n",
    "    G_PAM = nx.Graph\n",
    "    G_PAM = G.copy()\n",
    "    i = node_count-1\n",
    "    G_node_list = np.array((G.nodes()))\n",
    "    #node probability\n",
    "    node_prob =[]\n",
    "    for n in G.nodes():\n",
    "        prob = G.degree(n)/(2*len(G.edges()))\n",
    "        node_prob.append(prob)\n",
    "#node_prob\n",
    "    \n",
    "    for n in range(len(new_nodes)):\n",
    "        i = np.random.choice(new_nodes)\n",
    "        G_PAM.add_node(i)\n",
    "        while (G_PAM.degree(i)!=round(avg_deg)):\n",
    "            j=np.random.choice(G_node_list, p= node_prob)\n",
    "            #print(i,j,G_PAM.degree(i))\n",
    "            G_PAM.add_edge(i,j)\n",
    "        new_nodes.remove(i) \n",
    "        \n",
    "    return G_PAM"
   ]
  },
  {
   "cell_type": "code",
   "execution_count": 27,
   "id": "347c1b00",
   "metadata": {},
   "outputs": [],
   "source": [
    "GT_pp = GT.copy()\n",
    "PAM_MU = PAM(GT_p,avg_deg_new,new_nodes)"
   ]
  },
  {
   "cell_type": "code",
   "execution_count": 28,
   "id": "c26a31b9",
   "metadata": {},
   "outputs": [
    {
     "name": "stdout",
     "output_type": "stream",
     "text": [
      "848 1382\n",
      "PAM-MU Graph \n",
      " \n",
      "Average degree 3.259433962264151\n",
      "Average path 4.5624707625136445\n",
      "Average clusteirng 0.0014442013129102845\n",
      "Newly generated PAM graph diameter is 8\n"
     ]
    }
   ],
   "source": [
    "avg_deg_PAM, avg_clstrng_PAM = avg_deg_cc(PAM_MU)\n",
    "PAM_avg_path= nx.average_shortest_path_length(PAM_MU)\n",
    "print(len(PAM_MU.nodes()), len(PAM_MU.edges()))\n",
    "print(\"PAM-MU Graph \\n \")\n",
    "print(\"Average degree\" ,avg_deg_PAM )\n",
    "print(\"Average path\", PAM_avg_path)\n",
    "print(\"Average clusteirng\", avg_clstrng_PAM)\n",
    "print(\"Newly generated PAM graph diameter is\", max([max(j.values()) for (i,j) in nx.shortest_path_length(PAM_MU)]))"
   ]
  },
  {
   "cell_type": "code",
   "execution_count": 29,
   "id": "63d40495",
   "metadata": {},
   "outputs": [
    {
     "name": "stdout",
     "output_type": "stream",
     "text": [
      " Average path of PAM_MU Graph is  0.8292062613822762 times the average path of Marvel Universe\n",
      "Clustering co-efficient of Random graph is 0.00784741127391032 times the Clustering co-efficient of Marvel Uuniverse\n"
     ]
    }
   ],
   "source": [
    "val1= PAM_avg_path/GT_avg_path_new\n",
    "print(' Average path of PAM_MU Graph is ',val1,'times the average path of Marvel Universe')\n",
    "val2 =  avg_clstrng_PAM/avg_clstrng_new\n",
    "print('Clustering co-efficient of Random graph is',val2,'times the Clustering co-efficient of Marvel Uuniverse')"
   ]
  },
  {
   "cell_type": "code",
   "execution_count": 30,
   "id": "9f0ccacd",
   "metadata": {},
   "outputs": [
    {
     "data": {
      "image/png": "[encoded data removed]",
      "text/plain": [
       "<Figure size 432x288 with 1 Axes>"
      ]
     },
     "metadata": {
      "needs_background": "light"
     },
     "output_type": "display_data"
    }
   ],
   "source": [
    "deg_dst_Graph(PAM_MU)"
   ]
  }
 ],
 "metadata": {
  "kernelspec": {
   "display_name": "Python 3 (ipykernel)",
   "language": "python",
   "name": "python3"
  },
  "language_info": {
   "codemirror_mode": {
    "name": "ipython",
    "version": 3
   },
   "file_extension": ".py",
   "mimetype": "text/x-python",
   "name": "python",
   "nbconvert_exporter": "python",
   "pygments_lexer": "ipython3",
   "version": "3.9.12"
  }
 },
 "nbformat": 4,
 "nbformat_minor": 5
}
