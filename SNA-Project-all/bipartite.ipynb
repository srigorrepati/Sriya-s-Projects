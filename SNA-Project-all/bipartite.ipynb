{
  "nbformat": 4,
  "nbformat_minor": 0,
  "metadata": {
    "colab": {
      "provenance": [],
      "authorship_tag": "ABX9TyMsRwoj5VfIP/NTWzNzujAa",
      "include_colab_link": true
    },
    "kernelspec": {
      "name": "python3",
      "display_name": "Python 3"
    },
    "language_info": {
      "name": "python"
    }
  },
  "cells": [
    {
      "cell_type": "markdown",
      "metadata": {
        "id": "view-in-github",
        "colab_type": "text"
      },
      "source": [
        "<a href=\"https://colab.research.google.com/github/mslater21/SNA-Project/blob/main/bipartite.ipynb\" target=\"_parent\"><img src=\"https://colab.research.google.com/assets/colab-badge.svg\" alt=\"Open In Colab\"/></a>"
      ]
    },
    {
      "cell_type": "markdown",
      "source": [
        "# Graph creation"
      ],
      "metadata": {
        "id": "AcoQdBWMvxii"
      }
    },
    {
      "cell_type": "code",
      "execution_count": 1,
      "metadata": {
        "id": "jrn2Gd2elsA8"
      },
      "outputs": [],
      "source": [
        "import networkx as nx\n",
        "import pandas as pd\n",
        "import matplotlib.pyplot as plt\n",
        "import numpy as np"
      ]
    },
    {
      "cell_type": "code",
      "source": [
        "new_characters = pd.read_csv('marvel_characters.csv')\n",
        "old_characters = pd.read_csv('marvel_characters_trimmed.csv')\n",
        "titles = pd.read_csv('marvel_titles.csv')"
      ],
      "metadata": {
        "id": "Yt1XbrA8mvBY"
      },
      "execution_count": 2,
      "outputs": []
    },
    {
      "cell_type": "code",
      "source": [
        "new_characters.head()"
      ],
      "metadata": {
        "colab": {
          "base_uri": "https://localhost:8080/",
          "height": 206
        },
        "id": "ChG6BylPn7Vb",
        "outputId": "321503f2-ed3e-4197-b04d-6a6ef155ef34"
      },
      "execution_count": 3,
      "outputs": [
        {
          "output_type": "execute_result",
          "data": {
            "text/plain": [
              "                                title                 character  \\\n",
              "0  Captain America: The First Avenger              Steve Rogers   \n",
              "1  Captain America: The First Avenger              Peggy Carter   \n",
              "2  Captain America: The First Avenger              Bucky Barnes   \n",
              "3  Captain America: The First Avenger  Colonel Chester Phillips   \n",
              "4  Captain America: The First Avenger            Johann Schmidt   \n",
              "\n",
              "   character_alias            actor  \n",
              "0  Captain America      Chris Evans  \n",
              "1              NaN    Hayley Atwell  \n",
              "2   Winter Soldier   Sebastian Stan  \n",
              "3              NaN  Tommy Lee Jones  \n",
              "4        Red Skull     Hugo Weaving  "
            ],
            "text/html": [
              "\n",
              "  <div id=\"df-1d52d21c-f209-450b-adb3-fde3deee44ea\">\n",
              "    <div class=\"colab-df-container\">\n",
              "      <div>\n",
              "<style scoped>\n",
              "    .dataframe tbody tr th:only-of-type {\n",
              "        vertical-align: middle;\n",
              "    }\n",
              "\n",
              "    .dataframe tbody tr th {\n",
              "        vertical-align: top;\n",
              "    }\n",
              "\n",
              "    .dataframe thead th {\n",
              "        text-align: right;\n",
              "    }\n",
              "</style>\n",
              "<table border=\"1\" class=\"dataframe\">\n",
              "  <thead>\n",
              "    <tr style=\"text-align: right;\">\n",
              "      <th></th>\n",
              "      <th>title</th>\n",
              "      <th>character</th>\n",
              "      <th>character_alias</th>\n",
              "      <th>actor</th>\n",
              "    </tr>\n",
              "  </thead>\n",
              "  <tbody>\n",
              "    <tr>\n",
              "      <th>0</th>\n",
              "      <td>Captain America: The First Avenger</td>\n",
              "      <td>Steve Rogers</td>\n",
              "      <td>Captain America</td>\n",
              "      <td>Chris Evans</td>\n",
              "    </tr>\n",
              "    <tr>\n",
              "      <th>1</th>\n",
              "      <td>Captain America: The First Avenger</td>\n",
              "      <td>Peggy Carter</td>\n",
              "      <td>NaN</td>\n",
              "      <td>Hayley Atwell</td>\n",
              "    </tr>\n",
              "    <tr>\n",
              "      <th>2</th>\n",
              "      <td>Captain America: The First Avenger</td>\n",
              "      <td>Bucky Barnes</td>\n",
              "      <td>Winter Soldier</td>\n",
              "      <td>Sebastian Stan</td>\n",
              "    </tr>\n",
              "    <tr>\n",
              "      <th>3</th>\n",
              "      <td>Captain America: The First Avenger</td>\n",
              "      <td>Colonel Chester Phillips</td>\n",
              "      <td>NaN</td>\n",
              "      <td>Tommy Lee Jones</td>\n",
              "    </tr>\n",
              "    <tr>\n",
              "      <th>4</th>\n",
              "      <td>Captain America: The First Avenger</td>\n",
              "      <td>Johann Schmidt</td>\n",
              "      <td>Red Skull</td>\n",
              "      <td>Hugo Weaving</td>\n",
              "    </tr>\n",
              "  </tbody>\n",
              "</table>\n",
              "</div>\n",
              "      <button class=\"colab-df-convert\" onclick=\"convertToInteractive('df-1d52d21c-f209-450b-adb3-fde3deee44ea')\"\n",
              "              title=\"Convert this dataframe to an interactive table.\"\n",
              "              style=\"display:none;\">\n",
              "        \n",
              "  <svg xmlns=\"http://www.w3.org/2000/svg\" height=\"24px\"viewBox=\"0 0 24 24\"\n",
              "       width=\"24px\">\n",
              "    <path d=\"M0 0h24v24H0V0z\" fill=\"none\"/>\n",
              "    <path d=\"M18.56 5.44l.94 2.06.94-2.06 2.06-.94-2.06-.94-.94-2.06-.94 2.06-2.06.94zm-11 1L8.5 8.5l.94-2.06 2.06-.94-2.06-.94L8.5 2.5l-.94 2.06-2.06.94zm10 10l.94 2.06.94-2.06 2.06-.94-2.06-.94-.94-2.06-.94 2.06-2.06.94z\"/><path d=\"M17.41 7.96l-1.37-1.37c-.4-.4-.92-.59-1.43-.59-.52 0-1.04.2-1.43.59L10.3 9.45l-7.72 7.72c-.78.78-.78 2.05 0 2.83L4 21.41c.39.39.9.59 1.41.59.51 0 1.02-.2 1.41-.59l7.78-7.78 2.81-2.81c.8-.78.8-2.07 0-2.86zM5.41 20L4 18.59l7.72-7.72 1.47 1.35L5.41 20z\"/>\n",
              "  </svg>\n",
              "      </button>\n",
              "      \n",
              "  <style>\n",
              "    .colab-df-container {\n",
              "      display:flex;\n",
              "      flex-wrap:wrap;\n",
              "      gap: 12px;\n",
              "    }\n",
              "\n",
              "    .colab-df-convert {\n",
              "      background-color: #E8F0FE;\n",
              "      border: none;\n",
              "      border-radius: 50%;\n",
              "      cursor: pointer;\n",
              "      display: none;\n",
              "      fill: #1967D2;\n",
              "      height: 32px;\n",
              "      padding: 0 0 0 0;\n",
              "      width: 32px;\n",
              "    }\n",
              "\n",
              "    .colab-df-convert:hover {\n",
              "      background-color: #E2EBFA;\n",
              "      box-shadow: 0px 1px 2px rgba(60, 64, 67, 0.3), 0px 1px 3px 1px rgba(60, 64, 67, 0.15);\n",
              "      fill: #174EA6;\n",
              "    }\n",
              "\n",
              "    [theme=dark] .colab-df-convert {\n",
              "      background-color: #3B4455;\n",
              "      fill: #D2E3FC;\n",
              "    }\n",
              "\n",
              "    [theme=dark] .colab-df-convert:hover {\n",
              "      background-color: #434B5C;\n",
              "      box-shadow: 0px 1px 3px 1px rgba(0, 0, 0, 0.15);\n",
              "      filter: drop-shadow(0px 1px 2px rgba(0, 0, 0, 0.3));\n",
              "      fill: #FFFFFF;\n",
              "    }\n",
              "  </style>\n",
              "\n",
              "      <script>\n",
              "        const buttonEl =\n",
              "          document.querySelector('#df-1d52d21c-f209-450b-adb3-fde3deee44ea button.colab-df-convert');\n",
              "        buttonEl.style.display =\n",
              "          google.colab.kernel.accessAllowed ? 'block' : 'none';\n",
              "\n",
              "        async function convertToInteractive(key) {\n",
              "          const element = document.querySelector('#df-1d52d21c-f209-450b-adb3-fde3deee44ea');\n",
              "          const dataTable =\n",
              "            await google.colab.kernel.invokeFunction('convertToInteractive',\n",
              "                                                     [key], {});\n",
              "          if (!dataTable) return;\n",
              "\n",
              "          const docLinkHtml = 'Like what you see? Visit the ' +\n",
              "            '<a target=\"_blank\" href=https://colab.research.google.com/notebooks/data_table.ipynb>data table notebook</a>'\n",
              "            + ' to learn more about interactive tables.';\n",
              "          element.innerHTML = '';\n",
              "          dataTable['output_type'] = 'display_data';\n",
              "          await google.colab.output.renderOutput(dataTable, element);\n",
              "          const docLink = document.createElement('div');\n",
              "          docLink.innerHTML = docLinkHtml;\n",
              "          element.appendChild(docLink);\n",
              "        }\n",
              "      </script>\n",
              "    </div>\n",
              "  </div>\n",
              "  "
            ]
          },
          "metadata": {},
          "execution_count": 3
        }
      ]
    },
    {
      "cell_type": "code",
      "source": [
        "new_G = nx.Graph()\n",
        "old_G = nx.Graph()"
      ],
      "metadata": {
        "id": "MiW6zzNPnl-0"
      },
      "execution_count": 4,
      "outputs": []
    },
    {
      "cell_type": "code",
      "source": [
        "for index, row in titles.iterrows():\n",
        "  new_G.add_node(row['title'] + '*', bipartite=0, media_type=row['type'], release_year=row['release_year'], release_month=row['release_month'], release_day=row['release_day'], rating=row['rating'], length=row['length'], starts=row['stars'], genres=row['genres'])\n",
        "  old_G.add_node(row['title'] + '*', bipartite=0, media_type=row['type'], release_year=row['release_year'], release_month=row['release_month'], release_day=row['release_day'], rating=row['rating'], length=row['length'], starts=row['stars'], genres=row['genres'])"
      ],
      "metadata": {
        "id": "FieqyxcVnod8"
      },
      "execution_count": 5,
      "outputs": []
    },
    {
      "cell_type": "code",
      "source": [
        "for index, row in new_characters.iterrows():\n",
        "  if row['title'] == 'What If...?':\n",
        "    char_name = row['character'] + '-AR'\n",
        "  else:\n",
        "    char_name = row['character']\n",
        "  new_G.add_node(char_name, bipartite=1, alias=row['character_alias'], actor=row['actor'])\n",
        "\n",
        "for index, row in old_characters.iterrows():\n",
        "  if row['title'] == 'What If...?':\n",
        "    char_name = row['character'] + '-AR'\n",
        "  else:\n",
        "    char_name = row['character']\n",
        "  old_G.add_node(char_name, bipartite=1, alias=row['character_alias'], actor=row['actor'])"
      ],
      "metadata": {
        "id": "uyqdPiS8pAFN"
      },
      "execution_count": 6,
      "outputs": []
    },
    {
      "cell_type": "code",
      "source": [
        "for index, row in new_characters.iterrows():\n",
        "  if row['title'] == 'What If...?':\n",
        "    char_name = row['character'] + '-AR'\n",
        "  else:\n",
        "    char_name = row['character']\n",
        "  new_G.add_edge(row['title'] + '*', char_name)\n",
        "\n",
        "for index, row in old_characters.iterrows():\n",
        "  if row['title'] == 'What If...?':\n",
        "    char_name = row['character'] + '-AR'\n",
        "  else:\n",
        "    char_name = row['character']\n",
        "  old_G.add_edge(row['title'] + '*', char_name)"
      ],
      "metadata": {
        "id": "snuFuUOIpXI4"
      },
      "execution_count": 7,
      "outputs": []
    },
    {
      "cell_type": "code",
      "source": [
        "new_character_nodes = {n for n, d in new_G.nodes(data=True) if d['bipartite'] == 1}\n",
        "new_title_nodes = set(new_G) - new_character_nodes\n",
        "\n",
        "old_character_nodes = {n for n, d in old_G.nodes(data=True) if d['bipartite'] == 1}\n",
        "old_title_nodes = set(old_G) - old_character_nodes"
      ],
      "metadata": {
        "id": "XlHIZ_Cipo0I"
      },
      "execution_count": 8,
      "outputs": []
    },
    {
      "cell_type": "code",
      "source": [
        "nx.is_bipartite(new_G) and nx.is_bipartite(old_G)"
      ],
      "metadata": {
        "colab": {
          "base_uri": "https://localhost:8080/"
        },
        "id": "DaU6tesryz7h",
        "outputId": "793e8aeb-f9dc-4876-d6c4-a722e3909711"
      },
      "execution_count": 10,
      "outputs": [
        {
          "output_type": "execute_result",
          "data": {
            "text/plain": [
              "True"
            ]
          },
          "metadata": {},
          "execution_count": 10
        }
      ]
    },
    {
      "cell_type": "markdown",
      "source": [
        "# Graph Statistics"
      ],
      "metadata": {
        "id": "LCi_5hCiv2Lb"
      }
    },
    {
      "cell_type": "markdown",
      "source": [
        "## Graph Makeup"
      ],
      "metadata": {
        "id": "oSAeP_btD99m"
      }
    },
    {
      "cell_type": "markdown",
      "source": [
        "### Initial Network"
      ],
      "metadata": {
        "id": "-snT805WVvm8"
      }
    },
    {
      "cell_type": "code",
      "source": [
        "print('Total number of nodes:', old_G.number_of_nodes())\n",
        "print('Total number of edges:', old_G.number_of_edges())\n",
        "\n",
        "print('Number of character nodes:', len(old_character_nodes))\n",
        "print('Number of title nodes:', len(old_title_nodes))"
      ],
      "metadata": {
        "colab": {
          "base_uri": "https://localhost:8080/"
        },
        "id": "Bt1LocsXD7aU",
        "outputId": "630c79fd-5cc1-44d0-c2a7-c1c8439ecb4f"
      },
      "execution_count": 11,
      "outputs": [
        {
          "output_type": "stream",
          "name": "stdout",
          "text": [
            "Total number of nodes: 1806\n",
            "Total number of edges: 2137\n",
            "Number of character nodes: 1746\n",
            "Number of title nodes: 60\n"
          ]
        }
      ]
    },
    {
      "cell_type": "markdown",
      "source": [
        "### Refined Network"
      ],
      "metadata": {
        "id": "xdwlPBi2V8_e"
      }
    },
    {
      "cell_type": "code",
      "source": [
        "print('Total number of nodes:', new_G.number_of_nodes())\n",
        "print('Total number of edges:', new_G.number_of_edges())\n",
        "\n",
        "print('Number of character nodes:', len(new_character_nodes))\n",
        "print('Number of title nodes:', len(new_title_nodes))"
      ],
      "metadata": {
        "colab": {
          "base_uri": "https://localhost:8080/"
        },
        "id": "rScpzqUvV_NT",
        "outputId": "6e533b81-f427-4965-9820-31f7366edb1a"
      },
      "execution_count": 12,
      "outputs": [
        {
          "output_type": "stream",
          "name": "stdout",
          "text": [
            "Total number of nodes: 854\n",
            "Total number of edges: 1142\n",
            "Number of character nodes: 794\n",
            "Number of title nodes: 60\n"
          ]
        }
      ]
    },
    {
      "cell_type": "markdown",
      "source": [
        "## Density"
      ],
      "metadata": {
        "id": "JFvwbPnMv7xn"
      }
    },
    {
      "cell_type": "markdown",
      "source": [
        "### Initial Network"
      ],
      "metadata": {
        "id": "KdNS9m8KWV40"
      }
    },
    {
      "cell_type": "code",
      "source": [
        "print('Density:', nx.bipartite.density(old_G, old_character_nodes))"
      ],
      "metadata": {
        "colab": {
          "base_uri": "https://localhost:8080/"
        },
        "id": "Js-IbR8_laln",
        "outputId": "9e8c9182-de5a-4818-8513-4040d2ffbd09"
      },
      "execution_count": 13,
      "outputs": [
        {
          "output_type": "stream",
          "name": "stdout",
          "text": [
            "Density: 0.02039900725467736\n"
          ]
        }
      ]
    },
    {
      "cell_type": "markdown",
      "source": [
        "### Refined Network"
      ],
      "metadata": {
        "id": "xi1SpKHVWaPP"
      }
    },
    {
      "cell_type": "code",
      "source": [
        "print('Density:', nx.bipartite.density(new_G, new_character_nodes))"
      ],
      "metadata": {
        "colab": {
          "base_uri": "https://localhost:8080/"
        },
        "id": "Tt-Et2nTWbmE",
        "outputId": "f20dea45-db38-45ee-c83c-0157b2f90430"
      },
      "execution_count": 14,
      "outputs": [
        {
          "output_type": "stream",
          "name": "stdout",
          "text": [
            "Density: 0.023971452560873217\n"
          ]
        }
      ]
    },
    {
      "cell_type": "markdown",
      "source": [
        "## Degrees"
      ],
      "metadata": {
        "id": "MUhC5Dn0wNHl"
      }
    },
    {
      "cell_type": "code",
      "source": [
        "old_title_degrees, old_character_degrees = nx.bipartite.degrees(old_G, old_character_nodes)\n",
        "new_title_degrees, new_character_degrees = nx.bipartite.degrees(new_G, new_character_nodes)"
      ],
      "metadata": {
        "id": "CHOzyEtiwo2P"
      },
      "execution_count": 15,
      "outputs": []
    },
    {
      "cell_type": "code",
      "source": [
        "filename='single_degree.txt'\n",
        "outfile = open(filename, 'w')\n",
        "one_degree_characters = [n for (n, d) in character_degrees if d == 1]\n",
        "output = []\n",
        "for index, row in characters.iterrows():\n",
        "  if row['title'] == 'What If...?':\n",
        "    char_name = row['character'] + '-AR'\n",
        "  else:\n",
        "    char_name = row['character']\n",
        "  if char_name in one_degree_characters:\n",
        "    output.append(row['title'] + ': ' + char_name + '\\n')\n",
        "outfile.writelines(output)\n",
        "outfile.close()"
      ],
      "metadata": {
        "id": "E_6Du83y0haV"
      },
      "execution_count": null,
      "outputs": []
    },
    {
      "cell_type": "markdown",
      "source": [
        "### Character Nodes"
      ],
      "metadata": {
        "id": "7wurPvxkwki5"
      }
    },
    {
      "cell_type": "markdown",
      "source": [
        "#### Initial Network"
      ],
      "metadata": {
        "id": "qe-qbju3XKdA"
      }
    },
    {
      "cell_type": "code",
      "source": [
        "# Average Degree\n",
        "sum([d for (n,d) in old_character_degrees]) / len(old_character_nodes)"
      ],
      "metadata": {
        "colab": {
          "base_uri": "https://localhost:8080/"
        },
        "id": "5BQR3JuHwm1j",
        "outputId": "1461730c-61eb-4e99-9edb-2cfe9060934b"
      },
      "execution_count": 16,
      "outputs": [
        {
          "output_type": "execute_result",
          "data": {
            "text/plain": [
              "1.2239404352806416"
            ]
          },
          "metadata": {},
          "execution_count": 16
        }
      ]
    },
    {
      "cell_type": "code",
      "source": [
        "# Node Degree Distribution\n",
        "\n",
        "fig, ax = plt.subplots(1, 2)\n",
        "ax[0].scatter(*np.unique([d for (n,d) in old_character_degrees], return_counts=True))\n",
        "ax[0].set_xlabel('Degree')\n",
        "ax[0].set_ylabel('Number of Nodes')\n",
        "ax[0].set_title('Characters')\n",
        "\n",
        "ax[1].scatter(*np.unique([d for (n,d) in old_character_degrees], return_counts=True))\n",
        "ax[1].set_xlabel('Degree')\n",
        "ax[1].set_title('Characters (log)')\n",
        "ax[1].set_xscale('log')\n",
        "ax[1].set_yticks([])"
      ],
      "metadata": {
        "colab": {
          "base_uri": "https://localhost:8080/",
          "height": 317
        },
        "id": "I_0Ju4Wmlzv9",
        "outputId": "07ce00a2-77f8-47cd-cf1c-dea394b14ae9"
      },
      "execution_count": 18,
      "outputs": [
        {
          "output_type": "execute_result",
          "data": {
            "text/plain": [
              "[]"
            ]
          },
          "metadata": {},
          "execution_count": 18
        },
        {
          "output_type": "display_data",
          "data": {
            "text/plain": [
              "<Figure size 432x288 with 2 Axes>"
            ],
            "image/png": "[encoded data removed]"
          },
          "metadata": {
            "needs_background": "light"
          }
        }
      ]
    },
    {
      "cell_type": "markdown",
      "source": [
        "#### Refined Network"
      ],
      "metadata": {
        "id": "RZgJSvpVXX1U"
      }
    },
    {
      "cell_type": "code",
      "source": [
        "# Average Degree\n",
        "sum([d for (n,d) in new_character_degrees]) / len(new_character_nodes)"
      ],
      "metadata": {
        "colab": {
          "base_uri": "https://localhost:8080/"
        },
        "id": "S-wT5EUpXEQ_",
        "outputId": "2905e60d-bee2-415d-9939-1f88908bfd0a"
      },
      "execution_count": 19,
      "outputs": [
        {
          "output_type": "execute_result",
          "data": {
            "text/plain": [
              "1.438287153652393"
            ]
          },
          "metadata": {},
          "execution_count": 19
        }
      ]
    },
    {
      "cell_type": "code",
      "source": [
        "# Node Degree Distribution\n",
        "\n",
        "fig, ax = plt.subplots(1, 2)\n",
        "ax[0].scatter(*np.unique([d for (n,d) in new_character_degrees], return_counts=True))\n",
        "ax[0].set_xlabel('Degree')\n",
        "ax[0].set_ylabel('Number of Nodes')\n",
        "ax[0].set_title('Characters')\n",
        "\n",
        "ax[1].scatter(*np.unique([d for (n,d) in new_character_degrees], return_counts=True))\n",
        "ax[1].set_xlabel('Degree')\n",
        "ax[1].set_title('Characters (log)')\n",
        "ax[1].set_xscale('log')\n",
        "ax[1].set_yticks([])"
      ],
      "metadata": {
        "colab": {
          "base_uri": "https://localhost:8080/",
          "height": 317
        },
        "id": "kxyzukNuXi2b",
        "outputId": "9d1b73ac-988a-4366-d44a-d42469520667"
      },
      "execution_count": 20,
      "outputs": [
        {
          "output_type": "execute_result",
          "data": {
            "text/plain": [
              "[]"
            ]
          },
          "metadata": {},
          "execution_count": 20
        },
        {
          "output_type": "display_data",
          "data": {
            "text/plain": [
              "<Figure size 432x288 with 2 Axes>"
            ],
            "image/png": "[encoded data removed]"
          },
          "metadata": {
            "needs_background": "light"
          }
        }
      ]
    },
    {
      "cell_type": "markdown",
      "source": [
        "### Title Nodes"
      ],
      "metadata": {
        "id": "cxXpsd4vxCpI"
      }
    },
    {
      "cell_type": "markdown",
      "source": [
        "#### Initial Network"
      ],
      "metadata": {
        "id": "y3hJjCn-YVNF"
      }
    },
    {
      "cell_type": "code",
      "source": [
        "# Average Degree\n",
        "sum([d for (n,d) in old_title_degrees]) / len(old_title_nodes)"
      ],
      "metadata": {
        "colab": {
          "base_uri": "https://localhost:8080/"
        },
        "id": "7p1TD_OyxGEW",
        "outputId": "75438636-7ecf-4dce-f79a-3eafb1ec1a1b"
      },
      "execution_count": 21,
      "outputs": [
        {
          "output_type": "execute_result",
          "data": {
            "text/plain": [
              "35.61666666666667"
            ]
          },
          "metadata": {},
          "execution_count": 21
        }
      ]
    },
    {
      "cell_type": "code",
      "source": [
        "# Node Degree Distribution\n",
        "fig, ax = plt.subplots(1, 2)\n",
        "ax[0].scatter(*np.unique([d for (n,d) in old_title_degrees], return_counts=True))\n",
        "ax[0].set_xlabel('Degree')\n",
        "ax[0].set_ylabel('Number of Nodes')\n",
        "ax[0].set_title('Titles')\n",
        "\n",
        "ax[1].scatter(*np.unique([d for (n,d) in old_title_degrees], return_counts=True))\n",
        "ax[1].set_xlabel('Degree')\n",
        "ax[1].set_title('Titles (log)')\n",
        "ax[1].set_xscale('log')"
      ],
      "metadata": {
        "colab": {
          "base_uri": "https://localhost:8080/",
          "height": 299
        },
        "id": "3MRqlui0q2CF",
        "outputId": "91e0aba9-757c-4acd-e17d-adb013086893"
      },
      "execution_count": 22,
      "outputs": [
        {
          "output_type": "display_data",
          "data": {
            "text/plain": [
              "<Figure size 432x288 with 2 Axes>"
            ],
            "image/png": "[encoded data removed]"
          },
          "metadata": {
            "needs_background": "light"
          }
        }
      ]
    },
    {
      "cell_type": "markdown",
      "source": [
        "#### Refined Network"
      ],
      "metadata": {
        "id": "Nr7_2e3mYmFe"
      }
    },
    {
      "cell_type": "code",
      "source": [
        "# Average Degree\n",
        "sum([d for (n,d) in new_title_degrees]) / len(new_title_nodes)"
      ],
      "metadata": {
        "colab": {
          "base_uri": "https://localhost:8080/"
        },
        "outputId": "68fd3a63-f8de-410a-cddf-1aa6fb212de7",
        "id": "AJ7A7djPYk4M"
      },
      "execution_count": 23,
      "outputs": [
        {
          "output_type": "execute_result",
          "data": {
            "text/plain": [
              "19.033333333333335"
            ]
          },
          "metadata": {},
          "execution_count": 23
        }
      ]
    },
    {
      "cell_type": "code",
      "source": [
        "print(sorted(list(new_title_degrees), key=lambda x:x[1]))"
      ],
      "metadata": {
        "colab": {
          "base_uri": "https://localhost:8080/"
        },
        "id": "TKQw5vCeHBlN",
        "outputId": "6c55419f-6917-4c90-a32c-2f4369dca637"
      },
      "execution_count": 47,
      "outputs": [
        {
          "output_type": "stream",
          "name": "stdout",
          "text": [
            "[(\"Marvel One-Shot: A Funny Thing Happened on the Way to Thor's Hammer*\", 1), ('Marvel One-Shot: The Consultant*', 3), ('I Am Groot*', 3), ('Marvel One-Shot: Item 47*', 4), (\"Peter's To-Do List*\", 4), ('Marvel One-Shot: Agent Carter*', 4), ('WHIH News Front*', 5), ('The Incredible Hulk*', 5), ('Marvel One-Shot: All Hail the King*', 6), ('Doctor Strange*', 8), ('Loki*', 8), ('Black Widow*', 8), ('Secret Invasion*', 9), ('Werewolf by Night*', 11), ('Captain America: The First Avenger*', 11), ('Agents of S.H.I.E.L.D.: Slingshot*', 11), ('Captain Marvel*', 11), ('Spider-Man: Homecoming*', 11), ('Guardians of the Galaxy*', 12), ('Ant-Man and the Wasp*', 12), ('Iron Man*', 13), ('Guardians of the Galaxy Vol. 2*', 13), ('Iron Man 2*', 13), ('Black Panther*', 13), ('Captain America: The Winter Soldier*', 14), ('Ant-Man*', 14), ('Thor: The Dark World*', 14), ('Thor*', 15), ('Moon Knight*', 15), ('The Avengers*', 15), ('Iron Man 3*', 15), ('Thor: Ragnarok*', 16), ('Ms. Marvel*', 16), ('Eternals*', 17), ('Hawkeye*', 18), ('Doctor Strange in the Multiverse of Madness*', 19), ('WandaVision*', 19), ('Spider-Man: Far from Home*', 20), ('The Defenders*', 21), ('Cloak & Dagger*', 21), ('Avengers: Age of Ultron*', 21), ('Shang-Chi and the Legend of the Ten Rings*', 21), ('Captain America: Civil War*', 21), ('Helstrom*', 21), ('Thor: Love and Thunder*', 22), ('Iron Fist*', 22), ('Daredevil*', 22), ('Spider-Man: No Way Home*', 23), ('Inhumans*', 23), ('The Punisher*', 24), ('Agent Carter*', 26), ('The Falcon and the Winter Soldier*', 31), ('Runaways*', 38), ('Avengers: Infinity War*', 41), ('Luke Cage*', 42), ('She-Hulk: Attorney at Law*', 42), ('Agents of S.H.I.E.L.D.*', 47), ('Jessica Jones*', 57), ('Avengers: Endgame*', 62), ('What If...?*', 68)]\n"
          ]
        }
      ]
    },
    {
      "cell_type": "code",
      "source": [
        "# Node Degree Distribution\n",
        "fig, ax = plt.subplots(1, 2)\n",
        "ax[0].scatter(*np.unique([d for (n,d) in new_title_degrees], return_counts=True))\n",
        "ax[0].set_xlabel('Degree')\n",
        "ax[0].set_ylabel('Number of Nodes')\n",
        "ax[0].set_title('Titles')\n",
        "\n",
        "ax[1].scatter(*np.unique([d for (n,d) in new_title_degrees], return_counts=True))\n",
        "ax[1].set_xlabel('Degree')\n",
        "ax[1].set_title('Titles (log)')\n",
        "ax[1].set_xscale('log')"
      ],
      "metadata": {
        "colab": {
          "base_uri": "https://localhost:8080/",
          "height": 299
        },
        "outputId": "5d4fc060-1643-4e3b-f9ca-6d1492f6741f",
        "id": "tgcBvAPkYk4M"
      },
      "execution_count": 43,
      "outputs": [
        {
          "output_type": "display_data",
          "data": {
            "text/plain": [
              "<Figure size 432x288 with 2 Axes>"
            ],
            "image/png": "[encoded data removed]"
          },
          "metadata": {
            "needs_background": "light"
          }
        }
      ]
    },
    {
      "cell_type": "markdown",
      "source": [
        "# Character Projected Graph\n"
      ],
      "metadata": {
        "id": "pgHqtuBuJFJ4"
      }
    },
    {
      "cell_type": "markdown",
      "source": [
        "### Initial Network"
      ],
      "metadata": {
        "id": "0TIJgw1IY27b"
      }
    },
    {
      "cell_type": "code",
      "source": [
        "old_G_char = nx.bipartite.projected_graph(old_G, old_character_nodes)\n",
        "print(old_G_char)"
      ],
      "metadata": {
        "colab": {
          "base_uri": "https://localhost:8080/"
        },
        "id": "pmn4MbFKJISS",
        "outputId": "e0c74872-5653-4c0e-94c6-ca77125f4d27"
      },
      "execution_count": 24,
      "outputs": [
        {
          "output_type": "stream",
          "name": "stdout",
          "text": [
            "Graph with 1746 nodes and 137160 edges\n"
          ]
        }
      ]
    },
    {
      "cell_type": "code",
      "source": [
        "# Average Degree\n",
        "sum([d for (n,d) in nx.degree(old_G_char)]) / old_G_char.number_of_nodes()"
      ],
      "metadata": {
        "colab": {
          "base_uri": "https://localhost:8080/"
        },
        "id": "0Y63Q9ILKUYl",
        "outputId": "79db6135-392a-485d-89ff-c7a5dc9f67d1"
      },
      "execution_count": 25,
      "outputs": [
        {
          "output_type": "execute_result",
          "data": {
            "text/plain": [
              "157.11340206185568"
            ]
          },
          "metadata": {},
          "execution_count": 25
        }
      ]
    },
    {
      "cell_type": "code",
      "source": [
        "# Node Degree Distribution\n",
        "fig, ax = plt.subplots(1, 2)\n",
        "ax[0].scatter(*np.unique([d for (n,d) in nx.degree(old_G_char)], return_counts=True))\n",
        "ax[0].set_xlabel('Degree')\n",
        "ax[0].set_ylabel('Node Frequency')\n",
        "ax[0].set_title('Characters')\n",
        "\n",
        "ax[1].scatter(*np.unique([d for (n,d) in nx.degree(old_G_char)], return_counts=True))\n",
        "ax[1].set_xlabel('Degree')\n",
        "ax[1].set_title('Characters (log)')\n",
        "ax[1].set_xscale('log')"
      ],
      "metadata": {
        "colab": {
          "base_uri": "https://localhost:8080/",
          "height": 299
        },
        "id": "htZFhXT0Kkrx",
        "outputId": "1e29290e-211b-4cee-ada1-3fcd1929b894"
      },
      "execution_count": 41,
      "outputs": [
        {
          "output_type": "display_data",
          "data": {
            "text/plain": [
              "<Figure size 432x288 with 2 Axes>"
            ],
            "image/png": "[encoded data removed]"
          },
          "metadata": {
            "needs_background": "light"
          }
        }
      ]
    },
    {
      "cell_type": "code",
      "source": [
        "# Components\n",
        "components = nx.connected_components(old_G_char)\n",
        "for component in components:\n",
        "  print(len(component), component)"
      ],
      "metadata": {
        "colab": {
          "base_uri": "https://localhost:8080/"
        },
        "id": "Kn79TGHHK4P1",
        "outputId": "482fcb5f-2ab8-4727-fe42-e578c9e8aa24"
      },
      "execution_count": 33,
      "outputs": [
        {
          "output_type": "stream",
          "name": "stdout",
          "text": [
            "1631 {'Karen Page', 'Emily Deville', 'Quinton the Great', 'Andrew Brandt', 'Janice', 'Agent Jackson', 'Little Maya', 'Dennis Bukowski', 'Luther Banks', 'Zoha', 'Bronaja', 'Yusuf', 'Baron von Strucker', 'Special Agent Sonya Falsworth', 'Mika Prada', 'King Laufey', 'Inn Keeper', 'Etta Lucas', 'Dr. Wilton', 'Reva Connors', 'Skaar', 'Qasim Zaghlul', 'Robert Minoru', 'Officer Zbyszewski', 'Stewart', 'Little Kazi', 'State Senator Asa Henderson', 'Principal Morita', 'Iridia', 'Geoffrey Wilder', 'Tweaky', 'Torre', 'Agent Mike Li', 'Kamar-Taj Teacher', 'Agent Calderon', 'Officer Kennedy', 'Bronwyn', 'Dimitri', 'Nova Prime', 'Griffin Sinclair', 'Carlo Eastman', 'Carlos', 'George Stephanopoulos', 'Agent Anderson', 'Fariha', 'Quentin Beck', 'Joan Rivers', 'Eugene', 'Knox', 'Dr. Abraham Erskine', 'Young Tandy', 'Neda Kazemi', 'Mantis', 'Martina', 'Ovechkin', 'Dr. Leslie Hansen', 'Betty Brant', 'Agent Foster', 'Hope Shlottman', 'Bob Shlottman', 'Elaine Walters', 'Ruby', 'Deputy Murphy', 'Alex Wesley', 'Dr. Broussard', 'Lucio', 'Nikki Ramos', 'Mrs. Davis', 'Aldrich Killian', 'Dane Whitman', 'Mama Mabel', 'Agent Kaminsky', 'Mary Jain', 'Frank Castle Jr.', 'Sharon Carter', 'Adrian', 'White Power Dave', 'Englishman', 'Hela', 'Chief Duchamp', 'Seth Dormer', 'Bynum', 'Ruihua', 'Dr. Tiboldt', 'Morris Walters', 'Lila Barton', 'Andre Deschaine', 'John Walker', 'Inspector Priscilla Ridley', 'Esther Falb', 'Norma', 'Kevin Singleton', 'Director Tyler Hayward', 'Marlene Fisk', 'Paripan', 'Felix', 'Volstagg', 'Adamo Dioli', 'Billy Maximoff', 'Alex Wilder', 'Detective Costa', 'Dr. Noah Burstein', 'George Bach', 'Grant Ward', 'Kilgrave', 'Young Matt', 'Todd', 'Mr. Harrington', 'Cusi', 'Harley Keener', 'Janet Van Dyne', 'Thanos', 'Diaz', 'Agent Moore', 'Baal-Gad', 'Chief Ronnie Velasco', 'Agent Tyler', 'Young Danny Rand', 'Mrs. Vistain', 'Mancini', 'Grill', 'Eric Hong', 'Hercules', 'DeeDee', 'Frigga', 'Tamar', 'Lisa Castle', 'Tina Adams', 'Bar Monkey', 'Agent Cleary', 'Sal Blaskowski', 'Luke', 'Committee Chairperson', 'Lieutenant Decker', 'Michelle Raymond', 'Dr. Eileen Mercer', 'Laura Hayward', 'Ho Yinsen', 'Soh-Larr', 'Aura', 'Auntie Ingrid', 'Burrows', 'Edward Nelson', 'Colonel Chester Phillips', 'Reno', 'Spectre 2', 'Justis Ambrose', 'Christopher Roth', 'Dale Yorkes', 'Doyle', 'John Mackenzie', 'Jack Rollins', 'Serene Inhuman', 'Dante Chapman', 'Luis', 'Cooper Barton', 'Navid', 'Norm', \"Henry 'Pop' Hunter\", 'Jano', 'Agent Lumley', 'Frank Castle', 'Nicole', 'Young Molly', 'Senator Stan Ori', 'Otis Johnson', 'Darryl', 'Olivia Walker', \"Colleen O'Brien\", 'Young Kilgrave', 'Dr. Seth Honicky', 'Sophia', 'Michael Kemp', 'David Lieberman', 'Baron Von Strucker', 'Mike Peterson', 'Kirk Vogel', 'Mrs. Hillman', 'Solomon', 'Mayan', 'Minn-Erva', 'Dwayne Blaskowski', 'Selim', 'Kusack', 'Yondu', 'Adina Johnson', 'Louise', 'Reese', 'Mr. Hillman', 'Bernie Walker', 'Gene Hernandez', 'Frank', 'Curtis Hoyle', 'Dr. Grady', 'Mrs. Lee', 'Antoine', 'Manuel Silva', 'Trevor Slattery', 'He Who Remains', 'The Broker', 'Ian', 'Agent Diaz', 'Aadam', 'Topher', 'Agent Yauch', 'Anton Petrov', 'Shane Larson', 'Dr. Hamid Madani', 'Kincaid', 'Agent Delancey', 'Yinsen', 'Stanley', 'Stan Lee', \"Isabelle 'Izzy' Hartley\", 'Sonny Burch', 'Trish Walker', 'Zainab', 'Li', 'Detective Defford', 'Agent Piper', 'Judge Cynthia Batzer', 'Donald Hooper', 'Laura Barton', 'Monica Rambeau', \"Wilfred 'Freddy' Malick\", 'Eitri', 'Donnie Gill', 'Idaho', 'Susanna', 'Melinda May', 'Steve Scott', \"Anthony 'AWOL' Wall\", 'Sol Rama', 'Katya', 'Kate', 'Clint', 'Zuri', 'Leonard', 'Darcy Lewis', 'Shuri', 'Keely', 'Cornell Stokes', 'Mina Hess', 'Greg Pressfield', 'Alistair Fitz', 'Morgan Stark', 'Loyolis', 'Uncle Timmy Nelson', 'Dr. Nic West', 'Missy', 'Maria Hill', 'Laurent Lyonne', 'Detective Rivera', 'Audrey', 'Hasan', 'Charles Bradley', 'Agent Butch Wallace', 'Dr. Bill Foster', 'Glenn Talbot', 'Lord Thornally', 'Montalban', 'SAC Tammy Hattley', 'Melina', 'Blake Tower', 'Alisa Jones', 'Joel Spurlock', 'Dr. Van Kempen', 'Lei Kung', 'Mr. Wilson', 'Derek Bishop', 'Bron-Char', 'Krista Dumont', 'Judge Amanda Garmon', 'Bethany', 'Mita Nansari', 'Norman Osborn', 'Kamran', 'Danny Rand', 'Xiao Chen', 'Josie', 'Agent Ryan', 'Pax', 'Dallas Wyatt', 'Damon Boone', 'Holden Radcliffe', 'Dinah Madani', 'Young Black Bolt', 'Topaz', 'Yuri Zaikin', 'Christine Everhart', 'Senator Atwood', 'Dr. Kozlov', 'Crystal', 'Oblo', 'Eli Morrow', 'Kyle Zeller', 'Richie', 'Haruto Yakimura', 'Paul', 'Agent Deever', 'Marc Spector', 'Max Dillon', 'Asgardian Stagehand', 'Case', 'Long-Haired Gambler', 'Surtur', 'Heavy', 'Doctor Zakarian', 'Dr. Helen Cho', 'Felix Blake', 'Jack Murdock', 'Wendy Ross-Hogarth', 'Howard Stark', 'Ravonna Renslayer', 'Savin', 'Armand III', 'Detective Imada', 'The Collector', 'Stone', 'Geiger', 'Otto Mink', 'King Yakan', 'Dr. Pascal Vega', 'Zach Lieberman', 'Dr. Gallo', 'Steve Rogers', 'Thomas Gloucester', 'Shameek Smith', 'Deputy Ken Ogden', 'Sam', 'Frances', 'Red Dagger', 'Agent Markham', 'Antonia', 'Mitchell Ellison', 'Dr. Streiten', 'E.D.I.T.H.', 'Mr. Cardozo', 'AJ', 'Stephanie aka Billie', 'Katie Thompson', 'Faulnak', 'Jamel Shabazz', 'Casey', 'Crawley', 'Shepard', 'Detective Flores', 'Rebel Skrull leader Gravik', 'Sheldon', 'Major Kathleen Sparr', 'Major Allen', 'Charles Hinton', 'Pretorious Pryce', 'Officer Pickett', 'Luanne', 'Dreykov', 'Elena Cardenas', 'Zemo', 'Ivan', 'Captain William Dole', 'Dr. Nicodemus West', 'Gunner', 'Flora', 'Santino Noguera', 'Louisa Delgado', 'Drax', 'Young Trish', 'Cecilio', 'D-Nice', 'Director Jeffrey Mace', 'Davos', 'Pip the Troll', 'Maria Rodriguez', 'Luke Jacobson', 'Gregory Sallinger', 'Hope Mackenzie', 'Miles Lydon', 'Laura', 'Ms. Warren', 'Flint', 'Liam Walsh', 'Santino', 'Sivian Foreman', 'Ronnie Chang', 'David Ellerh', 'Ancient Shop Manager', 'Wong', 'Genesis', 'Aida', 'Professor Charles Xavier', 'Kraglin', 'Auntie Zara', 'Graham', 'Skurge', 'Lulu', 'Noah', 'Nathi Zuma', 'Vice President Rodriguez', 'Agent Blackwell', 'Leo Lieberman', 'Goon One', 'Security Chief Liu', 'Battlestar', 'Officer Cooper', 'Councilman Yen', 'Sibyl', 'Korath', 'Gabe Jones', 'Deke Shaw', 'Donny Blaze', 'Beth Quinn', 'Carl Creel', 'James Rhodes', 'Kasius', 'Jin Lin', 'Felix Manning', 'Amy Bendix', 'The Other', 'Sheriff Hardin', 'Sugar', 'Hannah', 'Eric Fraser', 'Olga Pachinko', 'Saracen', 'Violet', 'Dwight Frye', 'Dr. Patel', 'Lloyd Rathman', 'Tibor', 'Arthur Walsh', 'Ben', 'Kropsky', 'Evita Fusilier', \"Jimmy 'The Bear'\", 'Oeznik', 'John Epps', 'Tech', 'Detective Rafael Scarfe', 'Madame Gao', 'Carol Danvers', 'Uzman', 'Zaya Okonjo', 'Hugh Jones', 'Anderson Schultz', 'Roscoe Sweeney', 'Carl Lucas', 'Layla El-Faouly', \"O'Connor\", 'Officer Fitzgibbon', 'Henry Yip', 'John Hammer', 'Pam', 'Yasmin', 'Cajun', 'Dr. Karl Malus', 'Kalinda Porter', 'Catherine Starr', 'Calvin Chadwick', 'Gorr', 'Marci Stahl', 'Francisco Rodriguez', 'Adam Cross', 'Taylor', 'Chad', 'Baron Mordo', 'Kazi', 'Lana', 'Phineas Mason', 'Mary Walker', 'Dapper Dan', \"Alphonso 'Mack' Mackenzie\", 'D.K.', 'Gretchen', 'Franklin Delano Roosevelt', 'Chancellor Hui', 'Sonia', 'Neville', 'Gordon', 'Theo Nelson', \"M'Baku\", 'Pepper Potts', 'Hameed', 'Young Wilson Fisk', 'Ott', 'Samuel Voss', 'Priya', 'Len Sirkes', 'James Lucas', 'Chronicom', 'Hirochi', 'Leet Brannis', 'Rowan Hamilton', 'Viro', 'Ying Nan', 'Officer Carl Nussbaumer', 'Briggs', 'The Sheikh', 'Eliza Schultz', 'Murakami', 'Sami Nadeem', 'Xu Wenwu', 'Akihiko', 'Brad Davis', 'Joey Gutierrez', 'Eva Belyakov', 'Heather Rand', 'Miss Minutes', 'Groot', 'Alexander Pierce', 'Dr. Grant', 'Leon', 'Grills', \"T'Challa\", 'Dove', 'Edison Po', 'Werner von Strucker', 'Francine', 'Megan McClaren', 'Jones', 'Sakas', 'Selwyn', 'Robin Hinton', 'Senator Cherryh', 'Kree Watch Commander', 'Dagger', 'Skeevy Guy', 'Sandra', 'Mr. Zhang', 'Mr. Berkowitz', 'Agent McCafferty', 'Man-Bull', 'Dennis the Mailman', 'Sissy Garcia', 'Ray Nadeem', 'Agent Barbour', 'Kenneth Turgeon', 'Hamir', 'Benjamin Donovan', 'Ronan', 'Rufus', 'Kevin Page', 'Brick', 'Sway Calloway', 'Alpha Dog', 'Todd Chesterfield', 'Lieutenant Ferrara', 'Agent Nathanson', 'Stacey Yorkes', 'Susan Ellerh', 'Johann Schmidt', 'Kimball', 'Dan Hartlett', 'Obadiah Stane', 'Abu Bakaar', 'Pedestrian', 'Becca', 'Jason Wilkes', 'Waipo', 'Seema Nadeem', 'José', 'Isaiah', 'Sam Wilson', 'Anton Ivanov', 'Roy Olsky', 'Soo', 'Malekith', 'Paxton', 'Elena Rodriguez', 'Agent Davis', 'Sebastian', 'Dr. Fitzgibbon', 'Jane Foster', 'Councilwoman Hawley', 'Tommy Chang', 'Officer Stuart', \"Robert 'Whizzer' Coleman\", 'Mikayla', 'Caleb', 'Carson Wolf', 'Sersi', 'John Donnelly', 'Taserface', 'Dr. Otto Octavius', 'Dave', 'Agent Rebecca Stevens', 'Maggie', 'Agent Keller', 'Tucker Shockley', 'Pablo', 'Nico Minoru', 'Chuck Donelan', 'Druig', 'Jake Nelson', 'Jemma Simmons', 'Ahmad Zubair', 'Maria Stark', 'Tullk', 'Wendy Spector', 'Lieutenant Lucas', 'Agent Noelle Walters', 'Joe the Orderly', 'Grotto', 'Mrs. Mahoney', 'Khonshu', 'Aamir', 'Hogun', 'Brett Mahoney', 'Chen Wu', 'Vladimir', 'Rosie', 'Spud', 'Senator Boynton', 'Col. Morty Bennett', 'Flash Thompson', 'Cole', 'Agent Kim', 'Lopes', 'Valkyrie', 'Tony Caine', 'Crank', 'Justin Hammer', 'Thembi Wallace', 'Airman Whitley', 'William Rawlins', 'Ramonada', 'Audrey Nathan', 'Leticia', 'Latimer Zyl', 'Loretta Dooley', 'Dr. Goodman', 'Anna Nelson', 'Neils', 'Agent Cale', 'General Gabriel', 'Doctor Evans', 'Herman', 'Sheldon McFee', 'Maynard', 'Snowflake', 'Sylvie', 'Tony Diaz', 'Hipster Earl', 'Agent Quan', 'Spectre 1', 'Carol Denvers', 'Calvin Zabo', 'Judge Price', 'Death Dealer', 'Dr. Arnim Zola', 'Happy Sam Sawyer', 'Agent Brandon Gamble', 'Marilyn', 'Torx', 'Semyon', 'Ernesto The Barber', 'Albert', 'Jason Ionello', 'Agent Garrett', 'Cousin Ched', 'Mike on a Bike', 'Ulysses Klaue', 'Ayesha', 'Anibal Izqueda', 'Dana', 'Dr. Irene Bickell', 'Cindy', 'Mallory Book', 'Isaac', 'Aunt May', 'Vanessa Marianna', 'Victoria', 'Loki', 'Dr. Gregory Tepper', 'Maria', 'General Joe Greller', 'Father Delgado', 'Madisynn', 'Erik Gelden', 'Coach Wilson', 'Nicholas Lee', 'Roger', 'Eugene Patilio', 'Bereet', 'Victor', 'Dylan', 'Chase Stein', 'Vanchat', 'Destiny', 'Retch', 'Ian Quinn', 'Sasha Demidov', 'Nesbitt', 'JARVIS', 'Gabe Reyes', 'Dr. Evan Declan', 'Avalon', 'Muneeba', 'Jan', 'Eros', 'Melvin Potter', 'Paul Edmonds', 'Senator Gaius Ponarian', 'Josh Elliott', 'Andre', 'Beta', 'Copper', 'Agent Baylin', 'Kingpin', 'Sarah Wilson', \"Brianna 'Berry' Gelden\", 'Narblik', 'Dr. Weiss', 'Bill Fisk', 'Betty', 'Sprite', 'Jasper Sitwell', 'Pete Boggs', 'Secretary Ross', 'David', 'Dr. Samberly', 'Rooster', 'Shawn', 'Eldrac', 'Candice Lee', 'Jarvis', 'Kevin', 'Andrew Garner', 'Elias', \"King T'Chaka\", 'Holo', 'Amalia Chavez', 'Cassie Lang', 'Joseph Manfredi', 'Colonel Ray Schoonover', 'Nichelle', \"Mortimer 'Mr. Fish' Norris\", 'Tone', 'Yatzil', 'Diontey', 'Marion James', 'William Lopez', 'Tilda Johnson', 'Hernan Alvarez', 'Detective Blake', 'Jen', 'Aaron Davis', 'David Angar', 'Leland Owlsley', 'The Baroness', 'Eleanor Bishop', 'Nathaniel Pietro Barton', 'Colonel Ernst Mueller', 'Mitchell Carson', 'Callie Hannigan', 'Thunderball', 'Fletcher Heggs', 'Will Simpson', 'Inez Green', 'Duane Porter', 'Zach', 'Mason', 'Najma', 'Brian Jones', 'Enoch', 'Gilgamesh', 'Councilman Singh', 'Gao Lei', 'Fiz', 'Michael Carter', 'Graciela Aguirre', 'Nathan Bowen', 'Jasper Evans', 'Dog of Hell', 'Raza', 'Sif', 'Tinker', 'Dr. Bruner', 'General Androvich', 'Ava', 'Howard the Duck', 'Anton Mogart', 'Millennial Megan', 'Agent Julian', 'Audrey Eastman', 'Ultron', 'Agent Sitwell', 'Rintrah', 'Qolpakc', 'Agent Shaw', 'Kyle', 'Tess', 'John McIver', 'Hunter B-15', 'Lance Hunter', 'The Amazing Mertz', 'John Garrett', 'Vision', 'Brandon', 'Amit', 'Patricia Wilson', 'Dr. Hank Pym', 'Hope Van Dyne', 'On-Set Rocket', 'Greaseball', 'Livvie', 'Rafael Hernandez', 'Connie Lin', 'Schneider', 'Alexei', 'Roxy Glass', 'Agent Pinksy', 'Jesse Fletcher', 'Lady Sif', 'Luca Russo', 'Shannon', 'David Schultz', 'Taweret', 'Flint Marko', 'Nurse Billy', 'Daniel Drumm', 'Bobby', 'Anton', 'Colleen Wing', 'Rose', \"Detective Brigid O'Reilly\", 'Luke Cage', 'Dovich', 'Clea', 'Daniel Whitehall', 'Dr. Fine', 'Vaughn', 'Mordis', 'Saleem', 'Alexandra Reid', 'Spider', 'Paxton Page', 'Tye', 'Donna', 'Algrim', 'Miles Van Ert', 'Detective Mark Bailey', 'Detective Sunday', 'Pedro The Bartender', 'Tina Minoru', 'On-Set She-Hulk Reference', 'Director Kenneth', 'Dr. Marcus Benson', 'Lindsay', 'Russell Feldman', 'Silvio', 'Ebony Maw', 'Sister Maggie', 'Nigel Garrison', 'Agent Monti', 'Tobias', 'Gef', 'Alice Hernandez', 'Janis', 'Martinex', 'Isabela Alvarez', 'Bobbi Morse', 'Delores', 'Wendell Levi', 'Toshiro Mori', 'Aiko', 'Uncle Bud', 'Brandt', 'Crony', 'Maya Lopez', 'Keith', 'Aisha', 'Mrs. Elizabeth De Luca', 'Detective Lemieux', 'Linda', 'Honest Eddie', 'Arishem', 'Dr. Stephen Strange', 'Kith Lyonne', 'Tat', 'Alonso Barber', 'Black Bolt', 'Philip', 'Nicole Mackenzie', 'Young Adult Cottonmouth', 'Uncle Tucker', 'Yelena Boleva', 'Denarian Saal', 'Dottie Jones', 'Dutton', 'Virgil', 'Thomas', 'Sonya', 'Ayla', 'Peggy Carter', \"Sergeant Jacob 'Jake' Smith\", 'General Jacobs', 'Sandi Ann', 'Dr. Andrew Lee', 'Agent Wahl', 'Peter Parker', 'Karli Morgenthau', 'Edwin Abbott', 'Mariah Dillard', 'Thomas Blaskowski', 'Wilma Cully', 'Lars', 'Fandral', 'Weems', 'Dorothy', 'Sally', 'Detective Nandi Tyler', 'Jon Jon', 'Brett Latour', 'Agent Ford', 'Rosalind Price', 'Major', 'Polly Hinton', 'Bret Johnson', 'Finn', 'Nathaniel Malick', 'Roy Healy', 'Spectre 3', 'Marcus Scarlotti', 'Lerato', 'Cornelius P. Willows', \"Raymond 'Piranha' Jones\", 'Jack', 'Styler', 'Boyle', 'Lewis Walcott', 'Jimbo', 'Agent Thomas', 'Abomination', 'Vinny', 'Gerald Sharpe', 'Cricket', 'Young Xialing', 'Stakar Ogord', 'Agent More', 'Amy Minoru', 'Joseph Bauer', 'Odin', 'Makkari', 'Lila', 'Joaquin Torres', 'Huhtar', 'Sammy', 'Government Official', 'Will Adams', 'Martha', \"Daisy 'Skye' Johnson\", 'Marcus', 'Senator Stern', 'Professor Steger', 'Hero Torfan', 'Sheikh Abdullah', 'Talos', 'Warden Riggle', 'Bert Hunter', 'Peter Lyonne', 'Wendy', 'Thomas Nash', 'Maury Tuttlebaum', 'Gert Yorkes', 'Matt Murdock', 'Smithsonian Guard', 'Torrance', 'Kree Captain', 'Jaco', 'Zoe', 'Anitolov', 'Arthur Harrow', 'Young Medusa', 'Dr. Gabe Krasner', 'Detective Hoffman', 'Detective Connors', 'Lieutenant Evans', 'President Ellis', 'Doris Toomes', 'Prime Minister Olshenko', 'William May', 'Forger', 'Scott Lang', 'Abe', 'Liz', 'Baron Zemo', 'Shaun', \"Wilfredo 'Chico' Diaz\", 'George Kotsiopoulos', 'Undersecretary Walter Thomas', 'Mr. Dell', 'Dottie Underwood', 'Agent Harlan', 'Whitney Frost', 'Tomas', 'Tyr', 'Eiffel', 'King Valkyrie', 'Thor', 'Chris Murray', 'Gorgon', 'J.T. James', 'Rory', 'Vido Arocho', 'Char', 'Yon-Rogg', 'Julien Beckers', 'Karun', 'Miek', 'Tina', 'Kamala Khan', 'Roger Browning', 'Jackson', 'Jiaying', 'Yori', 'Catering Captain Gary', 'Najaf', 'Valentina Allegra de Fontaine', 'Janet Stein', 'Eric Ambrose', 'Sunjna Nadeer', 'Roger Dooley', 'Agent Prince', 'J. Jonah Jameson', 'Ivan Vanko', 'Ayo', 'Anon', 'Michael Pilgrim', 'Adrian Toomes', 'Agent Fox', 'Detective Tomas Ciancio', 'John Bruno', 'Lian May', 'Sara Haines', 'Maureen Denton', 'Clay Wilson', 'Tony Stark', 'Thomas Roberts', 'Ego', 'Titania', 'Horuz', 'Agent Harris', 'Lilla Mackenzie', 'Nonna Manfredi', 'Leah', 'El Aguila', 'Lucy Bauer', 'Goon Three', 'Betty Ross', 'Victor Stein', 'Vernon Masters', 'Chase Brunski', 'Agent King', 'Doctor Wu', 'Walt Cooper', 'Bill Maher', 'Cloak', 'Sergei Konchevsky', 'Happy Hogan', 'Nurse Smith', 'Kerry Duggan', 'Agent Rodriguez', 'Javier', 'Agent Wellers', 'Bakuto', 'Triton', 'Jimmy Mackenzie', 'Morgan le Fay', 'Mrs. Hart', 'Toad', 'Oscar', 'Lawrence Wilkins', 'Agent Burleigh', 'Octavian Bloom', 'Colonel Victor Ramon', 'Anatoly', 'Lia', 'Catherine Wilder', 'Edwin Jarvis', 'L.T. Koenig', 'Orville', 'Brian Hayward', 'Thena', 'Flash', 'Francis', 'Miriam', 'Dornfeld', 'Agent Alvarez', 'Giyera', 'Elias Spector', 'William Ginter Riva', 'Agent Arinori', 'America Chavez', 'Owais', \"Dontrell 'Cockroach' Hamilton\", 'Lexi Raymond', 'Louise Thompson', 'Iwua', 'Agent Jones', 'Cassie', 'Isaiah Bradley', 'Jack Duquesne', \"T'Chaka\", 'Kara Lynn Palamas', 'Trevor Khan', 'Ward Meachum', 'Domingo Colon', 'Vladimir Ranskahov', 'Private Tilden', 'Baby Groot', 'Agent Jacobson', 'Mordo', 'Darius', 'Gene Burchell', 'Brock Rumlow', 'Saanvi Nadeem', 'Raina', 'Tim Maguire', 'Viola', 'Megan', 'Meredith Quill', 'Silke', 'Patrick', 'Aisha Axton', 'Misty Knight', 'Pryce Cheng', 'Guterman', 'Derek', 'Maston-Dar', 'George Ashland', 'Mac Gargan', 'Daniel Gibson', 'Sebastian Derik', 'Manny', 'Young Grant', 'Jonathan Pangborn', 'Agent Flynn', 'Agent Mulcahey', 'Yat-Sen', 'Agent Doyle', 'Marta', 'Camilla Reyes', 'Comanche', 'Mama Donya', 'Dr. Lingenfelter', 'Hek-Sel', 'Norex', 'Ethan', 'J.B.', \"Maitre d'\", 'Chris Adler', 'Doctor David Kurata', 'Debonair Gentleman', 'Agent Mack', 'Tyesha', 'Kurt', 'Christiane Amanpour', 'Friday', 'Coach Alphona', 'Father Lantom', 'Uncle Rasheed', 'Randall Spector', 'Peter Quill', 'Phastos', 'Russell', \"Maximillian 'Max' Tatum\", 'Kate Bishop', 'Corpsman Dey', 'Chief Wellins', 'Captain Betty Audrey', 'Selvig', 'Burnell', 'Cassandra', 'Detective Prendergast', 'A.U.S.A. Colin Dunbar', 'Agent Hauer', 'Erik Selvig', 'Stan Gibson', 'Dana Stryker', 'Agent Vega', 'Officer Bowie', 'Emil Blonsky', 'Unique', 'Rick', 'Bobbi', 'Sam Stein', 'Tyler', 'Kitang', 'James Montgomery Falsworth', 'Vijay Nadeer', 'Det. Oscar Clemons', 'Ruben Mackenzie', 'Wilson Fisk', 'Maya Hansen', \"Agent O'Connor\", \"Cliff 'Method Man' Smith\", 'Holden Holliway', 'Heimdall', 'Katy', 'Bobby Fish', 'Young Elena', 'Brahl', 'Ian Boothby', 'Maximus', 'Senator Ellen Nadeer', 'Jakob Nystrom', 'Bek', \"Agent O'Brien\", 'Xialing', 'Klev', 'Medusa', 'Nico', 'Ingrid', 'Auntie Chantelle', 'Alpha', 'Beverly', 'Councilman Rockwell', 'Zhi', 'Stick', 'Officer Fuchs', 'Zylak', 'Att-Lass', 'Loan Officer', 'Harold Meachum', 'Tom', 'Francisco', 'Lori Henson', 'Peter Scarborough', 'Phil Jones', 'Ariann', 'Cosmo the Space Dog', 'Akela Amador', 'Georges Batroc', 'Diego', 'Natasha Romanoff', 'Madame B', 'Agent Fisher', 'General Cole', 'Elena Chavez', 'Gedrick', 'Nick Fury', 'Ellen King', 'Alex Doobin', 'Hex', 'Detective Dorsey', 'The Ancient One', 'Black Sky', 'Strieber', \"N'Jobu\", 'Lincoln Campbell', 'Ted', 'Vicar', 'Nikola', 'Gor', 'Leslie Dean', 'Faith Evans', 'George Talbot', 'Bruno', \"W'Kabi\", 'Gideon Malick', 'Tommy Maximoff', 'Frank Levin', 'Shirley', 'Agent Rivera', 'Heinz Kruger', 'Michelle Caldwell', 'Ray Krzeminski', 'Nebula', 'Baker', 'Young Mariah', 'Ronald Garcia', 'General Rick Stoner', 'Watchdog Oscar', 'Supreme Intelligence', 'Brendan', 'Canelo', 'Specialist Cameron Klein', 'Jackson Brice', 'Sergei', 'Gamora', 'Enrique', 'Eddie Axton', 'Karla Faye Gideon', 'Maggie Lang', 'Auran', 'Wrecker', 'General Fischer', 'Halfnut', 'Officer Carvalho', 'Admiral Jolnes', 'Mr. Delmar', 'Rosalie Carbone', 'D.W. Griffith', 'Jack Thompson', 'Aunt Jeanie', 'Alya', 'General Andaz', 'Mr. Kitson', 'Candace', 'Oscar Arocho', 'Barbara Shlottman', 'Betty Carver (Radio Actor)', 'Samuel Sterns', 'Gideon Shaw', 'Kora', 'Big Chief Roland Duplantier', 'D.A. Samantha Reyes', 'Molly Hernandez', 'Lord Manzini', 'Elliot', 'Steve Wilson', 'Rebecca Pilgrim', 'Cass', 'Sofia', 'Julia Price', 'Angie Martinelli', 'General Hale', 'Theo', 'Captain Tom Ridenhour', 'Maria Castle', 'Watchdog Alpha', 'Biff', 'Sana', 'Sara', 'Sarah Lieberman', 'Hugo', 'Mrs. Chen', 'Young Dex', 'Kingo', 'C-Money', 'Turk Barrett', 'Nakia', 'Pat Kiernan', 'Wyatt', 'Darren Cross', 'Jerry', 'Parish Landman', 'Eir', 'Caldwell', 'Agent Lim', 'Farah Madani', 'Ammit', 'Andrea Morales', 'Marcus Daniels', 'Jacques Dernier', 'Alan', 'Agent Phelps', 'Gillian', 'Armand VII', 'Izel', 'Claire Temple', 'Aunt Mindy', 'Agent Oliver', 'Jonah', 'Albert Rackham', 'Chauncey', 'Willis Stryker', 'Xavin', 'Birdie', 'Stephanie Malick', 'Pizza Poppa', 'Zip', 'Main Guard', 'Yama', 'Harold Simcoe', \"Augustus 'Pug' Pugliese\", 'Francis Noche', 'Mobius', 'Khonshu Performer', 'Choo Choo Broussard', 'Mr. Ho', 'Reed Richards', 'Hai-Qing Yang', 'Pulsus', 'Nomble', 'Mr. Kazemi', 'Mrs. Yang', 'Anansi', 'Mrs. Shelby', 'Malcolm Ducasse', 'Young Gideon Malick', 'Jimmy Woo', 'Ace Peterson', 'Hank Thompson', 'Malachi', 'Agnes', 'Yusef Hadad', 'Holden', 'Yuchen', \"Benjamin 'Dex' Poindexter\", 'Sowande', 'Dr. Christine Palmer', 'Lash', 'Vic Jusufi', 'Rocket', 'Nathaniel Barton', 'Archeologist', 'Soledad', 'Radovan Bernivig', 'Megan Henderson', 'News Reporter', 'Marlena Olin', 'Elektra Natchios', 'Wanda Maximoff', 'Karnak', 'Airman Richardson', 'Agent Winn', 'C.J. Powell', 'Watchdog Victor', 'BB', 'Leo Fitz', 'Jackson Norris', 'Maria Rambeau', 'Stirling', 'Agent Tanner', 'Aunt Melanie', 'Crixon', 'Lt. Carpenter', 'Ursa', 'Dr. List', 'Justin Boden', 'Darrell Mitchell', 'Sneeper Madame', 'Ignacio', 'Joseph Danvers', 'Heather', 'Razor Fist', 'Holt', 'Master Hamir', 'Nobu', 'Ned Leeds', 'The Seamstress', 'Hank Pym', 'Olaf', 'Gigi', 'Jennifer Walters', 'Bailiff', 'Vincent', 'Crispus Thug', 'Makani', 'Lemuel Pilgrim', 'Zev', 'Mr. Cobbwell', 'Linda Chao', 'Philip Cabroni', 'Shawna Lynde', 'Lucas', 'Antoine Triplett', 'Hank Sanderson', 'Everett K. Ross', 'Matias', 'Dr. Franklin Hall', 'Jeri Hogarth', 'Amos', 'Trok', 'Ryhno', 'Adian Younge', 'Locus', 'Qovas', 'Rex', 'Charlie', 'Agent Stoltz', 'Oksana', \"'Pistol Pete' Stokes\", 'Atarah', 'Gilmore Hodge', 'Yelena Belova', 'Lennox', 'Tiny', 'Estella', 'Father', 'Dr. Chung', 'Agent Weaver', 'Rollo', 'Stoner Chronicom', 'John', 'Det. Sgt. Brett Mahoney', 'Danny', 'Older Man', 'Master Guang Bo', 'Bucky Barnes', 'Squabbles aka Reggie', 'Anne Marie Hoag', 'Arthur', 'Samantha Reyes', 'Pietro Maximoff', 'Grace', 'Zeus', 'Clint Barton', 'Miguel', 'Habooska the Horrible', 'Lady Karaba', 'Colonel', 'John Pilgrim', 'Lonnie Wilson', 'Auntie Ruby', 'Dmitry', 'Chan Ho Yin', 'Robert Gonzales', 'Steve Danvers', 'Billy Russo', 'Edwin Dunlap', 'Trooper', 'Billy Koenig', 'Ikaris', 'Ajak', 'May Parker', 'Dr. Torres', 'Detective Andrew Henry', 'Detective Caudle', 'Thomas Ward', 'Kro', 'Getty', 'Mr. Edwards', 'Erik Killmonger', 'Joy Meachum', 'Okoye', 'Carla Talbot', 'Elihas Starr', 'Dr. Christina Raynor', 'Christian Ward', 'Limbani', 'Victoria Hand', \"Arturo 'El Rey' Gomez III\", 'Bruce Banner', 'James Wesley', 'Deputy Dobbs', 'Albert Thompson', 'Will Daniels', 'Cull Obsidian', 'Corvus Glaive', 'Mouse', 'ESU Lieutenant Mario Green', 'Nate', \"Qasim's Translator\", 'Sunil Bakshi', 'Herb', 'MJ', 'Agent Hart', 'Miriam Fry', 'Ivan Hess', 'Korg', 'Ned', 'Queen Rynda', 'Michael', 'Aito', 'Ghost Rider', 'Maddie', 'Michelle', 'Doctor Ford', 'Tiago', 'Dr. Garrison', 'Yondu Udonta', 'Melissa Bowen', 'Agent Crawford', 'Reporter', 'Jeffrey Mace', 'Agent Rick Ramirez', 'Chief Bernie', 'Porcupine', 'Reid Pearson', 'Charles Wallace', 'Jace Montero', 'Daniel Sousa', \"Elena 'Yo-Yo' Rodriguez\", 'Chip Womack', 'Jennifer Fisher', 'Agent Johnson', 'Jerome Deschamps', 'Nurse Brad', 'Armed S.H.I.E.L.D. Guard', 'King Agon', 'Agent Slate', 'Jim Morita', 'Proxima Midnight', 'Darnell', 'Karen', 'Steven Benowitz', 'Runa', 'Frank Dean', 'FBI Agent Jurmain', 'Gabriel Soto', 'Koko', 'Gina', 'Wendell Rand', 'Mr. Immortal', 'Julie Barnes', 'Gary', 'Officer Anderson', 'Mrs. Zeller', 'Doris', 'Agent Coulson', 'Professor Elliot Randolph', 'Kebo', 'Rudy', 'Detective Donnie Chang', 'Bridget', 'Billy', 'Mark Higgins', 'Drea Powell', 'Sinara', 'Qajax', 'The Weasel', 'Kourtney', 'Dr. Ivchenko', 'Vin-Tak', 'Detective Sgt. Thompson', 'Grandmaster', 'Petra Larsen', 'Officer Pike', 'Alisha Whitley', \"Timothy 'Dum Dum' Dugan\", 'Jessica Jones', 'Lieutenant Perez', 'Ben Urich', 'Sequoia', 'Ana Silva', 'Dr. Jazuat', 'Karolina Dean', 'Rockwell', 'Herman Schultz', 'Josh Miller', 'Foggy Nelson', 'Kaecilius', 'Gale', 'Josh', 'Ana Jarvis', 'Dr. Curt Connors', 'The Vicar', 'Senator Brandt', 'Eli Bradley'}\n",
            "73 {'Frigga-AR', \"T'Chaka-AR\", 'Agent Carter-AR', 'Sif-AR', 'Proxima Midnight-AR', 'Yondu-AR', 'Hank Pym-AR', 'The Collector-AR', 'Gamora-AR', 'Brock Rumlow-AR', 'Kurt-AR', 'Korg-AR', 'Dr. Stephen Strange-AR', 'Brick-AR', 'Sharon Carter-AR', 'Clint Barton-AR', 'Bruce Banner-AR', 'Nazi General-AR', 'Arnim Zola-AR', 'Jane Foster-AR', 'Grandmaster-AR', 'Surtur-AR', 'Topaz-AR', \"T'Challa-AR\", 'Tony stark-AR', 'Christine Palmer-AR', 'Uatu-AR', 'Maria Hill-AR', 'Natasha Romanoff-AR', 'Steve Rogers-AR', 'Shuri-AR', 'Nebula-AR', \"O'Bengh-AR\", 'Phil Coulson-AR', 'Wong-AR', 'Pepper Potts-AR', 'Ultron-AR', 'Betty Ross-AR', 'Howard the Duck-AR', 'Bucky Barnes-AR', 'Darcy-AR', 'Nick Fury-AR', 'Jarvis-AR', 'Queen Ramonada-AR', 'Hope Van Dyne-AR', 'Loki-AR', 'Scott Lang-AR', 'The Ancient One-AR', 'Happy Hogan-AR', 'Korath-AR', 'Colonel Flynn-AR', 'Dr. Erskine-AR', 'Kraglin-AR', 'Secretary Ross-AR', 'Christine Everhart-AR', 'Howard Stark-AR', 'Carina-AR', 'Batroc-AR', 'Ego-AR', 'Thanos-AR', 'Ebony Maw-AR', 'Additional Voices-AR', 'Thor-AR', 'Okoye-AR', 'Ulysses Klaue-AR', \"Timothy 'Dum Dum' Dugan-AR\", 'Peter Quill-AR', 'Peter Parker-AR', 'Obadiah Stane-AR', 'Taserface-AR', 'Erik Killmonger-AR', 'Carol Denvers-AR', 'Rhodey-AR'}\n",
            "11 {'Elsa Bloodstone', 'Ulysses Bloodstone', 'Liorn', 'Ted (The Man-Thing)', 'The Flaming Tuba', 'Verussa', 'Jack Russell', 'Barasso', 'Jovan', 'Billy Swan', 'Azarel'}\n",
            "4 {'Bennie Pollock', 'Agent Jasper Sitwell', 'Agent Blake', 'Claire Weiss'}\n",
            "27 {'Aubree Richards', 'Dr. Lawrence', 'Jolene Spivey', 'Papa', 'Edward Tate', 'Ellis', 'Archbishop Terrazi', 'Ana Helstrom', 'Tooms', 'Bryce', 'Keith Spivey', 'Alex Tilden', 'Dr. Louise Hastings', 'Lee', 'Kthara', 'Father Sean Okamoto', 'Caretaker', 'Esther', 'Chris Yen', 'Father Joshua Crow', 'Victoria Helstrom', 'Daimon Helstrom', 'Gabriella Rosetti', 'Archer Cavallo', 'Cameron Tate', 'Officer Derrick Jackson', 'Ahmad'}\n"
          ]
        }
      ]
    },
    {
      "cell_type": "code",
      "source": [
        "#Diameter of largest component\n",
        "components = sorted(nx.connected_components(old_G_char), key=len, reverse=True)\n",
        "diameter = nx.diameter(old_G_char.subgraph(components[0]))\n",
        "print('Diameter of largest connected component:', diameter)"
      ],
      "metadata": {
        "colab": {
          "base_uri": "https://localhost:8080/"
        },
        "id": "KAS1a2iILLsF",
        "outputId": "7c7dd17e-06ce-431c-866c-0225e85d6e84"
      },
      "execution_count": 32,
      "outputs": [
        {
          "output_type": "stream",
          "name": "stdout",
          "text": [
            "Diameter of largest connected component: 7\n"
          ]
        }
      ]
    },
    {
      "cell_type": "code",
      "source": [
        "# Average shortest path length of largest component\n",
        "components = sorted(nx.connected_components(old_G_char), key=len, reverse=True)\n",
        "nx.average_shortest_path_length(old_G_char.subgraph(components[0]))"
      ],
      "metadata": {
        "colab": {
          "base_uri": "https://localhost:8080/"
        },
        "id": "P43uicL7OHQ5",
        "outputId": "ec35e934-1652-43b5-f0ba-6b78ef7a4769"
      },
      "execution_count": 34,
      "outputs": [
        {
          "output_type": "execute_result",
          "data": {
            "text/plain": [
              "2.6973304796259585"
            ]
          },
          "metadata": {},
          "execution_count": 34
        }
      ]
    },
    {
      "cell_type": "code",
      "source": [
        "# What is that crazy outlier?\n",
        "print(sorted(old_G_char.degree(), key=lambda pair: pair[1], reverse=True))\n",
        "\n",
        "# Looks like its pretty much all of the Agents of S.H.I.E.L.D characters. The relationships would probably be better if we could split up characters by episode, but we don't really have any way to do that. Could talk about possible ways to deal with that in the report."
      ],
      "metadata": {
        "colab": {
          "base_uri": "https://localhost:8080/"
        },
        "id": "UpBBTfekTHDn",
        "outputId": "dbeb4c9f-6fd9-483c-e12b-fab2c0267f4f"
      },
      "execution_count": null,
      "outputs": [
        {
          "output_type": "stream",
          "name": "stdout",
          "text": [
            "[('Nick Fury', 696), ('Peggy Carter', 668), ('Maria Hill', 652), ('Mouse', 624), ('Joe', 624), ('Sergei', 614), ('Thomas', 614), ('Ruby', 614), ('Jerry', 614), ('Marilyn', 612), ('Jackson', 612), ('Rick', 591), ('Dum Dum Dugan', 560), ('Lady Sif', 559), ('Brick', 559), ('Gunner', 554), ('Diego', 553), ('Daniel Sousa', 552), ('Agent Fisher', 552), ('Agent Ford', 552), ('Darryl', 545), ('Tiny', 534), ('Noah', 533), ('Assistant', 530), ('Bruno', 523), ('Dr. List', 519), ('President Ellis', 517), ('Ava', 515), ('Jasper Sitwell', 513), ('Li', 510), ('Ben', 510), ('Jim Morita', 504), ('Agent Anderson', 500), ('Colonel Victor Ramon', 500), ('Soldier #1', 490), ('Durant', 490), ('Joey Gutierrez', 490), ('Captain William Dole', 490), ('Agent Hauer', 490), ('Senator Ellen Nadeer', 490), ('Tat', 490), ('Qajax', 490), ('Jesse Fletcher', 490), ('Alya', 490), ('Agent Prince', 490), ('Serious Man', 490), ('General Fischer', 490), ('William May', 490), ('Vijay Nadeer', 490), ('Robert Gonzales', 490), ('Officer Carvalho', 490), ('Charles Hinton', 490), ('Marcus Daniels', 490), ('Jan', 490), ('Gabe Reyes', 490), ('Honest Eddie', 490), ('Melinda May', 490), ('Baron Von Strucker', 490), ('Tom', 490), ('Mystery Woman', 490), ('Debonair Gentleman', 490), ('Burrows', 490), ('Kebo', 490), ('Zhi', 490), ('Faulnak', 490), ('FBI Agent Jurmain', 490), ('Jiaying', 490), ('Dana', 490), ('The Amazing Mertz', 490), ('Hugo', 490), (\"Agent O'Brien\", 490), ('Watchdog Alpha', 490), ('Lorelei', 490), ('Rooster', 490), ('Polly Hinton', 490), ('Agent Rivera', 490), ('Englishman', 490), ('Roger Browning', 490), ('Mrs. Zeller', 490), ('Scientist', 490), ('Taylor', 490), ('Agent Keller', 490), ('Agent Moore', 490), ('Lucy Bauer', 490), ('Thomas Nash', 490), ('Lord Manzini', 490), ('Ellen King', 490), ('General Jacobs', 490), ('Kara Lynn Palamas', 490), ('Dr. Van Kempen', 490), ('John Garrett', 490), ('Leo Fitz', 490), ('Guard', 490), ('Cusi', 490), ('Case', 490), ('Wendell Levi', 490), ('Elias', 490), ('Kree Watch Commander', 490), ('Officer Zbyszewski', 490), ('Kirk Vogel', 490), (\"Wilfred 'Freddy' Malick\", 490), ('Dwight Frye', 490), ('Izel', 490), ('Sibyl', 490), ('Rollo', 490), ('Admiral Jolnes', 490), ('General Rick Stoner', 490), ('Boy', 490), ('Agent Rebecca Stevens', 490), ('Jones', 490), ('Laura', 490), ('Lieutenant Evans', 490), ('Robin', 490), ('Canelo', 490), ('Watchdog Victor', 490), ('FSO Agent', 490), ('Amy', 490), ('Steve Wilson', 490), ('Pete Boggs', 490), ('Agent Brandon Gamble', 490), ('Mayan', 490), ('Eva Belyakov', 490), ('Agent Noelle Walters', 490), ('Michelle Caldwell', 490), ('Grill', 490), ('The Vicar', 490), ('Agent Shaw', 490), ('Bartender', 490), ('Lady Karaba', 490), ('Peng', 490), ('Felix Blake', 490), ('Haruto Yakimura', 490), ('Rosie', 490), ('Francisco', 490), ('General Cole', 490), ('Estella', 490), ('Tiago', 490), ('Senator Gaius Ponarian', 490), ('Bynum', 490), ('Watchdog Oscar', 490), ('Armed S.H.I.E.L.D. Guard', 490), ('Calvin Zabo', 490), ('Mr. Cardozo', 490), ('Heavy', 490), ('Agent McCafferty', 490), ('Undersecretary Walter Thomas', 490), ('Pretorious Pryce', 490), ('Chief Wellins', 490), ('Kree Doctor', 490), ('Lash', 490), ('Prime Minister Olshenko', 490), ('Ador', 490), ('Edison Po', 490), ('Sinara Guard', 490), ('Stoner Chronicom', 490), ('Mike Peterson', 490), ('Ace Peterson', 490), ('Isaiah', 490), ('Nicole Mackenzie', 490), ('Kenneth Turgeon', 490), ('Katie Thompson', 490), ('General Hale', 490), ('Kimball', 490), ('Kaya', 490), ('Lance Hunter', 490), ('Russell Feldman', 490), ('Beautiful Woman', 490), ('Private Tilden', 490), ('Angry Man', 490), ('Gerald Sharpe', 490), ('Diaz', 490), ('Petra Larsen', 490), ('Marcus Scarlotti', 490), ('Inn Keeper', 490), ('Agent Kaminsky', 490), ('Kasius', 490), ('Lian May', 490), ('Donnie Gill', 490), ('Officer Bowie', 490), ('Mrs. Lee', 490), ('Concierge', 490), ('Tucker Shockley', 490), ('Tillman', 490), ('Agent Oliver', 490), ('Luke', 490), ('Agent Fox', 490), ('Lana', 490), ('Julia Price', 490), ('Todd Chesterfield', 490), ('Cop', 490), ('Boyle', 490), ('Kora', 490), ('Agent Pinksy', 490), ('Christian Ward', 490), ('Shepard', 490), ('Atarah', 490), ('Antoine Triplett', 490), ('Tony Diaz', 490), ('Agent Quan', 490), ('Camilla Reyes', 490), ('Blondie', 490), ('Tony Caine', 490), ('Victoria Hand', 490), ('Olga Pachinko', 490), ('Jakob Nystrom', 490), ('Katya', 490), ('Emily Deville', 490), ('Qovas', 490), ('Sunjna Nadeer', 490), ('Agent Mack', 490), ('Santino Noguera', 490), ('Grant Ward', 490), ('Vincent', 490), (\"Maitre d'\", 490), ('Greaseball', 490), ('Mr. Kitson', 490), ('Doctor Ford', 490), ('Pax', 490), ('Candice Lee', 490), ('Vanchat', 490), ('L.T. Koenig', 490), ('Akela Amador', 490), ('Felix', 490), ('Chronicom Hunter #1', 490), ('Agent Hart', 490), ('Crixon', 490), (\"Isabelle 'Izzy' Hartley\", 490), ('Werner von Strucker', 490), ('Bjorn', 490), ('Motel Clerk', 490), ('Baker', 490), ('Dr. Grady', 490), ('Agent Tanner', 490), ('Taryan', 490), ('Dallas Wyatt', 490), ('Maston-Dar', 490), ('Will Daniels', 490), ('Aunt Cindy', 490), ('Vin-Tak', 490), ('Agent Jones', 490), ('Audrey Nathan', 490), ('Alpha', 490), ('Agent Crawford', 490), ('Alisha Whitley', 490), (\"Jiaying's Assistant\", 490), ('Jaco', 490), ('Spectre 3', 490), ('Andrew Garner', 490), (\"Elena 'Yo-Yo' Rodriguez\", 490), ('Elena', 490), ('Professor Elliot Randolph', 490), ('Rowan Hamilton', 490), ('Agent Weaver', 490), ('Lilla Mackenzie', 490), ('Jimmy Mackenzie', 490), ('George Stephanopoulos', 490), ('Tye', 490), ('Agent Calderon', 490), ('Dr. Franklin Hall', 490), ('Michael', 490), ('Stephanie Malick', 490), ('Justin', 490), ('Agent Piper', 490), ('David Angar', 490), ('Lucio', 490), ('Mancini', 490), ('Zev', 490), ('Adam Cross', 490), ('Snowflake', 490), (\"Daisy 'Skye' Johnson\", 490), ('Javier', 490), ('Qolpakc', 490), ('Baal-Gad', 490), ('Flint', 490), ('Ignacio', 490), ('Selwyn', 490), ('Idaho', 490), ('Agent Barbour', 490), ('Qasim Zaghlul', 490), ('Hannah', 490), ('Trok', 490), ('Daniel Whitehall', 490), ('Ex-Hydra Follower #1', 490), ('Phil Coulson', 490), ('Spud', 490), ('Ernesto The Barber', 490), ('Beta', 490), ('Jerome Deschamps', 490), ('Sunil Bakshi', 490), ('Father', 490), ('Bobbi Morse', 490), ('Chen', 490), ('Young Elena', 490), ('Holden Radcliffe', 490), ('Camper #4', 490), ('Ronnie Chang', 490), ('Yuri Zaikin', 490), ('Barb', 490), ('Neils', 490), ('Copper', 490), ('Dr. Jazuat', 490), ('Sofia', 490), ('Toad', 490), ('Agent Lumley', 490), ('Martha', 490), ('Young Grant', 490), ('Samuel Voss', 490), ('George Talbot', 490), ('Chad', 490), ('Xiao Chen', 490), ('Karla Faye Gideon', 490), ('Brian Hayward', 490), ('The Sheikh', 490), ('Gedrick', 490), ('Colonel', 490), ('Kropsky', 490), ('Roxy Glass', 490), ('Tess', 490), ('John Mackenzie', 490), ('Trooper', 490), ('Agent King', 490), ('Ghost Rider', 490), ('Recruit #1', 490), ('Dr. Goodman', 490), ('Bridget', 490), ('Joseph Bauer', 490), ('Seth Dormer', 490), ('Agent Slate', 490), ('Toshiro Mori', 490), ('Lt. Carpenter', 490), ('Alistair Fitz', 490), ('Marta', 490), ('Shane Larson', 490), ('Edwin Abbott', 490), ('Burnell', 490), ('Chan Ho Yin', 490), ('Gabriel Soto', 490), ('Elliot', 490), ('Archeologist', 490), ('Gordon', 490), ('Rosalind Price', 490), (\"Qasim's Translator\", 490), ('Agent Mulcahey', 490), ('Maria', 490), ('Prison Guard', 490), ('Roger', 490), ('Schneider', 490), ('Frederick', 490), ('Nathi Zuma', 490), ('Officer Kennedy', 490), ('John Bruno', 490), ('Gary', 490), ('Ethan', 490), ('Debbie', 490), ('Amit', 490), ('Yat-Sen', 490), ('Agent Diaz', 490), ('Lincoln Campbell', 490), ('Committee Chairperson', 490), ('Ott', 490), ('Hek-Sel', 490), ('General Andaz', 490), ('Nathaniel Malick', 490), ('Kree Captain', 490), ('Viro', 490), ('Jemma Simmons', 490), ('Anton Petrov', 490), ('Tommy Chang', 490), ('Lindsay', 490), ('Briggs', 490), ('Tawni', 490), ('Dr. Lingenfelter', 490), ('Sebastian Derik', 490), ('Franklin Delano Roosevelt', 490), ('Vilca', 490), ('Agent Nathanson', 490), ('Hope Mackenzie', 490), ('Lori Henson', 490), ('Dr. Streiten', 490), ('Adamo Dioli', 490), ('Theo', 490), ('Oscar', 490), ('Lieutenant Lucas', 490), ('Doyle', 490), ('Octavian Bloom', 490), ('Lord Thornally', 490), ('Lead SVR Agent', 490), ('Young Gideon Malick', 490), ('Sequoia', 490), ('Maynard', 490), ('Abby', 490), ('Cricket', 490), ('The Baroness', 490), ('Anton Ivanov', 490), ('Tobias', 490), ('Lars', 490), ('Deke Shaw', 490), ('Dr. Pascal Vega', 490), ('Olaf', 490), ('Agent Tyler', 490), ('Long-Haired Gambler', 490), ('Dr. Marcus Benson', 490), ('Tinker', 490), ('Miles Lydon', 490), ('Biff', 490), ('Officer Anderson', 490), ('Agent Kim', 490), ('Tina Adams', 490), ('Luther Banks', 490), ('Agent Harlan', 490), ('Karine', 490), ('Francisco Rodriguez', 490), ('Robin Hinton', 490), ('Agent Harris', 490), ('Montalban', 490), ('Gretchen', 490), ('Harold Simcoe', 490), ('Spectre 1', 490), ('Thomas Ward', 490), ('Yusef Hadad', 490), ('Carla Talbot', 490), ('Kevin', 490), ('Aida', 490), ('Francis Noche', 490), ('Officer Stuart', 490), ('Reese', 490), ('Eliza', 490), ('Leticia', 490), ('Giyera', 490), ('Kyle Zeller', 490), ('Chronicom', 490), ('Main Guard', 490), ('Graham', 490), ('Eli Morrow', 490), ('Jeffrey Mace', 490), ('Julien Beckers', 490), ('Agent Julian', 490), ('Officer', 490), ('Chip Womack', 490), ('Agent Phelps', 490), ('Ruben Mackenzie', 490), ('Billy Koenig', 490), ('Marcus', 490), ('Professor Steger', 490), ('News Reporter', 490), ('Ian Quinn', 490), (\"Alphonso 'Mack' Mackenzie\", 490), ('Armed Guard', 490), ('Hangar Guard #2', 490), ('Glenn Talbot', 490), ('Genesis', 490), ('Luca Russo', 490), ('General Androvich', 490), ('John Donnelly', 490), ('Viola', 490), ('Carl Creel', 490), ('Agent More', 490), ('Agent Thomas', 490), ('Sinara', 490), ('Airman Richardson', 490), ('Agent Baylin', 490), ('Virgil', 490), ('Agent Jacobson', 490), ('Agent Davis', 490), ('J.T. James', 490), ('Agent Wahl', 490), ('Trevor Khan', 490), ('Dr. Wilton', 490), ('Laura Hayward', 490), ('Sivian Foreman', 490), ('Older Man', 490), ('Getty', 490), ('Hank Thompson', 490), ('Spectre 2', 490), ('Tim Maguire', 490), ('Susanna', 490), ('Malachi', 490), ('Basha', 490), ('Raina', 490), ('Lloyd Rathman', 490), ('Aunt Mindy', 490), ('Anon', 490), ('Enoch', 490), ('Callie Hannigan', 490), ('Holt', 490), ('Lieutenant Decker', 490), ('Gideon Malick', 490), ('Vladimir', 490), ('Young Gordon', 490), ('Chris Adler', 490), ('Airman Whitley', 490), ('Claire Temple', 431), ('Foggy Nelson', 384), ('Turk Barrett', 331), ('Jeri Hogarth', 310), ('Thembi Wallace', 301), ('Luke Cage', 270), ('Trish Walker', 270), ('Blake Tower', 257), ('Rosalie Carbone', 257), ('Benjamin Donovan', 257), ('Victor', 252), ('Reva Connors', 252), ('Todd', 231), ('Wong', 217), ('Howard Stark', 215), ('Karen Page', 206), ('Misty Knight', 203), ('Danny Rand', 203), ('Colleen Wing', 203), ('Bruce Banner', 195), ('Madame Gao', 194), ('Happy Hogan', 192), ('Mitchell Ellison', 188), ('Bobby', 188), ('Frank Castle', 188), ('Hai-Qing Yang', 185), ('Pepper Potts', 184), ('Bucky Barnes', 183), ('Peter Parker', 181), ('Thor', 175), ('Tony Stark', 167), ('Peter Quill', 166), ('Nebula', 166), ('Matt Murdock', 165), ('Clint Barton', 163), ('Miguel', 160), ('Loki', 157), ('Finn', 156), ('Gamora', 149), ('Jane Foster', 146), ('Father Lantom', 145), ('Marci Stahl', 145), ('Elektra Natchios', 145), ('Malcolm Ducasse', 145), ('Stick', 145), ('Jessica Jones', 145), ('Dale', 144), ('Natasha Romanoff', 141), ('Doctor Strange', 140), ('Hope Van Dyne', 139), ('Wanda Maximoff', 136), ('Robert', 135), ('Captain Tom Ridenhour', 135), ('Detective Donnie Chang', 135), ('Brock Rumlow', 135), ('Goon One', 135), ('Aisha Axton', 135), ('Female Reporter', 135), ('Zip', 135), (\"Wilfredo 'Chico' Diaz\", 135), ('Dana Stryker', 135), ('James Lucas', 135), ('Amos', 135), ('Captain Betty Audrey', 135), ('Jamel Shabazz', 135), ('Young Adult Pop', 135), ('C-Money', 135), ('Dr. Noah Burstein', 135), (\"'Pistol Pete' Stokes\", 135), ('Damon Boone', 135), ('Mark Higgins', 135), ('Inspector Priscilla Ridley', 135), ('Comanche', 135), ('C.J. Powell', 135), ('Young Adult Cottonmouth', 135), ('D.W. Griffith', 135), ('Candace', 135), ('Domingo Colon', 135), (\"Sergeant Jacob 'Jake' Smith\", 135), (\"Hernan 'Shades' Alvarez\", 135), (\"Cliff 'Method Man' Smith\", 135), ('Dapper Dan', 135), ('Neville', 135), ('Judge Amanda Garmon', 135), ('Connie Lin', 135), (\"Henry 'Pop' Hunter\", 135), (\"Mortimer 'Mr. Fish' Norris\", 135), ('Protester #1', 135), ('Squabbles aka Reggie', 135), (\"John 'Bushmaster' McIver\", 135), ('James Rhodes', 135), ('Nate', 135), ('Nigel Garrison', 135), ('Male Reporter', 135), ('Lopes', 135), ('Janis', 135), ('Darnell', 135), ('Jin Lin', 135), ('Anibal Izqueda', 135), ('Torre', 135), ('Sugar', 135), ('Eric Fraser', 135), ('Styler', 135), ('Lonnie Wilson', 135), ('Lieutenant Perez', 135), ('Drea Powell', 135), ('Koko', 135), ('Teenage Willis Stryker', 135), ('Protester #2', 135), ('Brendan', 135), ('Police Officer', 135), ('Sheldon', 135), ('Eric Hong', 135), ('Gideon Shaw', 135), ('Tone', 135), ('Auntie Ingrid', 135), ('Mama Mabel', 135), ('Sway Calloway', 135), ('Cameraman', 135), ('Alicia', 135), ('Tilda Johnson', 135), ('Kerry Duggan', 135), ('Teenage Carl Lucas', 135), ('Adian Younge', 135), ('Chauncey', 135), ('Alex Wesley', 135), ('Young Mariah', 135), ('Larry', 135), ('Etta Lucas', 135), ('Detective', 135), ('Faith Evans', 135), ('Stephanie aka Billie', 135), ('Bobby Fish', 135), ('Reporter 2', 135), (\"Raymond 'Piranha' Jones\", 135), ('Detective Rafael Scarfe', 135), ('Megan McClaren', 135), ('Chase Brunski', 135), ('Detective Dorsey', 135), ('Anansi', 135), ('Keely', 135), ('Shameek Smith', 135), ('Detective Mark Bailey', 135), ('ESU Lieutenant Mario Green', 135), ('Albert Rackham', 135), ('Goon Three', 135), ('Crispus Thug', 135), ('Soledad', 135), ('Chris Murray', 135), ('John Epps', 135), ('Bert Hunter', 135), ('Diontey', 135), ('Charles Bradley', 135), ('Kalinda Porter', 135), ('A.U.S.A. Colin Dunbar', 135), (\"Cornell 'Cottonmouth' Stokes\", 135), ('Darrell Mitchell', 135), ('Joel Spurlock', 135), (\"Willis 'Diamondback' Stryker\", 135), ('Dante Chapman', 135), ('Patricia Wilson', 135), ('Manny', 135), ('Eddie Axton', 135), ('Mother', 135), (\"Arturo 'El Rey' Gomez III\", 135), ('D-Nice', 135), ('Detective Tomas Ciancio', 135), ('FDNY Paramedic', 135), ('Dr. Gabe Krasner', 135), (\"Dontrell 'Cockroach' Hamilton\", 135), ('Detective Nandi Tyler', 135), ('Mariah Dillard', 135), ('Sharon Carter', 134), ('Korg', 131), ('Frigga', 131), ('Sam Wilson', 131), ('Rocket', 129), ('Jarvis', 129), ('Drax', 128), ('James Wesley', 127), ('Ray Nadeem', 127), ('Dog of Hell', 127), ('Sami Nadeem', 127), ('Young Wilson Fisk', 127), ('Judge Cynthia Batzer', 127), ('Dmitry', 127), ('Detective Hoffman', 127), ('Julie Barnes', 127), ('Josie', 127), ('Roy Olsky', 127), ('Shirley', 127), ('Vanessa Marianna', 127), ('Agent Markham', 127), ('Louisa Delgado', 127), ('John Hammer', 127), ('Roscoe Sweeney', 127), ('Kraglin', 127), ('Philip Cabroni', 127), ('Latimer Zyl', 127), ('Dr. Andrew Lee', 127), ('Mrs. Mahoney', 127), ('Nesbitt', 127), ('Jack Murdock', 127), ('Jasper Evans', 127), ('Agent Winn', 127), ('Nobu', 127), ('Bailiff', 127), ('Young Matt', 127), ('Seema Nadeem', 127), ('Vladimir Ranskahov', 127), ('Andrea Morales', 127), ('Dutton', 127), ('Agent Alvarez', 127), ('George Bach', 127), ('Santino', 127), ('Warden Riggle', 127), ('SAC Tammy Hattley', 127), ('Young Dex', 127), ('Bill Fisk', 127), ('Dr. Gregory Tepper', 127), ('Hirochi', 127), ('Francis', 127), ('Aito', 127), ('Senator Cherryh', 127), (\"Benjamin 'Dex' Poindexter\", 127), ('Agent Johnson', 127), ('Chief Bernie', 127), ('Saanvi Nadeem', 127), ('Young Elektra', 127), ('Agent Arinori', 127), ('Caldwell', 127), ('Paxton Page', 127), ('Anatoly', 127), ('Daniel Gibson', 127), ('Agent Lim', 127), ('Felix Manning', 127), ('Uncle Timmy Nelson', 127), ('Stan Gibson', 127), ('Doris', 127), ('Semyon', 127), ('Marlene Fisk', 127), ('Melvin Potter', 127), ('Ben Urich', 127), ('Anna Nelson', 127), ('Detective Blake', 127), ('Stewart', 127), ('Christopher Roth', 127), ('Mrs. Vistain', 127), ('Michael Kemp', 127), ('Esther Falb', 127), ('Brett Mahoney', 127), ('Colonel Ray Schoonover', 127), ('Parish Landman', 127), ('Neda Kazemi', 127), ('Dr. Eileen Mercer', 127), ('Rory', 127), ('Sister Maggie', 127), ('Wilson Fisk', 127), ('Agent Doyle', 127), ('Mr. Kazemi', 127), ('Black Sky', 127), (\"Jimmy 'The Bear'\", 127), ('Theo Nelson', 127), ('Kevin Page', 127), ('Leland Owlsley', 127), ('Silvio', 127), ('Silke', 127), ('Nicholas Lee', 127), ('Edward Nelson', 127), ('Agent Wellers', 127), (\"Agent O'Connor\", 127), ('Stone', 127), ('Detective Sgt. Thompson', 127), ('The Ancient One', 127), ('Police Officer #1', 127), ('Aunt Jeanie', 127), ('Mrs. Shelby', 127), ('Jennifer Fisher', 127), ('Grotto', 127), ('Vic Jusufi', 127), ('Leon', 127), ('Clint', 127), ('Elena Cardenas', 127), ('Norma', 127), ('Samantha Reyes', 127), ('Bernie Walker', 127), ('Shuri', 125), ('Okoye', 125), ('Agent Coulson', 125), ('Steve Rogers', 124), ('Roy Healy', 123), ('Ruben', 123), ('Kith Lyonne', 123), ('Tina', 123), ('Gillian', 123), ('Mrs. Elizabeth De Luca', 123), ('Ronald Garcia', 123), ('Laurent Lyonne', 123), ('Dwayne Blaskowski', 123), ('Gene Burchell', 123), ('Erik Gelden', 123), ('Peter Lyonne', 123), (\"Robert 'Whizzer' Coleman\", 123), ('Eugene', 123), ('Clair', 123), ('Linda Chao', 123), ('Francine', 123), ('Dr. Tiboldt', 123), ('Zaya Okonjo', 123), ('Gina', 123), ('Detective Imada', 123), ('Shane', 123), ('Bob Shlottman', 123), ('Detective Defford', 123), ('Det. Oscar Clemons', 123), ('Zack', 123), ('Dorothy', 123), ('Pam', 123), ('Griffin Sinclair', 123), ('Kourtney', 123), ('Kilgrave', 123), ('Inez Green', 123), ('Charles Wallace', 123), ('Frank Levin', 123), ('Wyatt', 123), ('Holden', 123), ('Manuel Silva', 123), (\"Brianna 'Berry' Gelden\", 123), ('Chief Ronnie Velasco', 123), ('Young Kilgrave', 123), ('Luanne', 123), ('Vido Arocho', 123), ('Nicole', 123), ('Alisa Jones', 123), ('Keith', 123), ('Louise Thompson', 123), ('Barbara Shlottman', 123), ('Lila', 123), ('Gor', 123), ('Officer Cooper', 123), ('Young Trish', 123), ('Dr. Leslie Hansen', 123), ('Eric Ambrose', 123), ('Char', 123), ('Grace', 123), ('Officer Pickett', 123), ('Justin Boden', 123), ('Sissy Garcia', 123), ('Hope Shlottman', 123), ('Ian', 123), ('Dr. Kozlov', 123), ('Female Prostitute', 123), ('Tweaky', 123), ('Birdie', 123), ('Robyn', 123), ('Brian Jones', 123), ('Steven Benowitz', 123), ('Emma', 123), ('Sonia', 123), ('Oscar Arocho', 123), ('Reid Pearson', 123), ('Nurse Brad', 123), ('Antoine', 123), ('Wendy Ross-Hogarth', 123), ('Pedestrian', 123), ('Stirling', 123), ('Albert Thompson', 123), ('Maureen Denton', 123), ('Dr. Torres', 123), ('Pryce Cheng', 123), ('Dr. Irene Bickell', 123), ('Doctor David Kurata', 123), ('Carlo Eastman', 123), ('Gregory Sallinger', 123), ('Ana Silva', 123), ('Sharon', 123), ('Male Prostitute', 123), ('Dr. Karl Malus', 123), ('Thomas Blaskowski', 123), ('Richie', 123), (\"Maximillian 'Max' Tatum\", 123), ('D.A. Samantha Reyes', 123), ('Officer Carl Nussbaumer', 123), ('Justis Ambrose', 123), ('Doctor Zakarian', 123), ('Andrew Brandt', 123), ('Detective Costa', 123), ('Maury Tuttlebaum', 123), ('Audrey Eastman', 123), ('Adrian', 123), ('Len Sirkes', 123), ('Will Simpson', 123), ('Sal Blaskowski', 123), ('Jace Montero', 123), ('Donald', 123), ('Young Jessica', 123), ('Russell', 123), ('Dr. Gallo', 123), ('Nichelle', 123), ('Detective Sunday', 123), ('Ultron', 120), ('The Collector', 118), ('Thanos', 117), ('Ebony Maw', 117), ('Heimdall', 115), ('Korath', 112), ('Mantis', 111), ('Kurt', 110), ('Ulysses Klaue', 110), ('Groot', 109), ('Scott Lang', 109), ('Hank Pym', 107), ('Dr. Arnim Zola', 103), ('Lila Barton', 102), ('Laura Barton', 102), ('Cooper Barton', 102), ('Proxima Midnight', 101), ('Ned', 99), ('Carlos', 98), ('Friday', 98), ('Captain Marvel', 96), ('Captain Carter', 96), ('Ayo', 96), ('Janet Van Dyne', 94), ('Wendy', 94), ('Christine Everhart', 94), ('Yondu', 92), (\"T'Challa\", 92), ('Taserface', 92), ('Howard the Duck', 92), ('Ego', 92), ('Cloak', 88), ('Dagger', 88), ('May Parker', 88), ('Captain America', 87), ('Pat Kiernan', 86), ('Nathaniel Barton', 86), (\"T'Chaka\", 85), ('Frank', 84), (\"M'Baku\", 83), ('Secretary of State Thaddeus Ross', 83), ('Betty Ross', 82), ('Rhodey', 82), ('Obadiah Stane', 82), ('Carol Danvers', 82), ('Grandmaster', 81), ('Topaz', 81), ('Surtur', 81), ('Alexander Pierce', 79), ('Dave', 79), ('Agent Sitwell', 77), ('Bakuto', 77), ('Cassie Lang', 76), ('Vision', 75), ('Corvus Glaive', 73), ('The Watcher', 73), ('Additional Voices', 73), ('Iron Man', 73), ('Tina Minoru', 73), ('Colonel Flynn', 73), ('Dr. Erskine', 73), (\"Young T'Challa\", 73), ('Black Widow', 73), ('Red Skull (Stonekeeper)', 73), ('Arnim Zola', 73), (\"O'Bengh\", 73), ('General Ross', 73), ('Black Panther', 73), ('Queen Ramonda', 73), ('Killmonger', 73), ('Carina', 73), ('Batroc', 73), ('Darcy', 73), ('Nazi General', 73), ('Ant-Man', 73), ('Christine Palmer', 73), ('On-Set Rocket', 73), ('Ramonda', 72), ('Cindy', 71), ('Sally', 71), ('Valkyrie', 71), ('Darcy Lewis', 70), ('Georges Batroc', 68), ('Black Bolt', 66), ('Mr. Harrington', 66), ('Sheriff Hardin', 65), ('Agent Ryan', 65), ('Dum-Dum Dugan', 65), ('Sarah Lieberman', 65), ('Sheldon McFee', 65), ('Agent Butch Wallace', 65), ('Rebecca Pilgrim', 65), ('Violet', 65), ('Agent Blackwell', 65), ('Amy Bendix', 65), ('Alex Doobin', 65), ('Doctor Evans', 65), ('Deputy Dobbs', 65), ('Marlena Olin', 65), ('Geiger', 65), ('José', 65), ('Col. Morty Bennett', 65), ('Calvin Chadwick', 65), ('Roger Dooley', 65), ('Det. Sgt. Brett Mahoney', 65), ('Kusack', 65), ('Deputy Murphy', 65), ('Marion James', 65), ('Edwin Jarvis', 65), ('Billy Russo', 65), ('Nonna Manfredi', 65), ('Computer Tech', 65), ('Angie Martinelli', 65), (\"Colleen O'Brien\", 65), ('Detective Prendergast', 65), ('Philip', 65), ('Leo Lieberman', 65), ('Thomas Gloucester', 65), ('Leet Brannis', 65), ('John Pilgrim', 65), ('Lisa Castle', 65), ('David Schultz', 65), ('Mr. Edwards', 65), ('Colonel Ernst Mueller', 65), ('Loretta Dooley', 65), ('Agent Mike Li', 65), ('Vernon Masters', 65), ('Rose', 65), ('Sergei Konchevsky', 65), ('Rex', 65), ('Detective Andrew Henry', 65), ('Ray Krzeminski', 65), ('Hank', 65), ('Officer Pike', 65), ('Hugh Jones', 65), ('Uncle Bud', 65), ('Sam Stein', 65), ('Ahmad Zubair', 65), ('Miriam Fry', 65), ('Albert', 65), ('Maria Castle', 65), ('Beth Quinn', 65), ('Joseph Manfredi', 65), ('Rafael Hernandez', 65), ('Nikola', 65), ('Lewis Walcott', 65), ('Dottie Underwood', 65), ('Michael Pilgrim', 65), ('Lieutenant Ferrara', 65), ('Agent Yauch', 65), ('Eliza Schultz', 65), ('Danny', 65), ('Dr. Seth Honicky', 65), ('Torrance', 65), ('Michael Carter', 65), ('Ovechkin', 65), ('Agent Rick Ramirez', 65), ('Wilma Cully', 65), ('Anderson Schultz', 65), ('Krista Dumont', 65), ('Carson Wolf', 65), ('Carol', 65), ('David Lieberman', 65), ('Clay Wilson', 65), ('Isaac', 65), ('Deputy Ken Ogden', 65), ('Dr. Chung', 65), ('Whitney Frost', 65), ('Dr. Samberly', 65), ('Jimbo', 65), ('William Rawlins', 65), ('Lemuel Pilgrim', 65), ('Director Kenneth', 65), ('Rufus', 65), ('Sasha Demidov', 65), ('Jack Thompson', 65), ('Happy Sam Sawyer', 65), ('Frank Castle Jr.', 65), ('Agent Vega', 65), ('Dinah Madani', 65), ('Dr. Hamid Madani', 65), ('Walt Cooper', 65), ('Curtis Hoyle', 65), ('Farah Madani', 65), ('Arthur Walsh', 65), ('Dr. Ivchenko', 65), ('Otto Mink', 65), ('Isodyne Receptionist', 65), ('Betty Carver (Radio Actor)', 65), ('Weems', 65), ('Senator Stan Ori', 65), ('Anton', 65), ('Zach Lieberman', 65), ('Jake Nelson', 65), ('Miles Van Ert', 65), ('Tech', 65), (\"O'Connor\", 65), ('Mistress', 65), ('Jason Wilkes', 65), ('Radio Announcer', 65), ('Ana Jarvis', 65), ('Akihiko', 61), ('Morgan Stark', 61), ('Aunt May', 61), ('Billy', 59), ('Stan Lee', 59), ('Erik Selvig', 58), ('Mary Walker', 55), ('Sophia', 55), ('Security Chief Liu', 55), ('Megan', 55), ('Bethany', 55), ('12 Year Old Danny', 55), ('Mika Prada', 55), ('Shannon', 55), ('Joe the Orderly', 55), ('Maria Rodriguez', 55), ('Chen Wu', 55), ('Priya', 55), ('Henry Yip', 55), ('Harold Meachum', 55), ('BB', 55), ('Sam', 55), ('Torx', 55), ('Davos', 55), ('12 Year Old Davos', 55), ('Caleb', 55), ('Kevin Singleton', 55), ('Sandi Ann', 55), ('Mr. Ho', 55), ('Donald Hooper', 55), ('Kyle', 55), ('Heather Rand', 55), ('Crank', 55), ('Peanut Vendor', 55), ('Mrs. Yang', 55), ('D.K.', 55), ('Joy Meachum', 55), ('Ward Meachum', 55), ('Hex', 55), ('Aiko', 55), ('Radovan Bernivig', 55), ('Ringmaster', 55), ('Avalon', 55), ('Young Danny Rand', 55), ('Becca', 55), ('Lei Kung', 55), ('Wendell Rand', 55), ('Paul Edmonds', 55), ('Lawrence Wilkins', 55), ('Ryhno', 55), ('Nurse Smith', 55), ('Agent Cleary', 53), ('Mita Nansari', 52), ('Gert Yorkes', 52), ('Aura', 52), ('Geoffrey Wilder', 52), ('Chase Stein', 52), ('Vaughn', 52), ('Hipster Earl', 52), ('Dale Yorkes', 52), ('Reporter', 52), ('Molly Hernandez', 52), ('David Ellerh', 52), ('Catherine Wilder', 52), ('Destiny', 52), ('Topher', 52), ('Mike on a Bike', 52), ('Jonah', 52), ('Frances', 52), ('Sif', 52), ('Cassandra', 52), ('Alice Hernandez', 52), ('Bronwyn', 52), ('Young Molly', 52), ('Eiffel', 52), (\"Anthony 'AWOL' Wall\", 52), ('Millennial Megan', 52), ('Xavin', 52), ('Tamar', 52), ('Graciela Aguirre', 52), ('Brandon', 52), ('Mysterious Man', 52), ('Nico Minoru', 52), ('Morgan le Fay', 52), ('Frank Dean', 52), ('Livvie', 52), ('Lucas', 52), ('Janet Stein', 52), ('Darius', 52), ('Coach Alphona', 52), ('Alex Wilder', 52), ('Gene Hernandez', 52), ('Stacey Yorkes', 52), ('Amy Minoru', 52), ('Andre', 52), ('Leslie Dean', 52), ('Quinton the Great', 52), ('Detective Flores', 52), ('Robert Minoru', 52), ('Kincaid', 52), ('Victor Stein', 52), ('Karolina Dean', 52), ('Susan Ellerh', 52), ('Pietro Maximoff', 49), ('Trevor Slattery', 48), ('Coach Wilson', 48), ('Nakia', 48), ('Ronan', 46), ('Everett K. Ross', 46), ('Dr. Christine Palmer', 46), ('Meredith Quill', 45), ('Eitri', 44), ('Selvig', 44), ('Young Gamora', 44), ('Bus Driver', 44), ('Cull Obsidian', 44), ('Chuck Donelan', 43), ('Mama Donya', 43), ('Ancient Shop Manager', 43), ('Donny Blaze', 43), (\"Augustus 'Pug' Pugliese\", 43), ('Baron Zemo', 43), ('On-Set She-Hulk Reference', 43), ('Morris Walters', 43), ('Yama', 43), ('Rudy', 43), ('Major', 43), ('Eugene Patilio', 43), ('Skaar', 43), ('Nikki Ramos', 43), ('DeeDee', 43), ('Yori', 43), ('Oeznik', 43), ('El Aguila', 43), ('AJ', 43), ('Wrecker', 43), ('Uncle Tucker', 43), ('Sarah Wilson', 43), ('Leah', 43), ('Battlestar', 43), ('Alan', 43), ('Cornelius P. Willows', 43), ('Saracen', 43), ('Lennox', 43), ('Daredevil', 43), ('Eli Bradley', 43), ('Senator Atwood', 43), ('Gigi', 43), ('Lulu', 43), ('Derek', 43), ('Arthur', 43), ('Matias', 43), ('Josh Miller', 43), ('Skeevy Guy', 43), ('Government Official', 43), ('Valentina Allegra de Fontaine', 43), ('Sara Haines', 43), ('Pedro The Bartender', 43), ('Loan Officer', 43), ('Aunt Melanie', 43), ('Nomble', 43), ('Alonso Barber', 43), ('Judge Price', 43), ('Jimmy Woo', 43), ('Hank Sanderson', 43), ('Cass', 43), ('Thunderball', 43), ('Dennis Bukowski', 43), ('Falcon', 43), ('Crony', 43), ('Porcupine', 43), ('Joaquin Torres', 43), ('Runa', 43), ('Heather', 43), ('Olivia Walker', 43), ('Dovich', 43), ('Nico', 43), ('Luke Jacobson', 43), ('John Walker', 43), ('Titania', 43), ('Ayla', 43), ('Karli Morgenthau', 43), ('Isaiah Bradley', 43), ('Abomination', 43), ('Unique', 43), ('Mallory Book', 43), ('Jennifer Walters', 43), ('Dr. Christina Raynor', 43), ('Madisynn', 43), ('Mr. Immortal', 43), ('Elaine Walters', 43), ('Man-Bull', 43), ('Holden Holliway', 43), ('Cousin Ched', 43), ('Tommy Maximoff', 42), ('Billy Maximoff', 42), ('JARVIS', 42), ('John', 41), ('King Agon', 40), ('Audrey', 40), ('Pulsus', 40), ('Makani', 40), ('Louise', 40), ('Sakas', 40), ('Queen Rynda', 40), ('Bronaja', 40), ('Maximus', 40), ('Eldrac', 40), ('Reno', 40), ('Rebel Leader', 40), ('Auran', 40), ('Paripan', 40), ('Serene Inhuman', 40), ('Crystal', 40), ('Gorgon', 40), ('Mordis', 40), ('Loyolis', 40), ('Dr. Evan Declan', 40), ('Young Black Bolt', 40), ('Tibor', 40), ('Pablo', 40), ('Iridia', 40), ('Triton', 40), ('Holo', 40), ('Ted', 40), ('Flora', 40), ('Jen', 40), ('Kitang', 40), ('Karnak', 40), ('Young Medusa', 40), ('William Ginter Riva', 40), ('Young Maximus', 40), ('Locus', 40), ('Medusa', 40), ('Royal Guard Sergeant', 40), ('George Ashland', 40), ('Sammy', 40), ('Dr. Hank Pym', 39), ('Senator Stern', 39), ('Flash Thompson', 39), ('Paxton', 39), ('Luis', 39), ('Ned Leeds', 39), ('Mr. Dell', 38), ('Hogun', 38), ('Odin', 38), ('MJ', 38), ('Fandral', 38), ('Volstagg', 38), ('J. Jonah Jameson', 38), ('Betty Brant', 38), ('David', 37), ('Jeremy', 37), ('Rockwell', 37), ('Edwin Dunlap', 37), ('Adina Johnson', 37), ('Father Delgado', 37), ('Brett Latour', 37), ('Thomas Roberts', 37), (\"Detective Brigid O'Reilly\", 37), ('Detective Connors', 37), ('Brunette Woman', 37), ('Greg Pressfield', 37), ('Nathan Bowen', 37), ('Young Tandy', 37), ('Young Tyrone', 37), ('Dan Hartlett', 37), ('Mikayla', 37), ('Chief Duchamp', 37), ('Ivan Hess', 37), ('Big Chief Roland Duplantier', 37), ('Peter Scarborough', 37), ('Evita Fusilier', 37), ('Mina Hess', 37), ('Choo Choo Broussard', 37), ('Andre Deschaine', 37), ('State Senator Asa Henderson', 37), ('Officer Fuchs', 37), ('Solomon', 37), ('Duane Porter', 37), ('Lia', 37), ('Auntie Chantelle', 37), ('Otis Johnson', 37), ('Melissa Bowen', 37), ('Benny', 37), ('Liam Walsh', 37), ('Mr. Delmar', 34), ('Saleem', 33), ('Agent Deever', 33), ('Young Sana', 33), ('Mrs. Hillman', 33), ('Muneeba', 33), ('Uncle Rasheed', 33), ('Mr. Hillman', 33), ('Aisha', 33), ('Aamir', 33), ('Zoe', 33), ('Shawn', 33), ('Zainab', 33), ('Owais', 33), ('Mr. Wilson', 33), ('Aadam', 33), ('Paul', 33), ('Hameed', 33), ('Auntie Ruby', 33), ('Sana', 33), ('Fariha', 33), ('Auntie Zara', 33), ('Najma', 33), ('Najaf', 33), ('Tyesha', 33), ('Hasan', 33), ('Yusuf', 33), ('Sheikh Abdullah', 33), ('Kamala Khan', 33), ('Kamran', 33), ('Red Dagger', 33), ('Ms. Warren', 32), ('Karen', 32), ('Liz', 32), ('Dr. Helen Cho', 32), ('Adrian Toomes', 32), ('Strucker', 32), ('Charles', 32), ('Flash', 32), ('Jason', 32), ('Fortress Soldier', 32), ('Aaron Davis', 32), ('Sokovian Acid Student', 32), ('Jackson Brice', 32), ('Mac Gargan', 32), ('Abe', 32), ('Madame B', 32), ('Doris Toomes', 32), ('Costel', 32), ('Nathaniel Pietro Barton', 32), ('Agent Foster', 32), ('Seymour', 32), ('Phineas Mason', 32), ('Randy', 32), ('Mr. Cobbwell', 32), ('Zrinka', 32), ('Strucker Mercenary', 32), ('Michelle', 32), ('Herman Schultz', 32), ('Anne Marie Hoag', 32), ('Betty', 32), ('Principal Morita', 32), ('Detective Rivera', 29), ('Father Sean Okamoto', 29), ('Eleanor Bishop', 29), ('Jolene Spivey', 29), ('Grills', 29), ('Victoria Helstrom', 29), ('Tooms', 29), ('Aubree Richards', 29), ('Tomas', 29), ('William Lopez', 29), ('Daimon Helstrom', 29), ('Father Joshua Crow', 29), ('Kthara', 29), ('Ana Helstrom', 29), ('Kingpin', 29), ('Missy', 29), ('Young Daimon', 29), ('Papa', 29), ('Jack Duquesne', 29), ('Bryce', 29), ('Kazi', 29), ('Ahmad', 29), ('Derek Bishop', 29), ('Kate Bishop', 29), ('Yelena', 29), ('Talos', 29), ('Ivan', 29), ('Maya Lopez', 29), ('Caretaker', 29), ('Keith Spivey', 29), ('Cameron Tate', 29), ('Little Kazi', 29), ('Ellis', 29), ('Esther', 29), ('Officer Derrick Jackson', 29), ('Alex Tilden', 29), ('Little Maya', 29), ('Gabriella Rosetti', 29), ('Dr. Lawrence', 29), ('Chris Yen', 29), ('Lee', 29), ('Edward Tate', 29), ('Archer Cavallo', 29), ('Agent Phil Coulson', 29), ('Catering Captain Gary', 29), ('Orville', 29), ('Sonya', 29), ('Armand VII', 29), ('Armand III', 29), ('Archbishop Terrazi', 29), ('Young Ana', 29), ('Detective Caudle', 29), ('Dr. Louise Hastings', 29), ('Enrique', 29), ('Murakami', 28), ('Lexi Raymond', 28), ('Mr. Berkowitz', 28), ('Alexandra Reid', 28), ('Mr. Zhang', 28), ('Cole', 28), ('Strieber', 28), ('Michelle Raymond', 28), ('Delores', 28), ('Sowande', 28), ('Actor Odin', 27), ('King Yakan', 27), ('Actor Loki', 27), ('Victoria', 27), ('Hercules', 27), ('The Seamstress', 27), ('Baby Groot', 27), ('Habooska the Horrible', 27), ('Brad Davis', 27), ('Zach', 27), ('Sebastian', 27), ('King Valkyrie', 27), ('Josh', 27), ('Actor Hela', 27), ('Zoha', 27), ('Janice', 27), ('Gorr', 27), ('Jason Ionello', 27), ('Guterman', 27), ('E.D.I.T.H.', 27), ('Yasmin', 27), ('Asgardian Stagehand', 27), ('Zeus', 27), ('Darryl the Tour Guide', 27), ('Asgard Tourist', 27), ('Miek', 27), ('Quentin Beck', 27), ('Dimitri', 27), ('Actor Thor', 27), ('Tyler', 27), ('Tullk', 26), ('Halfnut', 26), ('Martinex', 26), ('Councilman Yen', 26), ('French Pirate #1', 26), ('Zylak', 26), ('French Pirate #2', 26), ('Amalia Chavez', 26), ('Retch', 26), ('Sneeper Madame', 26), ('Charlie', 26), ('Sara', 26), ('Jack Rollins', 26), ('Dr. Fine', 26), ('Brahl', 26), ('Officer Fitzgibbon', 26), ('Clea', 26), ('Stakar Ogord', 26), ('Vinny', 26), ('Elena Chavez', 26), ('Narblik', 26), ('Dr. Nic West', 26), ('Ayesha', 26), ('Councilwoman Hawley', 26), ('Huhtar', 26), ('Gef', 26), ('America Chavez', 26), ('Skinny Steve', 26), ('Kamar-Taj Teacher', 26), ('Councilman Rockwell', 26), ('Master Hamir', 26), ('The Weasel', 26), ('Ariann', 26), ('Reed Richards', 26), ('Kate', 26), ('Doctor Stephen Strange', 26), ('Rintrah', 26), ('Pizza Poppa', 26), ('Councilman Singh', 26), ('Smithsonian Guard', 26), ('Engine Pirate', 26), ('Oblo', 26), ('French Radio Pirate', 26), ('Specialist Cameron Klein', 26), ('Professor Charles Xavier', 26), ('Baron Mordo', 26), ('Dr. Bill Foster', 25), ('Agent Burleigh', 25), ('Grandpa', 25), ('Young Bill', 25), ('Dr. Fitzgibbon', 25), ('Bereet', 25), ('Catherine Starr', 25), ('Darren Cross', 25), ('The Broker', 25), ('Young Hope', 25), ('Cosmo the Space Dog', 25), ('Young Janet', 25), (\"Meredith's Brother\", 25), ('Young Quill', 25), ('Sonny Burch', 25), ('Denarian Saal', 25), ('Nova Prime', 25), ('Agent Stoltz', 25), ('Young Hank', 25), ('Horuz', 25), (\"Meredith's Best Friend\", 25), ('Young Ava', 25), (\"Meredith's Mother\", 25), ('Maggie', 25), ('Uzman', 25), ('Yondu Udonta', 25), ('Anitolov', 25), ('Knox', 25), ('Corpsman Dey', 25), ('Elihas Starr', 25), ('Cassie', 25), ('On Set Groot', 25), (\"King T'Chaka\", 24), ('Maria Stark', 24), ('Dr. Broussard', 24), ('Miriam', 24), ('Vicar', 24), ('Zemo', 24), ('Lieutenant James Rhodes', 24), ('Spider', 22), ('Yon-Rogg', 22), ('Colonel James Rhodes', 22), ('Vice President Rodriguez', 22), ('Khonshu', 22), ('Dr. Grant', 22), ('J.B.', 22), ('Bill Maher', 22), ('Elias Spector', 22), ('Minn-Erva', 22), ('Norex', 22), ('Cajun', 22), ('Mrs. Davis', 22), ('Crawley', 22), ('Dylan', 22), ('Bron-Char', 22), ('Khonshu Performer', 22), ('Yatzil', 22), ('Hero Torfan', 22), ('Layla El-Faouly', 22), ('Bobbi', 22), ('Bek', 22), ('Bret Johnson', 22), ('Cadet Officer', 22), ('Supreme Intelligence', 22), ('Brandt', 22), ('Harley Keener', 22), ('Soh-Larr', 22), ('Young Carol (13 Years Old)', 22), ('George Kotsiopoulos', 22), ('Marc Spector', 22), ('Savin', 22), ('Joan Rivers', 22), ('Josh Elliott', 22), ('Taweret', 22), ('Monica Rambeau (11 Years Old)', 22), ('Anton Mogart', 22), ('Selim', 22), ('Arthur Harrow', 22), ('Wendy Spector', 22), ('Forger', 22), ('Steve Danvers', 22), ('Dornfeld', 22), ('Ho Yinsen', 22), ('Att-Lass', 22), ('Ammit', 22), ('Megan Henderson', 22), ('Aldrich Killian', 22), ('Joseph Danvers', 22), ('Maya Hansen', 22), ('Randall Spector', 22), ('Doctor Wu', 22), ('Donna', 22), ('Maria Rambeau', 22), ('Mordo', 21), ('Makkari', 21), ('Brunette Zealot', 21), ('Ikaris', 21), ('Lucian', 21), ('Kro', 21), ('Jonathan Pangborn', 21), ('Eros', 21), ('Mitchell Carson', 21), ('Sandra', 21), ('Maddie', 21), ('Gale', 21), ('Thena', 21), ('Jack', 21), ('Dr. Garrison', 21), ('Dr. Weiss', 21), ('Dr. Bruner', 21), ('Blonde Zealot', 21), ('Phastos', 21), ('Sprite', 21), ('Young Pym', 21), ('Patrick', 21), ('Algrim', 21), ('Hydra Buyer', 21), ('Kaecilius', 21), ('Dr. Nicodemus West', 21), ('Arishem', 21), ('Dr. Stephen Strange', 21), ('Kingo', 21), ('Tyr', 21), ('Karun', 21), ('Sol Rama', 21), ('Nurse Billy', 21), ('Jano', 21), ('Buyer', 21), ('Cab Driver', 21), ('Pip the Troll', 21), ('Sersi', 21), ('Navid', 21), ('Maggie Lang', 21), ('Hamir', 21), ('Dr. Patel', 21), ('Ian Boothby', 21), ('Ajak', 21), ('Steve Scott', 21), ('Gilgamesh', 21), ('Malekith', 21), ('Daniel Drumm', 21), ('Tall Zealot', 21), ('Druig', 21), ('Eir', 21), ('Dane Whitman', 21), ('Katy', 20), ('Young Xialing', 20), ('Norman Osborn', 20), ('Yuchen', 20), ('Waipo', 20), ('Justin Hammer', 20), ('MIT Assistant Vice Chancellor', 20), ('Ruihua', 20), ('Mrs. Chen', 20), ('Master Guang Bo', 20), ('Jon Jon', 20), ('Soo', 20), ('Xialing', 20), ('Death Dealer', 20), ('Shaun', 20), ('Gao Lei', 20), ('Ying Nan', 20), ('Dr. Otto Octavius', 20), ('Klev', 20), ('Razor Fist', 20), ('Dr. Curt Connors', 20), ('Chancellor Hui', 20), ('Flint Marko', 20), ('Max Dillon', 20), ('Xu Wenwu', 20), ('Agent Delancey', 19), ('Agent Cale', 19), ('Agent Garrett', 19), ('Agent Jackson', 19), ('King Laufey', 19), ('Isabela Alvarez', 19), ('The Other', 18), ('Dennis the Mailman', 18), ('Agent Rodriguez', 18), ('Phil Jones', 18), ('Agnes', 18), ('Norm', 18), ('Monica Rambeau', 18), ('Director Tyler Hayward', 18), ('Agent Monti', 18), ('Beverly', 18), ('Agent Maria Hill', 18), ('Shawna Lynde', 18), ('Herb', 18), ('Mrs. Hart', 18), ('Senator Boynton', 18), ('Dottie Jones', 18), ('Young Yelena', 17), ('Scientist Morocco 2', 17), ('Scientist Morocco 1', 17), ('Ross Lieutenant', 17), ('Young Antonia', 17), ('Melina', 17), ('Antonia', 17), ('Ursa', 17), ('Mason', 17), ('Secretary Ross', 17), ('Lerato', 17), ('Oksana', 17), ('Alexei', 17), ('Ingrid', 17), ('Dreykov', 17), ('Young Natasha', 17), ('Yelena Belova', 17), ('Johann Schmidt', 16), ('Gabe Jones', 16), ('Jacques Dernier', 16), ('Dr. Abraham Erskine', 16), (\"James Buchanan 'Bucky' Barnes\", 16), ('Senator Brandt', 16), ('James Montgomery Falsworth', 16), ('Colonel Chester Phillips', 16), (\"Timothy 'Dum Dum' Dugan\", 16), ('Heinz Kruger', 16), ('Gilmore Hodge', 16), ('Hela', 15), (\"W'Kabi\", 15), ('Linda', 15), (\"N'Jobu\", 15), ('Skurge', 15), ('Limbani', 15), ('Erik Killmonger', 15), ('Zuri', 15), (\"Lt. Col. James 'Rhodey' Rhodes\", 14), ('Natalie Rushman', 14), ('Detective Lemieux', 14), ('Ivan Vanko', 14), ('Christiane Amanpour', 14), ('Hogan', 13), ('Abu Bakaar', 13), ('Yinsen', 13), ('Raza', 13), ('Major Allen', 13), ('General Gabriel', 13), ('Alpha Dog', 11), ('Agent Jemma Simmons', 11), ('Director Jeffrey Mace', 11), ('Elena Rodriguez', 11), ('Agent Melinda May', 11), ('Agent Daisy Johnson', 11), ('Agent Leo Fitz', 11), ('Cecilio', 11), (\"Agent Alphonso 'Mack' Mackenzie\", 11), ('Jovan', 10), ('Emil Blonsky', 10), ('Elsa Bloodstone', 10), ('Barasso', 10), ('Liorn', 10), ('Samuel Sterns', 10), ('Azarel', 10), ('Major Kathleen Sparr', 10), ('Jack Russell', 10), ('Voice of The Incredible Hulk', 10), ('Leonard', 10), (\"General 'Thunderbolt' Ross\", 10), ('Martina', 10), ('The Flaming Tuba', 10), ('Billy Swan', 10), ('Ted (The Man-Thing)', 10), ('General Joe Greller', 10), ('Verussa', 10), ('Stanley', 10), ('Ulysses Bloodstone', 10), ('Special Agent Sonya Falsworth', 8), ('Fiz', 8), ('FSB Commander', 8), ('Rebel Skrull leader Gravik', 8), ('He Who Remains', 7), ('Sylvie', 7), ('Ravonna Renslayer', 7), ('Hunter B-15', 7), ('Mobius', 7), ('Miss Minutes', 7), ('Casey', 7), ('Bar Monkey', 6), ('Jackson Norris', 6), ('Herman', 6), ('White Power Dave', 6), ('Fletcher Heggs', 6), ('Dove', 5), ('Will Adams', 5), ('Agent Blake', 3), ('Agent Flynn', 3), ('Claire Weiss', 3), ('Bennie Pollock', 3), ('Agent Jasper Sitwell', 3), ('Iwua', 2), ('Night Waitress', 2)]\n"
          ]
        }
      ]
    },
    {
      "cell_type": "code",
      "source": [
        "# Clustering Coeffcient \n",
        "components = sorted(nx.connected_components(old_G_char), key=len, reverse=True)\n",
        "nx.average_clustering(old_G_char.subgraph(components[0]))"
      ],
      "metadata": {
        "colab": {
          "base_uri": "https://localhost:8080/"
        },
        "id": "hdszIU2fV3LY",
        "outputId": "cb590d99-d5c5-4b42-d2a8-bc218e22aafc"
      },
      "execution_count": 50,
      "outputs": [
        {
          "output_type": "execute_result",
          "data": {
            "text/plain": [
              "0.9568874635011437"
            ]
          },
          "metadata": {},
          "execution_count": 50
        }
      ]
    },
    {
      "cell_type": "code",
      "source": [
        "# Clustering Coeffcient \n",
        "nx.transitivity(old_G_char)"
      ],
      "metadata": {
        "colab": {
          "base_uri": "https://localhost:8080/"
        },
        "id": "yrULxooYdySq",
        "outputId": "c5cfca9c-a230-4f30-c6f8-e154f077dd2a"
      },
      "execution_count": 78,
      "outputs": [
        {
          "output_type": "execute_result",
          "data": {
            "text/plain": [
              "0.9691603724717606"
            ]
          },
          "metadata": {},
          "execution_count": 78
        }
      ]
    },
    {
      "cell_type": "markdown",
      "source": [
        "### Refined Network"
      ],
      "metadata": {
        "id": "GiUUkXlGZRUX"
      }
    },
    {
      "cell_type": "code",
      "source": [
        "new_G_char = nx.bipartite.projected_graph(new_G, new_character_nodes)\n",
        "print(new_G_char)"
      ],
      "metadata": {
        "colab": {
          "base_uri": "https://localhost:8080/"
        },
        "outputId": "53cccf7a-41ba-4515-f436-6ce1666ec7e0",
        "id": "nAPIkIEAZTQd"
      },
      "execution_count": 29,
      "outputs": [
        {
          "output_type": "stream",
          "name": "stdout",
          "text": [
            "Graph with 794 nodes and 14793 edges\n"
          ]
        }
      ]
    },
    {
      "cell_type": "code",
      "source": [
        "# Average Degree\n",
        "sum([d for (n,d) in nx.degree(new_G_char)]) / new_G_char.number_of_nodes()"
      ],
      "metadata": {
        "colab": {
          "base_uri": "https://localhost:8080/"
        },
        "outputId": "3d1817bc-1346-43b5-b467-584a0cf76972",
        "id": "cWvPX1HTZTQe"
      },
      "execution_count": 31,
      "outputs": [
        {
          "output_type": "execute_result",
          "data": {
            "text/plain": [
              "37.26196473551637"
            ]
          },
          "metadata": {},
          "execution_count": 31
        }
      ]
    },
    {
      "cell_type": "code",
      "source": [
        "# Node Degree Distribution\n",
        "fig, ax = plt.subplots(1, 2)\n",
        "ax[0].scatter(*np.unique([d for (n,d) in nx.degree(new_G_char)], return_counts=True))\n",
        "ax[0].set_xlabel('Degree')\n",
        "ax[0].set_ylabel('Node Frequency')\n",
        "ax[0].set_title('Characters')\n",
        "\n",
        "ax[1].scatter(*np.unique([d for (n,d) in nx.degree(new_G_char)], return_counts=True))\n",
        "ax[1].set_xlabel('Degree')\n",
        "ax[1].set_title('Characters (log)')\n",
        "ax[1].set_xscale('log')"
      ],
      "metadata": {
        "colab": {
          "base_uri": "https://localhost:8080/",
          "height": 299
        },
        "outputId": "f0d34350-ea37-4986-c5cb-c7a9d65b1d47",
        "id": "KzcUsNJKZTQe"
      },
      "execution_count": 42,
      "outputs": [
        {
          "output_type": "display_data",
          "data": {
            "text/plain": [
              "<Figure size 432x288 with 2 Axes>"
            ],
            "image/png": "[encoded data removed]"
          },
          "metadata": {
            "needs_background": "light"
          }
        }
      ]
    },
    {
      "cell_type": "code",
      "source": [
        "# Components\n",
        "components = nx.connected_components(new_G_char)\n",
        "for component in components:\n",
        "  print(len(component), component)"
      ],
      "metadata": {
        "colab": {
          "base_uri": "https://localhost:8080/"
        },
        "outputId": "50925344-9bb0-41d1-bb37-adbd03a53d14",
        "id": "LEIy5mmaZTQe"
      },
      "execution_count": 36,
      "outputs": [
        {
          "output_type": "stream",
          "name": "stdout",
          "text": [
            "673 {'Karen Page', 'Gideon Malick', 'Tommy Maximoff', 'Pedro The Bartender', 'Andrew Brandt', 'Janice', 'Saracen', 'Tibor', 'Dennis Bukowski', 'Ebony Maw', 'Heinz Kruger', 'Agent Monti', 'Shuri-AR', 'Bronaja', 'Detective Rafael Scarfe', 'Carol Danvers', 'Madame Gao', 'Nebula', 'Yusuf', 'Zaya Okonjo', 'Hugh Jones', 'Supreme Intelligence', 'Special Agent Sonya Falsworth', 'Secretary Ross-AR', 'King Laufey', 'Carl Lucas', \"O'Connor\", 'Ringmaster', 'Bobbi Morse', 'Sergei', 'Reva Connors', 'Gamora', 'Enrique', 'Skaar', 'Pam', 'Auran', 'Dr. Karl Malus', 'Wrecker', 'Brandt', 'Surtur-AR', 'Calvin Chadwick', 'Gorr', 'Marci Stahl', 'Bruno', 'Maya Lopez', 'Mr. Delmar', 'Dale', 'Rosalie Carbone', 'D.W. Griffith', 'Ultron-AR', 'Jack Thompson', 'Hope Van Dyne-AR', 'Baron Mordo', 'Kazi', 'Nova Prime', 'Agent Blake', 'Griffin Sinclair', 'Christine Everhart-AR', 'Carlo Eastman', 'Carlos', 'Agent Anderson', 'Oscar Arocho', 'Mary Walker', \"Alphonso 'Mack' Mackenzie\", 'Quentin Beck', 'Dr. Stephen Strange', 'Kith Lyonne', 'Black Bolt', 'Alonso Barber', 'Barbara Shlottman', 'Chancellor Hui', 'Samuel Sterns', 'Mantis', \"T'Chaka-AR\", 'Uncle Tucker', 'Yelena Boleva', 'Gordon', 'Dottie Jones', 'Dr. Leslie Hansen', \"M'Baku\", 'Betty Brant', 'Gamora-AR', 'Pepper Potts', 'Hope Shlottman', 'Bob Shlottman', 'Elaine Walters', 'James Lucas', 'Peggy Carter', 'Shane', 'Wong-AR', 'Nikki Ramos', 'Betty Ross-AR', 'Peter Parker', 'Mrs. Davis', 'Karli Morgenthau', 'Aldrich Killian', 'Ying Nan', 'Cass', 'Mariah Dillard', 'Mama Mabel', 'Eliza Schultz', 'Fandral', 'Sharon Carter', 'General Hale', 'Captain Tom Ridenhour', 'Sana', 'Dorothy', 'Batroc-AR', 'Ego-AR', 'White Power Dave', 'Murakami', 'Detective Nandi Tyler', 'Ulysses Klaue-AR', 'Peter Parker-AR', 'Mrs. Chen', 'Xu Wenwu', 'Hela', 'Jon Jon', 'Akihiko', 'Brad Davis', 'Agent Ford', 'Miss Minutes', 'Strucker', 'Turk Barrett', 'Nakia', 'Ruihua', 'Morris Walters', 'Groot', 'Alexander Pierce', 'Lila Barton', 'Nathaniel Malick', 'Pat Kiernan', 'John Walker', 'Cornelius P. Willows', 'Sharon Carter-AR', 'Darren Cross', 'Jerry', 'Clair', 'Inspector Priscilla Ridley', 'Uatu-AR', \"Raymond 'Piranha' Jones\", 'Grills', \"T'Challa\", 'Director Tyler Hayward', 'Darcy-AR', 'Abomination', 'Young Xialing', 'Volstagg', 'Alan', 'Billy Maximoff', 'Claire Temple', 'Skeevy Guy', 'Odin', 'Joaquin Torres', 'Detective Costa', 'Mr. Berkowitz', 'Sammy', 'Man-Bull', 'Dr. Noah Burstein', 'Albert Rackham', 'Dennis the Mailman', 'Will Adams', 'Willis Stryker', 'Grant Ward', 'Kilgrave', 'Yondu-AR', \"Daisy 'Skye' Johnson\", 'Senator Stern', 'Benjamin Donovan', 'Ronan', 'Sheikh Abdullah', 'Rufus', 'Talos', 'Agent Coulson-AR', 'Mr. Harrington', 'Peter Lyonne', 'Harley Keener', 'Wendy', 'Janet Van Dyne', 'Thanos', 'Natasha Romanoff-AR', 'Alpha Dog', 'FSB Commander', \"Augustus 'Pug' Pugliese\", 'Johann Schmidt', 'Mobius', 'Obadiah Stane', 'Matt Murdock', 'Abu Bakaar', 'Night Waitress', 'Jason Wilkes', 'Zoe', 'Waipo', 'Reed Richards', 'Hercules', 'Thanos-AR', 'Hai-Qing Yang', 'DeeDee', 'Frigga', \"Timothy 'Dum Dum' Dugan-AR\", 'Anansi', 'Malcolm Ducasse', 'Agent Cleary', 'Sam Wilson', 'Peggy Carter-AR', 'Sal Blaskowski', 'Jimmy Woo', 'President Ellis', 'Anton Ivanov', 'Korg-AR', 'Soo', 'Dr. Stephen Strange-AR', 'Agnes', 'Malekith', 'Scott Lang', 'Liz', 'Paxton', 'Agent Davis', 'Baron Zemo', 'Shaun', \"Wilfredo 'Chico' Diaz\", 'Pepper Potts-AR', 'Yuchen', \"Benjamin 'Dex' Poindexter\", 'Sowande', 'Mr. Dell', 'Dr. Christine Palmer', 'Jane Foster', 'Dottie Underwood', 'Whitney Frost', 'Rocket', 'Nathaniel Barton', 'Tomas', 'Radovan Bernivig', 'Reno', 'Colonel Chester Phillips', 'King Valkyrie', 'Justis Ambrose', 'Thor', 'Elektra Natchios', 'Wanda Maximoff', \"Robert 'Whizzer' Coleman\", 'Karnak', 'Gorgon', 'Jack Rollins', 'Peter Quill-AR', 'Carson Wolf', 'Taserface-AR', 'Erik Killmonger-AR', 'Carol Denvers-AR', 'Dante Chapman', 'Luis', 'BB', 'Taserface', 'Cooper Barton', 'Sif-AR', 'Norm', 'Vido Arocho', 'Leo Fitz', \"Henry 'Pop' Hunter\", 'Frank Castle', 'Hank Pym-AR', 'Dr. Otto Octavius', 'Senator Stan Ori', 'Jackson Norris', 'Maria Rambeau', 'Dave', 'Maggie', 'Darryl', 'Yon-Rogg', 'Olivia Walker', 'Miek', 'Kamala Khan', 'Jackson', 'Jiaying', 'Aunt Melanie', 'Howard the Duck-AR', 'Chuck Donelan', 'David Lieberman', 'Jemma Simmons', 'Ahmad Zubair', 'Valentina Allegra de Fontaine', 'Mike Peterson', 'Eric Ambrose', 'Roger Dooley', 'Ebony Maw-AR', 'Carol', 'J. Jonah Jameson', 'Ivan Vanko', 'Ayo', 'Obadiah Stane-AR', 'Heather', 'Razor Fist', 'Adrian Toomes', 'Master Hamir', 'Minn-Erva', 'Aamir', 'Ned Leeds', 'Hogun', 'Dwayne Blaskowski', 'Proxima Midnight-AR', 'Hank Pym', 'Sara Haines', 'Gigi', 'Jennifer Walters', 'Yondu', 'Tony Stark', 'Thomas Roberts', 'Donald', 'Louise', 'Ego', 'James Rhodes-AR', 'Frank', 'Titania', 'Curtis Hoyle', 'Col. Morty Bennett', 'Linda Chao', 'Flash Thompson', 'Trevor Slattery', 'Nick Fury-AR', 'He Who Remains', 'El Aguila', 'Betty Ross', 'Vernon Masters', 'Valkyrie', 'Antoine Triplett', 'Justin Hammer', 'Hank Sanderson', 'Thembi Wallace', 'Everett K. Ross', 'Happy Hogan', 'Matias', 'William Rawlins', 'Ramonada', 'Jeri Hogarth', 'Agent Rodriguez', 'Locus', 'Grandmaster-AR', 'Yinsen', 'Bakuto', 'Triton', 'Tony stark-AR', 'Maria Hill-AR', 'Mrs. Hart', 'Sonny Burch', 'Trish Walker', \"'Pistol Pete' Stokes\", 'Herman', 'Scott Lang-AR', 'Sylvie', 'Yelena Belova', 'Li', 'Agent Piper', 'Lennox', 'Tiny', 'Korath-AR', 'Laura Barton', 'Colonel Victor Ramon', 'Monica Rambeau', 'Agent Weaver', 'Carol Denvers', 'Calvin Zabo', 'Judge Price', 'God of Thunder', 'Death Dealer', 'Dr. Arnim Zola', 'Eitri', 'Happy Sam Sawyer', 'Edwin Jarvis', 'John', 'Det. Sgt. Brett Mahoney', 'Marilyn', 'JARVIS-AR', 'Melinda May', 'Jason Ionello', 'Cousin Ched', 'Kurt-AR', 'Bucky Barnes', 'Master Guang Bo', 'Ulysses Klaue', 'Ayesha', 'Arnim Zola-AR', 'Arthur', 'Peter Parker2', 'Steve Rogers-AR', 'Nebula-AR', 'Darcy Lewis', 'Zuri', 'Mallory Book', 'Pietro Maximoff', 'Shuri', 'Aunt May', 'Victoria', 'Loki', 'Cornell Stokes', 'Giyera', 'Zeus', 'William Ginter Riva', 'The Ancient One-AR', 'Bennie Pollock', 'Clint Barton', 'America Chavez', 'Morgan Stark', \"Dontrell 'Cockroach' Hamilton\", 'Dr. Nic West', 'Maria Hill', 'Madisynn', 'Habooska the Horrible', 'Erik Gelden', 'Louise Thompson', 'Iwua', 'Detective Rivera', 'Coach Wilson', 'John Pilgrim', 'Audrey', 'Isaiah Bradley', 'Auntie Ruby', 'Jack Duquesne', 'Dr. Bill Foster', 'Glenn Talbot', 'Eugene Patilio', \"T'Chaka\", 'Billy Russo', 'Claire Weiss', 'Melina', 'Blake Tower', 'Domingo Colon', 'Ward Meachum', 'Alisa Jones', 'Ian Quinn', 'Lei Kung', 'JARVIS', 'Baby Groot', 'Krista Dumont', 'May Parker', 'Dr. Evan Declan', 'Detective Andrew Henry', 'Bethany', 'Detective Caudle', 'Norman Osborn', 'Robyn', 'Kamran', 'Brock Rumlow', 'Muneeba', 'Danny Rand', 'Raina', 'Erik Killmonger', 'Joy Meachum', 'Okoye', 'Paul Edmonds', 'Meredith Quill', 'Dr. Christina Raynor', 'Bruce Banner', 'Albert Thompson', 'Kingpin', 'Sarah Wilson', 'Misty Knight', 'Holden Radcliffe', 'Guterman', 'Derek', 'Dinah Madani', 'Cull Obsidian', 'Topaz', 'Corvus Glaive', 'The Collector-AR', 'Mouse', 'Christine Everhart', 'Secretary Ross', 'Emma', 'Senator Atwood', 'Dr. Kozlov', 'Crystal', 'Sunil Bakshi', 'Jonathan Pangborn', 'Herb', 'Agent Flynn', 'Eldrac', 'Agent Deever', 'Bucky Barnes-AR', 'Max Dillon', 'Asgardian Stagehand', 'MJ', 'Jarvis', 'Andrew Garner', 'Comanche', 'Mama Donya', 'God of Thunder-AR', 'Surtur', 'Howard Stark-AR', 'Korg', \"King T'Chaka\", 'Ned', 'Amalia Chavez', 'Queen Rynda', 'Dr. Helen Cho', 'Cassie Lang', 'Joseph Manfredi', 'MIT Assistant Vice Chancellor', 'Okoye-AR', 'Doctor David Kurata', 'Ghost Rider', 'Marion James', 'Kurt', 'Jack Murdock', 'Tilda Johnson', 'Wendy Ross-Hogarth', 'Hernan Alvarez', 'Jen', 'Howard Stark', 'Aaron Davis', 'Clint Barton-AR', 'Ravonna Renslayer', 'Eleanor Bishop', 'Savin', 'Friday', 'Father Lantom', 'Yondu Udonta', 'The Collector', 'Peter Quill', 'Jeffrey Mace', 'Thunderball', 'Fletcher Heggs', 'Porcupine', 'King Yakan', 'Will Simpson', \"Maximillian 'Max' Tatum\", 'Kate Bishop', 'Inez Green', 'Captain Betty Audrey', 'Ruben', 'Steve Rogers', 'Daniel Sousa', 'Shameek Smith', \"Elena 'Yo-Yo' Rodriguez\", 'Mason', 'Najma', 'Red Dagger', 'Enoch', 'Erik Selvig', 'Antonia', 'Mitchell Ellison', 'Dana Stryker', 'Agent Vega', 'King Agon', 'Gao Lei', 'Fiz', 'Emil Blonsky', 'Unique', 'E.D.I.T.H.', 'Rick', 'Sam Stein', 'Jim Morita', 'AJ', 'Casey', 'Kitang', 'Raza', 'Proxima Midnight', \"O'Bengh-AR\", 'Sif', 'Det. Oscar Clemons', 'Daredevil', 'Rebel Skrull leader Gravik', 'Wilson Fisk', 'Steven Benowitz', 'Major Allen', 'Colonel Flynn-AR', 'Kraglin-AR', 'Maya Hansen', 'Ava', 'Holden Holliway', 'Runa', 'Luanne', 'Heimdall', 'Katy', 'Dreykov', 'Bobby Fish', 'Audrey Eastman', 'Zemo', 'Ultron', 'Ivan', 'Maximus', 'Frigga-AR', 'Agent Sitwell', 'Wendell Rand', 'Hunter B-15', 'Drax', 'Lance Hunter', 'Mr. Immortal', 'Xialing', 'Davos', 'Daisy Johnson', 'Klev', 'Vision', 'Medusa', 'Nico', 'Luke Jacobson', 'Bruce Banner-AR', 'Gregory Sallinger', 'Agent Coulson', 'Beverly', \"T'Challa-AR\", 'Stick', 'Dr. Hank Pym', 'Harold Meachum', 'Hope Van Dyne', 'Flint', 'On-Set Rocket', 'Phil Jones', 'Dr. Erskine-AR', 'Sinara', 'Georges Batroc', 'Diego', 'The Weasel', 'Wong', 'Alexei', 'Natasha Romanoff', 'Aida', 'Professor Charles Xavier', 'Dr. Ivchenko', 'Kraglin', 'Auntie Zara', 'Hank', 'Skurge', 'Lulu', 'Grandmaster', 'Noah', 'Agent Fisher', 'Peter Parker3', 'Elena Chavez', 'David Schultz', \"Timothy 'Dum Dum' Dugan\", 'Jessica Jones', 'Flint Marko', 'Nick Fury', 'Daniel Drumm', 'Lieutenant Perez', 'Brock Rumlow-AR', 'Ben Urich', 'Agent Blackwell', 'Colleen Wing', 'Jane Foster-AR', 'Luke Cage', 'Herman Schultz', 'Josh Miller', 'Dovich', 'Sharon', 'Foggy Nelson', 'Battlestar', 'Daniel Whitehall', 'The Ancient One', 'Mordis', 'Alexandra Reid', \"N'Jobu\", 'Kaecilius', 'Lincoln Campbell', 'Queen Ramonada-AR', 'Loki-AR', 'Ana Jarvis', 'Korath', 'Happy Hogan-AR', 'Dr. Curt Connors', 'Deke Shaw', 'Algrim', 'Donny Blaze', 'Detective Mark Bailey', 'Young Jessica', 'James Rhodes', 'Carl Creel', 'Kasius', 'Eli Bradley', 'Dr. Christine Palmer-AR', 'Sheriff Hardin', \"W'Kabi\"}\n",
            "57 {'Destiny Gonzalez', 'Detective Connors', 'Xavin', 'Topher', 'Chase Stein', 'Robert Minoru', 'Tina Minoru', 'Graciela Aguirre', 'Mike on a Bike', 'Andre Deschaine', 'Adina Johnson', 'Otis Johnson', \"Anthony 'AWOL' Wall\", 'Molly Hernandez', 'Nathan Bowen', 'Karolina Dean', 'Auntie Chantelle', \"Detective Brigid O'Reilly\", 'Evita Fusilier', 'Officer Fuchs', 'Morgan le Fay', 'Melissa Bowen', 'Darius', 'Geoffrey Wilder', 'Nico Minoru', 'Stacey Yorkes', 'Vaughn', 'Detective Flores', 'Susan Ellerh', 'Aura', 'Gert Yorkes', 'Liam Walsh', 'Eiffel', 'Bronwyn', 'Peter Scarborough', 'Mina Hess', 'Janet Stein', 'Ivan Hess', 'Victor Stein', 'Livvie', 'Mikayla Bell', 'Choo Choo Broussard', 'Duane Porter', 'Dale Yorkes', 'Leslie Dean', 'Frank Dean', 'Millennial Megan', 'Dagger', 'Frances', 'Amy Minoru', 'Cloak', 'Lia', 'Catherine Wilder', 'Alex Wilder', 'Jonah', 'Solomon', 'Tamar'}\n",
            "17 {'Jack', 'Kingo', 'Druig', 'Gilgamesh', 'Dane Whitman', 'Karun', 'Ben', 'Thena', 'Ikaris', 'Phastos', 'Kro', 'Makkari', 'Ajak', 'Arishem', 'Sersi', 'Eros', 'Sprite'}\n",
            "11 {'Elsa Bloodstone', 'Ulysses Bloodstone', 'Liorn', 'Ted (The Man-Thing)', 'The Flaming Tuba', 'Verussa', 'Jack Russell', 'Barasso', 'Jovan', 'Billy Swan', 'Azarel'}\n",
            "15 {'Yatzil', 'Khonshu', 'Marc Spector', 'Bek', 'Donna', 'Anton Mogart', 'J.B.', 'Taweret', 'Layla El-Faouly', 'Crawley', 'Arthur Harrow', 'Wendy Spector', 'Selim', 'Bobbi', 'Billy'}\n",
            "21 {'Aubree Richards', 'Jolene Spivey', 'Papa', 'Finn', 'Ellis', 'Archbishop Terrazi', 'Ana Helstrom', 'Bryce', 'Keith Spivey', 'Alex Tilden', 'Dr. Louise Hastings', 'Lee', 'Kthara', 'Esther', 'Chris Yen', 'Father Joshua Crow', 'Victoria Helstrom', 'Daimon Helstrom', 'Gabriella Rosetti', 'Cameron Tate', 'Officer Derrick Jackson'}\n"
          ]
        }
      ]
    },
    {
      "cell_type": "code",
      "source": [
        "#Diameter of largest component\n",
        "components = sorted(nx.connected_components(new_G_char), key=len, reverse=True)\n",
        "diameter = nx.diameter(new_G_char.subgraph(components[0]))\n",
        "print('Diameter of largest connected component:', diameter)"
      ],
      "metadata": {
        "colab": {
          "base_uri": "https://localhost:8080/"
        },
        "id": "YGmAtX4fZTQf",
        "outputId": "0fb39202-6f74-4151-d30a-cde6ddb638ee"
      },
      "execution_count": 38,
      "outputs": [
        {
          "output_type": "stream",
          "name": "stdout",
          "text": [
            "Diameter of largest connected component: 5\n"
          ]
        }
      ]
    },
    {
      "cell_type": "code",
      "source": [
        "# Average shortest path length of largest component\n",
        "components = sorted(nx.connected_components(new_G_char), key=len, reverse=True)\n",
        "nx.average_shortest_path_length(new_G_char.subgraph(components[0]))"
      ],
      "metadata": {
        "colab": {
          "base_uri": "https://localhost:8080/"
        },
        "outputId": "40d58f5b-ead1-4fb6-ee05-b11561c7d000",
        "id": "eA12op3nZTQf"
      },
      "execution_count": 40,
      "outputs": [
        {
          "output_type": "execute_result",
          "data": {
            "text/plain": [
              "3.2898491120073587"
            ]
          },
          "metadata": {},
          "execution_count": 40
        }
      ]
    },
    {
      "cell_type": "code",
      "source": [
        "# Clustering Coeffcient \n",
        "components = sorted(nx.connected_components(new_G_char), key=len, reverse=True)\n",
        "nx.average_clustering(new_G_char.subgraph(components[0]))"
      ],
      "metadata": {
        "colab": {
          "base_uri": "https://localhost:8080/"
        },
        "id": "-JgZ4_8VVV1Y",
        "outputId": "f792e14d-f3b5-4ba5-9231-0b7d20d80f1e"
      },
      "execution_count": 49,
      "outputs": [
        {
          "output_type": "execute_result",
          "data": {
            "text/plain": [
              "0.9181513550481859"
            ]
          },
          "metadata": {},
          "execution_count": 49
        }
      ]
    },
    {
      "cell_type": "code",
      "source": [
        "# Clustering Coeffcient \n",
        "nx.transitivity(new_G_char)"
      ],
      "metadata": {
        "colab": {
          "base_uri": "https://localhost:8080/"
        },
        "id": "aM4N17wneMBu",
        "outputId": "41c16e11-7fa7-4b93-ad93-4782413d9baa"
      },
      "execution_count": 77,
      "outputs": [
        {
          "output_type": "execute_result",
          "data": {
            "text/plain": [
              "0.7865580748804692"
            ]
          },
          "metadata": {},
          "execution_count": 77
        }
      ]
    }
  ]
}