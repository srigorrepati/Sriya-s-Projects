{
  "nbformat": 4,
  "nbformat_minor": 0,
  "metadata": {
    "colab": {
      "provenance": [],
      "authorship_tag": "ABX9TyPzt3uvfuDlBRnt/IlQTzn0",
      "include_colab_link": true
    },
    "kernelspec": {
      "name": "python3",
      "display_name": "Python 3"
    },
    "language_info": {
      "name": "python"
    }
  },
  "cells": [
    {
      "cell_type": "markdown",
      "metadata": {
        "id": "view-in-github",
        "colab_type": "text"
      },
      "source": [
        "<a href=\"https://colab.research.google.com/github/mslater21/SNA-Project/blob/main/louvain_communities.ipynb\" target=\"_parent\"><img src=\"https://colab.research.google.com/assets/colab-badge.svg\" alt=\"Open In Colab\"/></a>"
      ]
    },
    {
      "cell_type": "code",
      "execution_count": 1,
      "metadata": {
        "id": "96c65f8c"
      },
      "outputs": [],
      "source": [
        "import networkx as nx, matplotlib.pyplot as plt\n",
        "import numpy as np, pandas as pd\n",
        "import math, seaborn as sns\n",
        "from scipy import stats\n",
        "from sklearn import cluster as clstr\n",
        "from networkx import edge_betweenness_centrality\n",
        "from networkx.algorithms import community\n",
        "import itertools"
      ]
    },
    {
      "cell_type": "code",
      "execution_count": 2,
      "metadata": {
        "id": "3cdd3303"
      },
      "outputs": [],
      "source": [
        "characters = pd.read_csv('marvel_characters.csv')\n",
        "titles = pd.read_csv('marvel_titles.csv')"
      ]
    },
    {
      "cell_type": "code",
      "execution_count": 3,
      "metadata": {
        "id": "48a1ddb3"
      },
      "outputs": [],
      "source": [
        "GT = nx.Graph()\n",
        "\n",
        "for index, row in titles.iterrows():\n",
        "  GT.add_node(row['title'] + '*', bipartite=0, media_type=row['type'], release_year=row['release_year'], release_month=row['release_month'], release_day=row['release_day'], rating=row['rating'], length=row['length'], starts=row['stars'], genres=row['genres'])\n",
        "\n",
        "for index, row in characters.iterrows():\n",
        "  if row['title'] == 'What If...?':\n",
        "    char_name = row['character'] + '-AR'\n",
        "  else:\n",
        "    char_name = row['character']\n",
        "  GT.add_node(char_name, bipartite=1, alias=row['character_alias'], actor=row['actor'], alpha=.4, node_color='red', node_shape='s')\n"
      ]
    },
    {
      "cell_type": "code",
      "execution_count": 4,
      "metadata": {
        "id": "iiv9ufF8zKhj"
      },
      "outputs": [],
      "source": [
        "for index, row in characters.iterrows():\n",
        "  if row['title'] == 'What If...?':\n",
        "    char_name = row['character'] + '-AR'\n",
        "  else:\n",
        "    char_name = row['character']\n",
        "  GT.add_edge(row['title'] + '*', char_name)"
      ]
    },
    {
      "cell_type": "code",
      "execution_count": 5,
      "metadata": {
        "id": "63880d7a"
      },
      "outputs": [],
      "source": [
        "character_nodes = {n for n, d in GT.nodes(data=True) if d['bipartite'] == 1}\n",
        "title_nodes = set(GT) - character_nodes"
      ]
    },
    {
      "cell_type": "code",
      "execution_count": 6,
      "metadata": {
        "colab": {
          "base_uri": "https://localhost:8080/"
        },
        "id": "ede9c6b1",
        "outputId": "5b84bee5-eb6d-4b48-d8fa-7b39bdf74ff8"
      },
      "outputs": [
        {
          "output_type": "execute_result",
          "data": {
            "text/plain": [
              "794"
            ]
          },
          "metadata": {},
          "execution_count": 6
        }
      ],
      "source": [
        "len(character_nodes) # number of characters"
      ]
    },
    {
      "cell_type": "code",
      "execution_count": 7,
      "metadata": {
        "colab": {
          "base_uri": "https://localhost:8080/"
        },
        "id": "e548ac3f",
        "outputId": "1d13ecb1-99fe-4255-ca24-987cf19ea2e5"
      },
      "outputs": [
        {
          "output_type": "execute_result",
          "data": {
            "text/plain": [
              "60"
            ]
          },
          "metadata": {},
          "execution_count": 7
        }
      ],
      "source": [
        "len(title_nodes) # titles count"
      ]
    },
    {
      "cell_type": "code",
      "execution_count": 8,
      "metadata": {
        "colab": {
          "base_uri": "https://localhost:8080/"
        },
        "id": "4b02de12",
        "outputId": "06f89e17-b27e-4749-e9f7-a799ef32509a"
      },
      "outputs": [
        {
          "output_type": "execute_result",
          "data": {
            "text/plain": [
              "1142"
            ]
          },
          "metadata": {},
          "execution_count": 8
        }
      ],
      "source": [
        "len(GT.edges)"
      ]
    },
    {
      "cell_type": "code",
      "source": [
        "GT_char = nx.bipartite.projected_graph(GT, character_nodes)\n",
        "print(GT_char)"
      ],
      "metadata": {
        "colab": {
          "base_uri": "https://localhost:8080/"
        },
        "id": "OOQwD2qT5Pf6",
        "outputId": "ebb7f1a7-dd1b-4638-f3ea-248ee9c9ab82"
      },
      "execution_count": 9,
      "outputs": [
        {
          "output_type": "stream",
          "name": "stdout",
          "text": [
            "Graph with 794 nodes and 14793 edges\n"
          ]
        }
      ]
    },
    {
      "cell_type": "code",
      "source": [
        "components = sorted(nx.connected_components(GT_char), key=len, reverse=True)\n"
      ],
      "metadata": {
        "id": "pCmecbfq5ucZ"
      },
      "execution_count": 10,
      "outputs": []
    },
    {
      "cell_type": "code",
      "execution_count": 11,
      "metadata": {
        "id": "d677071e"
      },
      "outputs": [],
      "source": [
        "communities = community.louvain_communities(GT_char.subgraph(components[0]))"
      ]
    },
    {
      "cell_type": "code",
      "source": [
        "for group in communities:\n",
        "  print(len(group), group)"
      ],
      "metadata": {
        "colab": {
          "base_uri": "https://localhost:8080/"
        },
        "id": "EhSIdFJF7O4L",
        "outputId": "a10a4fee-86cb-4dc6-c8d4-c1286a6eaed2"
      },
      "execution_count": 12,
      "outputs": [
        {
          "output_type": "stream",
          "name": "stdout",
          "text": [
            "89 {'James Lucas', 'Sheriff Hardin', \"O'Connor\", 'Ringmaster', 'Comanche', 'Col. Morty Bennett', 'Jerry', 'Paul Edmonds', 'Blake Tower', 'Sam Stein', 'Mariah Dillard', 'Dinah Madani', 'Krista Dumont', 'Eliza Schultz', 'D.W. Griffith', 'Madame Gao', 'Joy Meachum', 'Willis Stryker', \"Benjamin 'Dex' Poindexter\", 'Lei Kung', 'Det. Sgt. Brett Mahoney', 'Anansi', 'Jack Murdock', 'Rick', 'Ward Meachum', 'Mary Walker', \"'Pistol Pete' Stokes\", 'Turk Barrett', 'Matt Murdock', \"Henry 'Pop' Hunter\", 'Captain Betty Audrey', 'William Rawlins', 'Carl Lucas', 'Ahmad Zubair', 'Stick', 'Detective Nandi Tyler', 'Mouse', 'Hernan Alvarez', 'Captain Tom Ridenhour', 'Marion James', 'Radovan Bernivig', 'Danny Rand', 'Hai-Qing Yang', 'Cornell Stokes', 'Domingo Colon', 'Rosalie Carbone', 'Detective Rafael Scarfe', \"Dontrell 'Cockroach' Hamilton\", 'Shameek Smith', 'Tilda Johnson', 'Elektra Natchios', 'Darryl', 'Wilson Fisk', 'Wendell Rand', 'Wendy', 'Lieutenant Perez', 'Frank Castle', 'BB', 'Dr. Noah Burstein', 'Dante Chapman', 'Detective Mark Bailey', 'Sergei', 'Ben Urich', 'Bakuto', 'Mama Mabel', 'Davos', 'Dana Stryker', 'Misty Knight', 'Carlos', 'Father Lantom', 'Albert Rackham', 'Mitchell Ellison', 'Marci Stahl', 'David Lieberman', 'David Schultz', 'Billy Russo', 'Inspector Priscilla Ridley', 'John Pilgrim', 'Karen Page', \"Raymond 'Piranha' Jones\", 'Benjamin Donovan', \"Wilfredo 'Chico' Diaz\", 'Curtis Hoyle', 'Senator Stan Ori', 'Harold Meachum', 'Colleen Wing', 'Bethany', 'Bobby Fish', 'Carson Wolf'}\n",
            "61 {'Vido Arocho', 'Inez Green', 'Luke Cage', 'Jessica Jones', 'Jackson', 'Griffin Sinclair', 'Thembi Wallace', 'Foggy Nelson', 'Donald', 'Dr. Kozlov', 'Andrew Brandt', 'Shane', 'Ruben', 'Pam', 'Kith Lyonne', 'Sal Blaskowski', 'Barbara Shlottman', 'Zaya Okonjo', 'Jeri Hogarth', 'Sharon', 'Steven Benowitz', 'Carlo Eastman', 'Clair', 'Sowande', 'Albert Thompson', 'Alexandra Reid', 'Trish Walker', 'Dwayne Blaskowski', 'Justis Ambrose', 'Gregory Sallinger', 'Dr. Leslie Hansen', 'Marilyn', 'Wendy Ross-Hogarth', 'Kilgrave', 'Reva Connors', 'Dorothy', \"Maximillian 'Max' Tatum\", 'Doctor David Kurata', 'Malcolm Ducasse', 'Mr. Berkowitz', 'Emma', 'Young Jessica', 'Linda Chao', 'Detective Costa', 'Robyn', 'Claire Temple', 'Audrey Eastman', 'Murakami', 'Oscar Arocho', 'Louise Thompson', 'Det. Oscar Clemons', 'Dr. Karl Malus', \"Robert 'Whizzer' Coleman\", 'Eric Ambrose', 'Bob Shlottman', 'Hope Shlottman', 'Alisa Jones', 'Will Simpson', 'Erik Gelden', 'Luanne', 'Peter Lyonne'}\n",
            "68 {'Okoye-AR', 'Peggy Carter-AR', 'Surtur-AR', 'The Ancient One-AR', 'Batroc-AR', 'Colonel Flynn-AR', 'Wong-AR', 'Bucky Barnes-AR', 'Ultron-AR', 'Dr. Christine Palmer-AR', 'Korg-AR', 'Howard the Duck-AR', 'Nick Fury-AR', 'The Collector-AR', 'Loki-AR', 'Jane Foster-AR', 'Queen Ramonada-AR', 'Bruce Banner-AR', 'Hank Pym-AR', 'Ebony Maw-AR', 'Frigga-AR', 'Clint Barton-AR', 'JARVIS-AR', \"T'Chaka-AR\", 'Dr. Stephen Strange-AR', 'Pepper Potts-AR', 'Howard Stark-AR', 'Gamora-AR', 'Scott Lang-AR', 'Grandmaster-AR', 'Dr. Erskine-AR', 'Agent Coulson-AR', 'Sif-AR', 'Yondu-AR', 'Peter Parker-AR', 'Betty Ross-AR', 'Shuri-AR', 'Hope Van Dyne-AR', 'Sharon Carter-AR', 'James Rhodes-AR', 'Ego-AR', 'Ulysses Klaue-AR', 'Tony stark-AR', 'Obadiah Stane-AR', 'Taserface-AR', 'Kraglin-AR', 'Steve Rogers-AR', 'Carol Denvers-AR', 'Secretary Ross-AR', 'Arnim Zola-AR', 'Maria Hill-AR', 'Happy Hogan-AR', 'Erik Killmonger-AR', \"O'Bengh-AR\", 'Peter Quill-AR', 'Nebula-AR', \"Timothy 'Dum Dum' Dugan-AR\", 'Thanos-AR', 'Korath-AR', 'Brock Rumlow-AR', 'Kurt-AR', 'Christine Everhart-AR', 'Natasha Romanoff-AR', 'Darcy-AR', 'Uatu-AR', \"T'Challa-AR\", 'God of Thunder-AR', 'Proxima Midnight-AR'}\n",
            "40 {'Dennis Bukowski', 'Skeevy Guy', 'Donny Blaze', 'Abomination', 'Luke Jacobson', 'Josh Miller', 'Saracen', 'El Aguila', 'Lulu', 'Daredevil', 'Derek', 'Hank Sanderson', 'Holden Holliway', 'Mr. Immortal', 'Jennifer Walters', 'Aunt Melanie', 'Titania', 'Cousin Ched', 'Alan', 'Nikki Ramos', 'Madisynn', 'Eugene Patilio', 'Thunderball', 'Noah', 'Uncle Tucker', 'Arthur', 'Porcupine', 'Morris Walters', 'Chuck Donelan', 'Runa', 'Mallory Book', \"Augustus 'Pug' Pugliese\", 'Pedro The Bartender', 'Man-Bull', 'Skaar', 'Judge Price', 'Heather', 'Wrecker', 'Cornelius P. Willows', 'Elaine Walters'}\n",
            "28 {'Sarah Wilson', 'Dr. Christina Raynor', 'Nico', 'Sharon Carter', 'Sara Haines', 'Joaquin Torres', 'Dovich', 'AJ', 'Olivia Walker', 'Karli Morgenthau', 'Cass', 'Alonso Barber', 'Mama Donya', 'Battlestar', 'Lennox', 'Unique', 'Baron Zemo', 'Diego', 'Eli Bradley', 'Ayo', 'Senator Atwood', 'DeeDee', 'Valentina Allegra de Fontaine', 'Gigi', 'Georges Batroc', 'John Walker', 'Matias', 'Isaiah Bradley'}\n",
            "40 {'Flash Thompson', 'Agent Deever', 'Red Dagger', 'Zoe', 'Guterman', 'Aamir', 'Victoria', 'Brad Davis', 'MJ', 'Bruno', 'Nakia', 'Peter Parker2', 'Mr. Dell', 'Coach Wilson', 'J. Jonah Jameson', 'William Ginter Riva', 'Peter Parker3', 'Najma', 'Muneeba', 'Auntie Zara', 'Sana', 'Max Dillon', 'Sheikh Abdullah', 'Norman Osborn', 'Flint Marko', 'Kamala Khan', 'Kamran', 'Jason Ionello', 'MIT Assistant Vice Chancellor', 'Ned Leeds', 'Betty Brant', 'Mr. Harrington', 'Agent Cleary', 'Janice', 'Quentin Beck', 'Auntie Ruby', 'Dr. Otto Octavius', 'Yusuf', 'Dr. Curt Connors', 'E.D.I.T.H.'}\n",
            "22 {'Agent Vega', 'Happy Sam Sawyer', 'Dr. Ivchenko', 'Rufus', 'Dottie Underwood', 'Agent Fisher', 'Vernon Masters', 'Jack Thompson', 'Agent Blackwell', 'Edwin Jarvis', 'Roger Dooley', 'Calvin Chadwick', 'Joseph Manfredi', 'Hank', 'Whitney Frost', 'Hugh Jones', 'Dr. Arnim Zola', 'Carol', 'Detective Andrew Henry', 'Agent Ford', 'Jason Wilkes', 'Ana Jarvis'}\n",
            "54 {'Tibor', 'Dennis the Mailman', 'Darcy Lewis', 'Bronaja', 'Carol Denvers', 'Black Bolt', 'Karnak', 'Jen', 'Herb', 'Elena Chavez', 'Dr. Evan Declan', 'Billy Maximoff', 'Dr. Nic West', 'Daniel Drumm', 'Triton', 'Kitang', 'Amalia Chavez', 'Reno', 'Dr. Christine Palmer', 'Professor Charles Xavier', 'Audrey', 'Queen Rynda', 'Agnes', 'Kaecilius', 'Louise', 'Maximus', 'Director Tyler Hayward', 'Jonathan Pangborn', 'Agent Monti', 'The Weasel', 'Dave', 'Medusa', 'Gorgon', 'Locus', 'Reed Richards', 'Sammy', 'Auran', 'Dottie Jones', 'Master Hamir', 'Jimmy Woo', 'Eldrac', 'King Agon', 'Phil Jones', 'America Chavez', 'Baron Mordo', 'Agent Rodriguez', 'Beverly', 'Crystal', 'Monica Rambeau', 'Pietro Maximoff', 'Norm', 'Tommy Maximoff', 'Mrs. Hart', 'Mordis'}\n",
            "48 {'Jemma Simmons', 'Andrew Garner', \"Alphonso 'Mack' Mackenzie\", 'Agent Weaver', 'Sunil Bakshi', 'Bobbi Morse', 'Aida', 'Daniel Whitehall', 'Flint', 'Gideon Malick', 'Antoine Triplett', 'Raina', 'Glenn Talbot', 'Alpha Dog', 'Agent Piper', 'Night Waitress', 'Calvin Zabo', 'Colonel Victor Ramon', \"Timothy 'Dum Dum' Dugan\", 'Jiaying', \"Elena 'Yo-Yo' Rodriguez\", 'Kasius', 'Grant Ward', 'Sif', \"Daisy 'Skye' Johnson\", 'Daniel Sousa', 'Enoch', 'Nathaniel Malick', 'Agent Davis', 'Melinda May', 'Lance Hunter', 'Mike Peterson', 'Ian Quinn', 'Agent Coulson', 'Daisy Johnson', 'Holden Radcliffe', 'Gordon', 'Carl Creel', 'Anton Ivanov', 'Leo Fitz', 'Deke Shaw', 'General Hale', 'Lincoln Campbell', 'Ghost Rider', 'Sinara', 'Agent Anderson', 'Jeffrey Mace', 'Giyera'}\n",
            "25 {'Gao Lei', 'John', 'Klev', 'Mrs. Chen', 'White Power Dave', 'Ying Nan', 'Xialing', 'Razor Fist', 'Fletcher Heggs', 'Jackson Norris', 'Yuchen', 'Death Dealer', 'Herman', 'Shaun', 'Young Xialing', 'Xu Wenwu', 'Soo', 'Master Guang Bo', 'Chancellor Hui', 'Li', 'Ruihua', 'Waipo', 'Jon Jon', 'Trevor Slattery', 'Katy'}\n",
            "7 {'Mobius', 'Casey', 'Sylvie', 'Ravonna Renslayer', 'Hunter B-15', 'He Who Remains', 'Miss Minutes'}\n",
            "191 {'Kingpin', 'Pepper Potts', 'Friday', 'Will Adams', 'Korath', 'Vision', 'Corvus Glaive', 'Okoye', 'Thomas Roberts', 'Ego', 'Natasha Romanoff', 'Hercules', 'Algrim', 'Morgan Stark', 'Mr. Delmar', 'Tomas', 'Jim Morita', 'Yondu Udonta', 'Habooska the Horrible', 'Nick Fury', 'Brandt', 'Rebel Skrull leader Gravik', 'Erik Killmonger', 'Eitri', 'Peter Quill', \"W'Kabi\", 'Wanda Maximoff', \"T'Chaka\", 'Samuel Sterns', 'Agent Flynn', 'Savin', 'Malekith', 'Dreykov', 'Alexander Pierce', 'Gorr', 'Secretary Ross', 'Emil Blonsky', 'Yelena Boleva', 'Liz', 'Aaron Davis', 'Hank Pym', 'Ava', 'Agent Sitwell', 'Maria Hill', 'Peggy Carter', 'Betty Ross', 'Raza', 'Bucky Barnes', 'Kraglin', 'Groot', 'Dr. Stephen Strange', 'Obadiah Stane', 'Topaz', 'Fiz', 'Scott Lang', 'Agent Blake', 'Bennie Pollock', 'Mantis', 'Supreme Intelligence', 'Jarvis', 'Gamora', 'Rocket', 'JARVIS', 'Akihiko', 'Jane Foster', 'Antonia', 'Frank', 'Iwua', 'James Rhodes', \"M'Baku\", 'Kurt', 'Yinsen', 'Senator Stern', 'Heinz Kruger', 'Nathaniel Barton', 'Colonel Chester Phillips', 'Darren Cross', 'Hogun', 'Ebony Maw', 'Dr. Hank Pym', 'Fandral', 'Asgardian Stagehand', 'Ulysses Klaue', 'Howard Stark', 'King Valkyrie', 'Loki', 'Korg', 'Bruce Banner', 'Justin Hammer', 'Claire Weiss', 'Clint Barton', 'God of Thunder', 'Yondu', 'Surtur', 'Christine Everhart', 'Frigga', \"King T'Chaka\", 'Jack Rollins', 'President Ellis', 'Grills', \"T'Challa\", 'Ivan Vanko', 'Ayesha', 'Abu Bakaar', 'Valkyrie', 'Cooper Barton', 'Detective Rivera', 'Skurge', 'Yon-Rogg', 'Eleanor Bishop', 'Melina', 'Kazi', 'The Collector', 'Happy Hogan', 'Odin', 'Dr. Bill Foster', 'Maya Hansen', 'Cassie Lang', 'Paxton', 'Alexei', 'Dale', 'Minn-Erva', 'Nebula', 'Herman Schultz', 'Brock Rumlow', 'Maya Lopez', 'The Ancient One', 'Tony Stark', 'King Laufey', 'Strucker', 'Enrique', 'Wong', 'Zemo', 'Everett K. Ross', 'Ned', 'Laura Barton', 'Special Agent Sonya Falsworth', 'Luis', 'Aunt May', 'Adrian Toomes', 'King Yakan', 'On-Set Rocket', 'Zuri', 'Pat Kiernan', 'Cull Obsidian', 'Janet Van Dyne', 'Jack Duquesne', 'Steve Rogers', 'Volstagg', 'Talos', \"N'Jobu\", 'Major Allen', 'Taserface', 'Lila Barton', 'Peter Parker', 'Sonny Burch', 'Maggie', 'May Parker', 'Zeus', 'Detective Caudle', 'Baby Groot', 'Thanos', 'Maria Rambeau', 'Thor', 'Sam Wilson', 'Shuri', 'Heimdall', 'Ramonada', 'Ivan', 'Nova Prime', 'Harley Keener', 'Meredith Quill', 'Aldrich Killian', 'Tiny', 'Mrs. Davis', 'Johann Schmidt', 'Yelena Belova', 'Hela', 'Carol Danvers', 'Proxima Midnight', 'Kate Bishop', 'Miek', 'Dr. Helen Cho', 'Hope Van Dyne', 'FSB Commander', 'Ultron', 'Drax', 'Erik Selvig', 'Ronan', 'Mason', 'Grandmaster'}\n"
          ]
        }
      ]
    }
  ]
}